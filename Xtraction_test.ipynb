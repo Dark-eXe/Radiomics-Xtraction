{
 "cells": [
  {
   "cell_type": "code",
   "execution_count": 41,
   "id": "56ad8ef8-9832-400b-8b23-84a39d029600",
   "metadata": {},
   "outputs": [],
   "source": [
    "import os\n",
    "import six\n",
    "import radiomics\n",
    "from radiomics import featureextractor  # This module is used for interaction with pyradiomics"
   ]
  },
  {
   "cell_type": "code",
   "execution_count": 47,
   "id": "a370cb32-7587-4a0e-9f82-03133ab94469",
   "metadata": {},
   "outputs": [
    {
     "data": {
      "text/plain": [
       "'/Users/andrewturangan/Local/BME 528/Feature Extraction'"
      ]
     },
     "execution_count": 47,
     "metadata": {},
     "output_type": "execute_result"
    }
   ],
   "source": [
    "path = os.getcwd()\n",
    "path"
   ]
  },
  {
   "cell_type": "code",
   "execution_count": 51,
   "id": "3894cfc2-3398-4fc5-9f1d-89f4fa5765e8",
   "metadata": {},
   "outputs": [
    {
     "data": {
      "text/plain": [
       "True"
      ]
     },
     "execution_count": 51,
     "metadata": {},
     "output_type": "execute_result"
    }
   ],
   "source": [
    "os.listdir(path + '/Images/Water')[0].startswith('Water_')"
   ]
  },
  {
   "cell_type": "markdown",
   "id": "d2a0f7b8-17df-4865-bc44-4128dfe8687d",
   "metadata": {},
   "source": [
    "## Specify image and mask file paths"
   ]
  },
  {
   "cell_type": "code",
   "execution_count": 11,
   "id": "993f31ca-f392-4902-a19a-b0d40b194619",
   "metadata": {},
   "outputs": [],
   "source": [
    "imagePath, maskPath = \"Water_100kVp_1FBP_3mm.nii\", \"Water_3mm.nii\""
   ]
  },
  {
   "cell_type": "markdown",
   "id": "90624bb2-65b5-4b93-b210-1086f80853e7",
   "metadata": {},
   "source": [
    "in CaPTk, img.nii produced with \"save image\" with all slices, mask produced with \"save ROI\""
   ]
  },
  {
   "cell_type": "code",
   "execution_count": null,
   "id": "0f2dc22d-1f8b-456c-88d3-f1fcdbc05419",
   "metadata": {},
   "outputs": [],
   "source": []
  },
  {
   "cell_type": "markdown",
   "id": "7c42e2fe-03c7-4062-b74f-6c49d3690837",
   "metadata": {},
   "source": [
    "## Feature Extraction"
   ]
  },
  {
   "cell_type": "code",
   "execution_count": 3,
   "id": "3062f7a6-7b3e-4633-a734-83fface9c53a",
   "metadata": {},
   "outputs": [
    {
     "name": "stdout",
     "output_type": "stream",
     "text": [
      "Extraction parameters:\n",
      "\t {'minimumROIDimensions': 2, 'minimumROISize': None, 'normalize': False, 'normalizeScale': 1, 'removeOutliers': None, 'resampledPixelSpacing': None, 'interpolator': 'sitkBSpline', 'preCrop': False, 'padDistance': 5, 'distances': [1], 'force2D': False, 'force2Ddimension': 0, 'resegmentRange': None, 'label': 1, 'additionalInfo': True}\n",
      "Enabled filters:\n",
      "\t {'Original': {}}\n",
      "Enabled features:\n",
      "\t {'firstorder': [], 'glcm': [], 'gldm': [], 'glrlm': [], 'glszm': [], 'ngtdm': [], 'shape': []}\n"
     ]
    }
   ],
   "source": [
    "# Instantiate the extractor\n",
    "extractor = featureextractor.RadiomicsFeatureExtractor()\n",
    "\n",
    "print('Extraction parameters:\\n\\t', extractor.settings)\n",
    "print('Enabled filters:\\n\\t', extractor.enabledImagetypes)\n",
    "print('Enabled features:\\n\\t', extractor.enabledFeatures)"
   ]
  },
  {
   "cell_type": "markdown",
   "id": "334ac909-6081-4e96-9127-742af8dd72af",
   "metadata": {},
   "source": [
    "### Execute feature extraction"
   ]
  },
  {
   "cell_type": "code",
   "execution_count": 12,
   "id": "0dc96a1c-92bb-4371-ab59-91b04178cb73",
   "metadata": {},
   "outputs": [
    {
     "name": "stderr",
     "output_type": "stream",
     "text": [
      "GLCM is symmetrical, therefore Sum Average = 2 * Joint Average, only 1 needs to be calculated\n"
     ]
    }
   ],
   "source": [
    "result = extractor.execute(imagePath, maskPath)"
   ]
  },
  {
   "cell_type": "markdown",
   "id": "3a6bce19-4de4-4300-be53-83b04fe6adff",
   "metadata": {},
   "source": [
    "### Results"
   ]
  },
  {
   "cell_type": "code",
   "execution_count": 13,
   "id": "3fed58e0-3fea-4b26-b872-03ab4dd536e3",
   "metadata": {},
   "outputs": [
    {
     "name": "stdout",
     "output_type": "stream",
     "text": [
      "Result type: <class 'collections.OrderedDict'>\n",
      "\n",
      "Calculated features\n",
      "\t diagnostics_Versions_PyRadiomics : v3.0.1\n",
      "\t diagnostics_Versions_Numpy : 1.26.3\n",
      "\t diagnostics_Versions_SimpleITK : 2.3.1-g42ce2\n",
      "\t diagnostics_Versions_PyWavelet : 1.5.0\n",
      "\t diagnostics_Versions_Python : 3.11.4\n",
      "\t diagnostics_Configuration_Settings : {'minimumROIDimensions': 2, 'minimumROISize': None, 'normalize': False, 'normalizeScale': 1, 'removeOutliers': None, 'resampledPixelSpacing': None, 'interpolator': 'sitkBSpline', 'preCrop': False, 'padDistance': 5, 'distances': [1], 'force2D': False, 'force2Ddimension': 0, 'resegmentRange': None, 'label': 1, 'additionalInfo': True}\n",
      "\t diagnostics_Configuration_EnabledImageTypes : {'Original': {}}\n",
      "\t diagnostics_Image-original_Hash : abce18fe47b5745273f95e342b693ab4c39bfd64\n",
      "\t diagnostics_Image-original_Dimensionality : 3D\n",
      "\t diagnostics_Image-original_Spacing : (0.720703125, 0.720703125, 3.0)\n",
      "\t diagnostics_Image-original_Size : (512, 512, 29)\n",
      "\t diagnostics_Image-original_Mean : -358.0088666718582\n",
      "\t diagnostics_Image-original_Minimum : -1024.0\n",
      "\t diagnostics_Image-original_Maximum : 222.0\n",
      "\t diagnostics_Mask-original_Hash : 5aca2f8889dd93f1925c4df4cdc1b3fd91bf392a\n",
      "\t diagnostics_Mask-original_Spacing : (0.720703125, 0.720703125, 3.0)\n",
      "\t diagnostics_Mask-original_Size : (512, 512, 29)\n",
      "\t diagnostics_Mask-original_BoundingBox : (139, 133, 12, 199, 215, 5)\n",
      "\t diagnostics_Mask-original_VoxelNum : 17843\n",
      "\t diagnostics_Mask-original_VolumeNum : 17\n",
      "\t diagnostics_Mask-original_CenterOfMassIndex : (238.25573053858656, 255.88892002465954, 13.759625623493807)\n",
      "\t diagnostics_Mask-original_CenterOfMass : (-17.42799888918273, -235.2197041228528, -482.22112312951856)\n",
      "\t original_shape_Elongation : 0.8206979321888082\n",
      "\t original_shape_Flatness : 0.07962245772812032\n",
      "\t original_shape_LeastAxisLength : 13.02406272123119\n",
      "\t original_shape_MajorAxisLength : 163.57272926318464\n",
      "\t original_shape_Maximum2DDiameterColumn : 131.16796875\n",
      "\t original_shape_Maximum2DDiameterRow : 152.81851203185073\n",
      "\t original_shape_Maximum2DDiameterSlice : 173.00628254899334\n",
      "\t original_shape_Maximum3DDiameter : 173.6181565454102\n",
      "\t original_shape_MeshVolume : 27100.63268852234\n",
      "\t original_shape_MinorAxisLength : 134.24380066877538\n",
      "\t original_shape_Sphericity : 0.20031597871575338\n",
      "\t original_shape_SurfaceArea : 21781.518392175312\n",
      "\t original_shape_SurfaceVolumeRatio : 0.803727301960748\n",
      "\t original_shape_VoxelVolume : 27803.65817642212\n",
      "\t original_firstorder_10Percentile : -30.0\n",
      "\t original_firstorder_90Percentile : 29.0\n",
      "\t original_firstorder_Energy : 9495435.0\n",
      "\t original_firstorder_Entropy : 1.9950778565437433\n",
      "\t original_firstorder_InterquartileRange : 31.0\n",
      "\t original_firstorder_Kurtosis : 3.06793116271536\n",
      "\t original_firstorder_Maximum : 98.0\n",
      "\t original_firstorder_MeanAbsoluteDeviation : 18.367666916010737\n",
      "\t original_firstorder_Mean : -0.33957294176988173\n",
      "\t original_firstorder_Median : 0.0\n",
      "\t original_firstorder_Minimum : -95.0\n",
      "\t original_firstorder_Range : 193.0\n",
      "\t original_firstorder_RobustMeanAbsoluteDeviation : 12.977132688974843\n",
      "\t original_firstorder_RootMeanSquared : 23.068719846181118\n",
      "\t original_firstorder_Skewness : 0.010940515665390964\n",
      "\t original_firstorder_TotalEnergy : 14796156.979007721\n",
      "\t original_firstorder_Uniformity : 0.2933713285150949\n",
      "\t original_firstorder_Variance : 532.0505255588083\n",
      "\t original_glcm_Autocorrelation : 20.892388323377126\n",
      "\t original_glcm_ClusterProminence : 16.171168603630363\n",
      "\t original_glcm_ClusterShade : -0.19954552369815248\n",
      "\t original_glcm_ClusterTendency : 2.2975405646932554\n",
      "\t original_glcm_Contrast : 1.5569909611990869\n",
      "\t original_glcm_Correlation : 0.1934839610901764\n",
      "\t original_glcm_DifferenceAverage : 0.9397951135109186\n",
      "\t original_glcm_DifferenceEntropy : 1.672764528985194\n",
      "\t original_glcm_DifferenceVariance : 0.6659158768317159\n",
      "\t original_glcm_Id : 0.6208581617647303\n",
      "\t original_glcm_Idm : 0.591286294786356\n",
      "\t original_glcm_Idmn : 0.9772530639791704\n",
      "\t original_glcm_Idn : 0.9021315973395355\n",
      "\t original_glcm_Imc1 : -0.03175492085934331\n",
      "\t original_glcm_Imc2 : 0.32701247690997537\n",
      "\t original_glcm_InverseVariance : 0.5103587011580679\n",
      "\t original_glcm_JointAverage : 4.550414803183396\n",
      "\t original_glcm_JointEnergy : 0.0856585534323109\n",
      "\t original_glcm_JointEntropy : 3.970443242533441\n",
      "\t original_glcm_MCC : 0.24039741913999652\n",
      "\t original_glcm_MaximumProbability : 0.14083041327622953\n",
      "\t original_glcm_SumAverage : 9.100829606366792\n",
      "\t original_glcm_SumEntropy : 2.632182192054254\n",
      "\t original_glcm_SumSquares : 0.9636328814730859\n",
      "\t original_gldm_DependenceEntropy : 4.5732428953296\n",
      "\t original_gldm_DependenceNonUniformity : 3016.1755870649554\n",
      "\t original_gldm_DependenceNonUniformityNormalized : 0.16903971232780113\n",
      "\t original_gldm_DependenceVariance : 2.8825304965188763\n",
      "\t original_gldm_GrayLevelNonUniformity : 5234.624614694838\n",
      "\t original_gldm_GrayLevelVariance : 0.9306739474344732\n",
      "\t original_gldm_HighGrayLevelEmphasis : 21.238468867342934\n",
      "\t original_gldm_LargeDependenceEmphasis : 17.47267836126212\n",
      "\t original_gldm_LargeDependenceHighGrayLevelEmphasis : 364.12385809561175\n",
      "\t original_gldm_LargeDependenceLowGrayLevelEmphasis : 0.9441956866346083\n",
      "\t original_gldm_LowGrayLevelEmphasis : 0.05861246281658248\n",
      "\t original_gldm_SmallDependenceEmphasis : 0.1614926702137708\n",
      "\t original_gldm_SmallDependenceHighGrayLevelEmphasis : 3.5830993144878542\n",
      "\t original_gldm_SmallDependenceLowGrayLevelEmphasis : 0.011712763962119784\n",
      "\t original_glrlm_GrayLevelNonUniformity : 4563.21551601918\n",
      "\t original_glrlm_GrayLevelNonUniformityNormalized : 0.284707237857798\n",
      "\t original_glrlm_GrayLevelVariance : 0.9837502217853316\n",
      "\t original_glrlm_HighGrayLevelRunEmphasis : 21.293246790594175\n",
      "\t original_glrlm_LongRunEmphasis : 1.6733142428052774\n",
      "\t original_glrlm_LongRunHighGrayLevelEmphasis : 35.31141124380183\n",
      "\t original_glrlm_LongRunLowGrayLevelEmphasis : 0.09561437457270537\n",
      "\t original_glrlm_LowGrayLevelRunEmphasis : 0.059284351369314085\n",
      "\t original_glrlm_RunEntropy : 2.483622206925855\n",
      "\t original_glrlm_RunLengthNonUniformity : 13960.0297279274\n",
      "\t original_glrlm_RunLengthNonUniformityNormalized : 0.8378510185844263\n",
      "\t original_glrlm_RunPercentage : 0.8915497997490937\n",
      "\t original_glrlm_RunVariance : 0.26109602407797805\n",
      "\t original_glrlm_ShortRunEmphasis : 0.9138428177437026\n",
      "\t original_glrlm_ShortRunHighGrayLevelEmphasis : 19.482839165140728\n",
      "\t original_glrlm_ShortRunLowGrayLevelEmphasis : 0.0545225267648936\n",
      "\t original_glszm_GrayLevelNonUniformity : 638.7023733162283\n",
      "\t original_glszm_GrayLevelNonUniformityNormalized : 0.2048436091456794\n",
      "\t original_glszm_GrayLevelVariance : 2.1652496974878637\n",
      "\t original_glszm_HighGrayLevelZoneEmphasis : 22.49615137908916\n",
      "\t original_glszm_LargeAreaEmphasis : 495.53014753046824\n",
      "\t original_glszm_LargeAreaHighGrayLevelEmphasis : 9798.881334188582\n",
      "\t original_glszm_LargeAreaLowGrayLevelEmphasis : 26.47346313974596\n",
      "\t original_glszm_LowGrayLevelZoneEmphasis : 0.07492083400604202\n",
      "\t original_glszm_SizeZoneNonUniformity : 722.9589480436177\n",
      "\t original_glszm_SizeZoneNonUniformityNormalized : 0.23186624375998002\n",
      "\t original_glszm_SmallAreaEmphasis : 0.48655399418118445\n",
      "\t original_glszm_SmallAreaHighGrayLevelEmphasis : 11.228642981344416\n",
      "\t original_glszm_SmallAreaLowGrayLevelEmphasis : 0.04173546615457126\n",
      "\t original_glszm_ZoneEntropy : 5.259405855308562\n",
      "\t original_glszm_ZonePercentage : 0.17474639914812531\n",
      "\t original_glszm_ZoneVariance : 462.7822419718566\n",
      "\t original_ngtdm_Busyness : 57.12605919481615\n",
      "\t original_ngtdm_Coarseness : 0.0003923410986673042\n",
      "\t original_ngtdm_Complexity : 16.983565082489953\n",
      "\t original_ngtdm_Contrast : 0.020557315003635033\n",
      "\t original_ngtdm_Strength : 0.008961154580720849\n"
     ]
    }
   ],
   "source": [
    "print('Result type:', type(result))  # result is returned in a Python ordered dictionary)\n",
    "print('')\n",
    "print('Calculated features')\n",
    "for key, value in six.iteritems(result):\n",
    "    print('\\t', key, ':', value)"
   ]
  },
  {
   "cell_type": "code",
   "execution_count": 38,
   "id": "5635665b-d3f0-470b-8fe9-77b6e8e6b37a",
   "metadata": {},
   "outputs": [],
   "source": [
    "features = list(result.keys())[22:]"
   ]
  },
  {
   "cell_type": "code",
   "execution_count": 39,
   "id": "0aa707df-93aa-497a-8bbc-adba20c988b7",
   "metadata": {},
   "outputs": [
    {
     "data": {
      "text/plain": [
       "['original_shape_Elongation',\n",
       " 'original_shape_Flatness',\n",
       " 'original_shape_LeastAxisLength',\n",
       " 'original_shape_MajorAxisLength',\n",
       " 'original_shape_Maximum2DDiameterColumn',\n",
       " 'original_shape_Maximum2DDiameterRow',\n",
       " 'original_shape_Maximum2DDiameterSlice',\n",
       " 'original_shape_Maximum3DDiameter',\n",
       " 'original_shape_MeshVolume',\n",
       " 'original_shape_MinorAxisLength',\n",
       " 'original_shape_Sphericity',\n",
       " 'original_shape_SurfaceArea',\n",
       " 'original_shape_SurfaceVolumeRatio',\n",
       " 'original_shape_VoxelVolume',\n",
       " 'original_firstorder_10Percentile',\n",
       " 'original_firstorder_90Percentile',\n",
       " 'original_firstorder_Energy',\n",
       " 'original_firstorder_Entropy',\n",
       " 'original_firstorder_InterquartileRange',\n",
       " 'original_firstorder_Kurtosis',\n",
       " 'original_firstorder_Maximum',\n",
       " 'original_firstorder_MeanAbsoluteDeviation',\n",
       " 'original_firstorder_Mean',\n",
       " 'original_firstorder_Median',\n",
       " 'original_firstorder_Minimum',\n",
       " 'original_firstorder_Range',\n",
       " 'original_firstorder_RobustMeanAbsoluteDeviation',\n",
       " 'original_firstorder_RootMeanSquared',\n",
       " 'original_firstorder_Skewness',\n",
       " 'original_firstorder_TotalEnergy',\n",
       " 'original_firstorder_Uniformity',\n",
       " 'original_firstorder_Variance',\n",
       " 'original_glcm_Autocorrelation',\n",
       " 'original_glcm_ClusterProminence',\n",
       " 'original_glcm_ClusterShade',\n",
       " 'original_glcm_ClusterTendency',\n",
       " 'original_glcm_Contrast',\n",
       " 'original_glcm_Correlation',\n",
       " 'original_glcm_DifferenceAverage',\n",
       " 'original_glcm_DifferenceEntropy',\n",
       " 'original_glcm_DifferenceVariance',\n",
       " 'original_glcm_Id',\n",
       " 'original_glcm_Idm',\n",
       " 'original_glcm_Idmn',\n",
       " 'original_glcm_Idn',\n",
       " 'original_glcm_Imc1',\n",
       " 'original_glcm_Imc2',\n",
       " 'original_glcm_InverseVariance',\n",
       " 'original_glcm_JointAverage',\n",
       " 'original_glcm_JointEnergy',\n",
       " 'original_glcm_JointEntropy',\n",
       " 'original_glcm_MCC',\n",
       " 'original_glcm_MaximumProbability',\n",
       " 'original_glcm_SumAverage',\n",
       " 'original_glcm_SumEntropy',\n",
       " 'original_glcm_SumSquares',\n",
       " 'original_gldm_DependenceEntropy',\n",
       " 'original_gldm_DependenceNonUniformity',\n",
       " 'original_gldm_DependenceNonUniformityNormalized',\n",
       " 'original_gldm_DependenceVariance',\n",
       " 'original_gldm_GrayLevelNonUniformity',\n",
       " 'original_gldm_GrayLevelVariance',\n",
       " 'original_gldm_HighGrayLevelEmphasis',\n",
       " 'original_gldm_LargeDependenceEmphasis',\n",
       " 'original_gldm_LargeDependenceHighGrayLevelEmphasis',\n",
       " 'original_gldm_LargeDependenceLowGrayLevelEmphasis',\n",
       " 'original_gldm_LowGrayLevelEmphasis',\n",
       " 'original_gldm_SmallDependenceEmphasis',\n",
       " 'original_gldm_SmallDependenceHighGrayLevelEmphasis',\n",
       " 'original_gldm_SmallDependenceLowGrayLevelEmphasis',\n",
       " 'original_glrlm_GrayLevelNonUniformity',\n",
       " 'original_glrlm_GrayLevelNonUniformityNormalized',\n",
       " 'original_glrlm_GrayLevelVariance',\n",
       " 'original_glrlm_HighGrayLevelRunEmphasis',\n",
       " 'original_glrlm_LongRunEmphasis',\n",
       " 'original_glrlm_LongRunHighGrayLevelEmphasis',\n",
       " 'original_glrlm_LongRunLowGrayLevelEmphasis',\n",
       " 'original_glrlm_LowGrayLevelRunEmphasis',\n",
       " 'original_glrlm_RunEntropy',\n",
       " 'original_glrlm_RunLengthNonUniformity',\n",
       " 'original_glrlm_RunLengthNonUniformityNormalized',\n",
       " 'original_glrlm_RunPercentage',\n",
       " 'original_glrlm_RunVariance',\n",
       " 'original_glrlm_ShortRunEmphasis',\n",
       " 'original_glrlm_ShortRunHighGrayLevelEmphasis',\n",
       " 'original_glrlm_ShortRunLowGrayLevelEmphasis',\n",
       " 'original_glszm_GrayLevelNonUniformity',\n",
       " 'original_glszm_GrayLevelNonUniformityNormalized',\n",
       " 'original_glszm_GrayLevelVariance',\n",
       " 'original_glszm_HighGrayLevelZoneEmphasis',\n",
       " 'original_glszm_LargeAreaEmphasis',\n",
       " 'original_glszm_LargeAreaHighGrayLevelEmphasis',\n",
       " 'original_glszm_LargeAreaLowGrayLevelEmphasis',\n",
       " 'original_glszm_LowGrayLevelZoneEmphasis',\n",
       " 'original_glszm_SizeZoneNonUniformity',\n",
       " 'original_glszm_SizeZoneNonUniformityNormalized',\n",
       " 'original_glszm_SmallAreaEmphasis',\n",
       " 'original_glszm_SmallAreaHighGrayLevelEmphasis',\n",
       " 'original_glszm_SmallAreaLowGrayLevelEmphasis',\n",
       " 'original_glszm_ZoneEntropy',\n",
       " 'original_glszm_ZonePercentage',\n",
       " 'original_glszm_ZoneVariance',\n",
       " 'original_ngtdm_Busyness',\n",
       " 'original_ngtdm_Coarseness',\n",
       " 'original_ngtdm_Complexity',\n",
       " 'original_ngtdm_Contrast',\n",
       " 'original_ngtdm_Strength']"
      ]
     },
     "execution_count": 39,
     "metadata": {},
     "output_type": "execute_result"
    }
   ],
   "source": [
    "features"
   ]
  },
  {
   "cell_type": "code",
   "execution_count": 40,
   "id": "3c52be8b-03c9-4049-b975-035634b71747",
   "metadata": {},
   "outputs": [],
   "source": [
    "feature_space = {}"
   ]
  },
  {
   "cell_type": "code",
   "execution_count": null,
   "id": "5359de45-fd33-49c7-8b15-20de864c965d",
   "metadata": {},
   "outputs": [],
   "source": []
  }
 ],
 "metadata": {
  "kernelspec": {
   "display_name": "Python 3 (ipykernel)",
   "language": "python",
   "name": "python3"
  },
  "language_info": {
   "codemirror_mode": {
    "name": "ipython",
    "version": 3
   },
   "file_extension": ".py",
   "mimetype": "text/x-python",
   "name": "python",
   "nbconvert_exporter": "python",
   "pygments_lexer": "ipython3",
   "version": "3.11.4"
  }
 },
 "nbformat": 4,
 "nbformat_minor": 5
}
