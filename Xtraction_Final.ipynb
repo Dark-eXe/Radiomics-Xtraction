{
 "cells": [
  {
   "cell_type": "markdown",
   "id": "61e46212-d29e-422d-8244-93666d35014d",
   "metadata": {},
   "source": [
    "# Radiomics Feature Extraction - Liver Phantom (Final Version)\n",
    "## This Python notebook performs feature extraction on the given liver phantoms.\n",
    "Input: image and mask file paths (.nii extensions) <br>\n",
    "Output: Liver\\<ROI segment>.csv spreadsheets of radiomic features"
   ]
  },
  {
   "cell_type": "code",
   "execution_count": 1,
   "id": "ae51306f-76db-47e6-994e-10aba5584b29",
   "metadata": {},
   "outputs": [],
   "source": [
    "import os\n",
    "import six\n",
    "import pandas as pd\n",
    "import radiomics\n",
    "from radiomics import featureextractor"
   ]
  },
  {
   "cell_type": "code",
   "execution_count": 2,
   "id": "f64f1207-b6f9-4bcf-9d99-24faea7e400e",
   "metadata": {},
   "outputs": [
    {
     "data": {
      "text/plain": [
       "'/Users/andrewturangan/Local/BME 528/Radiomics-Xtraction'"
      ]
     },
     "execution_count": 2,
     "metadata": {},
     "output_type": "execute_result"
    }
   ],
   "source": [
    "path = os.getcwd()\n",
    "path"
   ]
  },
  {
   "cell_type": "markdown",
   "id": "d1326a45-b82f-46d5-bdd3-9e3439efceef",
   "metadata": {},
   "source": [
    "## Instantiate Extractor"
   ]
  },
  {
   "cell_type": "code",
   "execution_count": 3,
   "id": "8bfaf162-5a4c-4677-b208-4d9e038b25a8",
   "metadata": {},
   "outputs": [],
   "source": [
    "extractor = featureextractor.RadiomicsFeatureExtractor()\n",
    "\n",
    "#print('Extraction parameters:\\n\\t', extractor.settings)\n",
    "#print('Enabled filters:\\n\\t', extractor.enabledImagetypes)\n",
    "#print('Enabled features:\\n\\t', extractor.enabledFeatures)"
   ]
  },
  {
   "cell_type": "markdown",
   "id": "2cac87af-0977-4929-9f8b-beec0c45f2b2",
   "metadata": {},
   "source": [
    "## Variables Setup"
   ]
  },
  {
   "cell_type": "code",
   "execution_count": 4,
   "id": "1d164b50-3cd8-4440-9a44-c4a08e71e27f",
   "metadata": {},
   "outputs": [],
   "source": [
    "imagePath, maskPath = '', ''\n",
    "maskPath_primer = path + '/Liver_Masks_New'\n",
    "features, feature_space_element, feature_space = [], {}, {}"
   ]
  },
  {
   "cell_type": "code",
   "execution_count": 5,
   "id": "de534662-77d7-45a9-80c7-37c48d48b6d0",
   "metadata": {},
   "outputs": [],
   "source": [
    "liver_images = os.listdir(path + '/Images/Liver/Liver_40dose/')\n",
    "liver60 = os.listdir(path + '/Images/Liver/Liver_60dose/')\n",
    "liver60.remove('.DS_Store')\n",
    "liver100 = os.listdir(path + '/Images/Liver/Liver_100dose/')\n",
    "liver100.remove('.DS_Store')\n",
    "\n",
    "# remove .DS_Store\n",
    "liver_images.remove('.DS_Store')\n",
    "\n",
    "liver_images = liver_images+liver60+liver100\n",
    "\n",
    "\n",
    "#liver_images"
   ]
  },
  {
   "cell_type": "markdown",
   "id": "81420f89-6869-4b35-a9c7-55feeafa0313",
   "metadata": {},
   "source": [
    "## Feature Xtraction (by ROI segment)"
   ]
  },
  {
   "cell_type": "markdown",
   "id": "8971f70b-44e9-4830-8f46-04b1f7d06ac9",
   "metadata": {},
   "source": [
    "## Liver313"
   ]
  },
  {
   "cell_type": "code",
   "execution_count": null,
   "id": "a41349f7-c06e-492b-b252-c85f9dbbcb77",
   "metadata": {},
   "outputs": [],
   "source": [
    "feature_space = {}\n",
    "firstIteration = True\n",
    "for img in liver_images:\n",
    "    \n",
    "    # specify image path\n",
    "    if '40dose' in img:\n",
    "        imagePath = path + '/Images/Liver/Liver_40dose/' + img\n",
    "    elif '60dose' in img:\n",
    "        imagePath = path + '/Images/Liver/Liver_60dose/' + img\n",
    "    else:\n",
    "        imagePath = path + '/Images/Liver/Liver_100dose/' + img\n",
    "\n",
    "    # specify mask path\n",
    "    msk = ''\n",
    "    if 'FBP' in img:\n",
    "        if '0-6mm' in img:\n",
    "            msk = 'Liver313_FBP_0-6mm.nii'\n",
    "        elif '1-5mm' in img:\n",
    "            msk = 'Liver313_FBP_1-5mm.nii'\n",
    "        else:\n",
    "            msk = 'Liver313_FBP_3mm.nii'\n",
    "    else:\n",
    "        if '0-6mm' in img:\n",
    "            msk = 'Liver313_Safire_0-6mm.nii'\n",
    "        elif '1-5mm' in img:\n",
    "            msk = 'Liver313_Safire_1-5mm.nii'\n",
    "        else:\n",
    "            msk = 'Liver313_Safire_3mm.nii'\n",
    "    maskPath = maskPath_primer + '/Liver313/' + msk\n",
    "            \n",
    "\n",
    "    # status\n",
    "    print('Processing...\\timg\\t\\t\\t\\t\\tmsk')\n",
    "    #print(imagePath + '\\n' + maskPath)\n",
    "    print('\\t\\t' + img + '\\t' + msk)\n",
    "    print()\n",
    "\n",
    "    # feature extraction\n",
    "    result = extractor.execute(imagePath, maskPath)\n",
    "\n",
    "    if firstIteration:\n",
    "        features = list(result.keys())[22:] # '0:21' diagnostic features, '22:' radiomic features\n",
    "        firstIteration = False\n",
    "\n",
    "    feature_space_element = {}\n",
    "    for key, value in six.iteritems(result):\n",
    "        if key in features:\n",
    "            feature_space_element[key] = value\n",
    "    feature_space[img[:-4]] = feature_space_element # 'img[:-4]' removes '.nii'\n",
    "\n",
    "    # break # comment for 1 iteration (debugging)\n",
    "\n",
    "print('\\nExtraction complete!')"
   ]
  },
  {
   "cell_type": "code",
   "execution_count": null,
   "id": "db66be6f-445a-4474-a84c-786f48830af6",
   "metadata": {},
   "outputs": [],
   "source": [
    "df313 = pd.DataFrame.from_dict(feature_space).transpose()\n",
    "df313"
   ]
  },
  {
   "cell_type": "code",
   "execution_count": null,
   "id": "51a40f49-b1e6-4689-a0de-7b38352c3f19",
   "metadata": {},
   "outputs": [],
   "source": [
    "df313.to_csv('Liver313.csv')"
   ]
  },
  {
   "cell_type": "markdown",
   "id": "b1a15af2-be5c-403d-9e62-af39bb258b2c",
   "metadata": {},
   "source": [
    "## Liver313-1"
   ]
  },
  {
   "cell_type": "code",
   "execution_count": null,
   "id": "9a1ed568-3942-4582-8680-9d2c2c199723",
   "metadata": {},
   "outputs": [],
   "source": [
    "feature_space = {}\n",
    "firstIteration = True\n",
    "for img in liver_images:\n",
    "    \n",
    "    # specify image path\n",
    "    if '40dose' in img:\n",
    "        imagePath = path + '/Images/Liver/Liver_40dose/' + img\n",
    "    elif '60dose' in img:\n",
    "        imagePath = path + '/Images/Liver/Liver_60dose/' + img\n",
    "    else:\n",
    "        imagePath = path + '/Images/Liver/Liver_100dose/' + img\n",
    "\n",
    "    # specify mask path\n",
    "    msk = ''\n",
    "    if 'FBP' in img:\n",
    "        if '0-6mm' in img:\n",
    "            msk = 'Liver313-1_FBP_0-6mm.nii'\n",
    "        elif '1-5mm' in img:\n",
    "            msk = 'Liver313-1_FBP_1-5mm.nii'\n",
    "        else:\n",
    "            msk = 'Liver313-1_FBP_3mm.nii'\n",
    "    else:\n",
    "        if '0-6mm' in img:\n",
    "            msk = 'Liver313-1_Safire_0-6mm.nii'\n",
    "        elif '1-5mm' in img:\n",
    "            msk = 'Liver313-1_Safire_1-5mm.nii'\n",
    "        else:\n",
    "            msk = 'Liver313-1_Safire_3mm.nii'\n",
    "    maskPath = maskPath_primer + '/Liver313-1/' + msk\n",
    "            \n",
    "\n",
    "    # status\n",
    "    print('Processing...\\timg\\t\\t\\t\\t\\tmsk')\n",
    "    #print(imagePath + '\\n' + maskPath)\n",
    "    print('\\t\\t' + img + '\\t' + msk)\n",
    "    print()\n",
    "\n",
    "    # feature extraction\n",
    "    result = extractor.execute(imagePath, maskPath)\n",
    "\n",
    "    if firstIteration:\n",
    "        features = list(result.keys())[22:] # '0:21' diagnostic features, '22:' radiomic features\n",
    "        firstIteration = False\n",
    "\n",
    "    feature_space_element = {}\n",
    "    for key, value in six.iteritems(result):\n",
    "        if key in features:\n",
    "            feature_space_element[key] = value\n",
    "    feature_space[img[:-4]] = feature_space_element # 'img[:-4]' removes '.nii'\n",
    "\n",
    "    # break # comment for 1 iteration (debugging)\n",
    "\n",
    "print('\\nExtraction complete!')"
   ]
  },
  {
   "cell_type": "code",
   "execution_count": null,
   "id": "249f378b-a32f-4748-8c34-b58a7355cb41",
   "metadata": {},
   "outputs": [],
   "source": [
    "df313_1 = pd.DataFrame.from_dict(feature_space).transpose()\n",
    "df313_1"
   ]
  },
  {
   "cell_type": "code",
   "execution_count": null,
   "id": "45c048e6-41cc-4596-a3ae-22cb346f2af6",
   "metadata": {},
   "outputs": [],
   "source": [
    "df313_1.to_csv('Liver313-1.csv')"
   ]
  },
  {
   "cell_type": "markdown",
   "id": "8002121a-3528-407f-8916-988041b0eeb9",
   "metadata": {},
   "source": [
    "## Liver313-2"
   ]
  },
  {
   "cell_type": "code",
   "execution_count": null,
   "id": "86eeed0b-5a4e-400b-b132-98933d6308cd",
   "metadata": {},
   "outputs": [],
   "source": [
    "feature_space = {}\n",
    "firstIteration = True\n",
    "for img in liver_images:\n",
    "    \n",
    "    # specify image path\n",
    "    if '40dose' in img:\n",
    "        imagePath = path + '/Images/Liver/Liver_40dose/' + img\n",
    "    elif '60dose' in img:\n",
    "        imagePath = path + '/Images/Liver/Liver_60dose/' + img\n",
    "    else:\n",
    "        imagePath = path + '/Images/Liver/Liver_100dose/' + img\n",
    "\n",
    "    # specify mask path\n",
    "    msk = ''\n",
    "    if 'FBP' in img:\n",
    "        if '0-6mm' in img:\n",
    "            msk = 'Liver313-2_FBP_0-6mm.nii'\n",
    "        elif '1-5mm' in img:\n",
    "            msk = 'Liver313-2_FBP_1-5mm.nii'\n",
    "        else:\n",
    "            msk = 'Liver313-2_FBP_3mm.nii'\n",
    "    else:\n",
    "        if '0-6mm' in img:\n",
    "            msk = 'Liver313-2_Safire_0-6mm.nii'\n",
    "        elif '1-5mm' in img:\n",
    "            msk = 'Liver313-2_Safire_1-5mm.nii'\n",
    "        else:\n",
    "            msk = 'Liver313-2_Safire_3mm.nii'\n",
    "    maskPath = maskPath_primer + '/Liver313-2/' + msk\n",
    "            \n",
    "\n",
    "    # status\n",
    "    #print('Processing...\\timg\\t\\t\\t\\t\\tmsk')\n",
    "    #print(imagePath + '\\n' + maskPath)\n",
    "    #print('\\t\\t' + img + '\\t' + msk)\n",
    "    print()\n",
    "\n",
    "    # feature extraction\n",
    "    result = extractor.execute(imagePath, maskPath)\n",
    "\n",
    "    if firstIteration:\n",
    "        features = list(result.keys())[22:] # '0:21' diagnostic features, '22:' radiomic features\n",
    "        firstIteration = False\n",
    "\n",
    "    feature_space_element = {}\n",
    "    for key, value in six.iteritems(result):\n",
    "        if key in features:\n",
    "            feature_space_element[key] = value\n",
    "    feature_space[img[:-4]] = feature_space_element # 'img[:-4]' removes '.nii'\n",
    "\n",
    "    # break # comment for 1 iteration (debugging)\n",
    "\n",
    "print('\\nExtraction complete!')"
   ]
  },
  {
   "cell_type": "code",
   "execution_count": null,
   "id": "c4a11592-ce74-4b92-87e4-aeb7b1b9a82f",
   "metadata": {},
   "outputs": [],
   "source": [
    "df313_2 = pd.DataFrame.from_dict(feature_space).transpose()\n",
    "df313_2"
   ]
  },
  {
   "cell_type": "code",
   "execution_count": null,
   "id": "d7fec340-c93c-4702-bd38-02a77457fe2d",
   "metadata": {},
   "outputs": [],
   "source": [
    "df313_2.to_csv('Liver313-2.csv')"
   ]
  },
  {
   "cell_type": "markdown",
   "id": "dd97aade-02ac-4992-8081-9254699d06f7",
   "metadata": {},
   "source": [
    "## Liver313-6"
   ]
  },
  {
   "cell_type": "code",
   "execution_count": 6,
   "id": "23a098fb-8d7e-4cae-b5f8-6ba7d09499b4",
   "metadata": {},
   "outputs": [
    {
     "name": "stdout",
     "output_type": "stream",
     "text": [
      "\n"
     ]
    },
    {
     "name": "stderr",
     "output_type": "stream",
     "text": [
      "GLCM is symmetrical, therefore Sum Average = 2 * Joint Average, only 1 needs to be calculated\n"
     ]
    },
    {
     "name": "stdout",
     "output_type": "stream",
     "text": [
      "\n"
     ]
    },
    {
     "name": "stderr",
     "output_type": "stream",
     "text": [
      "GLCM is symmetrical, therefore Sum Average = 2 * Joint Average, only 1 needs to be calculated\n"
     ]
    },
    {
     "name": "stdout",
     "output_type": "stream",
     "text": [
      "\n"
     ]
    },
    {
     "name": "stderr",
     "output_type": "stream",
     "text": [
      "GLCM is symmetrical, therefore Sum Average = 2 * Joint Average, only 1 needs to be calculated\n"
     ]
    },
    {
     "name": "stdout",
     "output_type": "stream",
     "text": [
      "\n"
     ]
    },
    {
     "name": "stderr",
     "output_type": "stream",
     "text": [
      "GLCM is symmetrical, therefore Sum Average = 2 * Joint Average, only 1 needs to be calculated\n"
     ]
    },
    {
     "name": "stdout",
     "output_type": "stream",
     "text": [
      "\n"
     ]
    },
    {
     "name": "stderr",
     "output_type": "stream",
     "text": [
      "GLCM is symmetrical, therefore Sum Average = 2 * Joint Average, only 1 needs to be calculated\n"
     ]
    },
    {
     "name": "stdout",
     "output_type": "stream",
     "text": [
      "\n"
     ]
    },
    {
     "name": "stderr",
     "output_type": "stream",
     "text": [
      "GLCM is symmetrical, therefore Sum Average = 2 * Joint Average, only 1 needs to be calculated\n"
     ]
    },
    {
     "name": "stdout",
     "output_type": "stream",
     "text": [
      "\n"
     ]
    },
    {
     "name": "stderr",
     "output_type": "stream",
     "text": [
      "GLCM is symmetrical, therefore Sum Average = 2 * Joint Average, only 1 needs to be calculated\n"
     ]
    },
    {
     "name": "stdout",
     "output_type": "stream",
     "text": [
      "\n"
     ]
    },
    {
     "name": "stderr",
     "output_type": "stream",
     "text": [
      "GLCM is symmetrical, therefore Sum Average = 2 * Joint Average, only 1 needs to be calculated\n"
     ]
    },
    {
     "name": "stdout",
     "output_type": "stream",
     "text": [
      "\n"
     ]
    },
    {
     "name": "stderr",
     "output_type": "stream",
     "text": [
      "GLCM is symmetrical, therefore Sum Average = 2 * Joint Average, only 1 needs to be calculated\n"
     ]
    },
    {
     "name": "stdout",
     "output_type": "stream",
     "text": [
      "\n"
     ]
    },
    {
     "name": "stderr",
     "output_type": "stream",
     "text": [
      "GLCM is symmetrical, therefore Sum Average = 2 * Joint Average, only 1 needs to be calculated\n"
     ]
    },
    {
     "name": "stdout",
     "output_type": "stream",
     "text": [
      "\n"
     ]
    },
    {
     "name": "stderr",
     "output_type": "stream",
     "text": [
      "GLCM is symmetrical, therefore Sum Average = 2 * Joint Average, only 1 needs to be calculated\n"
     ]
    },
    {
     "name": "stdout",
     "output_type": "stream",
     "text": [
      "\n"
     ]
    },
    {
     "name": "stderr",
     "output_type": "stream",
     "text": [
      "GLCM is symmetrical, therefore Sum Average = 2 * Joint Average, only 1 needs to be calculated\n"
     ]
    },
    {
     "name": "stdout",
     "output_type": "stream",
     "text": [
      "\n"
     ]
    },
    {
     "name": "stderr",
     "output_type": "stream",
     "text": [
      "GLCM is symmetrical, therefore Sum Average = 2 * Joint Average, only 1 needs to be calculated\n"
     ]
    },
    {
     "name": "stdout",
     "output_type": "stream",
     "text": [
      "\n"
     ]
    },
    {
     "name": "stderr",
     "output_type": "stream",
     "text": [
      "GLCM is symmetrical, therefore Sum Average = 2 * Joint Average, only 1 needs to be calculated\n"
     ]
    },
    {
     "name": "stdout",
     "output_type": "stream",
     "text": [
      "\n"
     ]
    },
    {
     "name": "stderr",
     "output_type": "stream",
     "text": [
      "GLCM is symmetrical, therefore Sum Average = 2 * Joint Average, only 1 needs to be calculated\n"
     ]
    },
    {
     "name": "stdout",
     "output_type": "stream",
     "text": [
      "\n"
     ]
    },
    {
     "name": "stderr",
     "output_type": "stream",
     "text": [
      "GLCM is symmetrical, therefore Sum Average = 2 * Joint Average, only 1 needs to be calculated\n"
     ]
    },
    {
     "name": "stdout",
     "output_type": "stream",
     "text": [
      "\n"
     ]
    },
    {
     "name": "stderr",
     "output_type": "stream",
     "text": [
      "GLCM is symmetrical, therefore Sum Average = 2 * Joint Average, only 1 needs to be calculated\n"
     ]
    },
    {
     "name": "stdout",
     "output_type": "stream",
     "text": [
      "\n"
     ]
    },
    {
     "name": "stderr",
     "output_type": "stream",
     "text": [
      "GLCM is symmetrical, therefore Sum Average = 2 * Joint Average, only 1 needs to be calculated\n"
     ]
    },
    {
     "name": "stdout",
     "output_type": "stream",
     "text": [
      "\n"
     ]
    },
    {
     "name": "stderr",
     "output_type": "stream",
     "text": [
      "GLCM is symmetrical, therefore Sum Average = 2 * Joint Average, only 1 needs to be calculated\n"
     ]
    },
    {
     "name": "stdout",
     "output_type": "stream",
     "text": [
      "\n"
     ]
    },
    {
     "name": "stderr",
     "output_type": "stream",
     "text": [
      "GLCM is symmetrical, therefore Sum Average = 2 * Joint Average, only 1 needs to be calculated\n"
     ]
    },
    {
     "name": "stdout",
     "output_type": "stream",
     "text": [
      "\n"
     ]
    },
    {
     "name": "stderr",
     "output_type": "stream",
     "text": [
      "GLCM is symmetrical, therefore Sum Average = 2 * Joint Average, only 1 needs to be calculated\n"
     ]
    },
    {
     "name": "stdout",
     "output_type": "stream",
     "text": [
      "\n"
     ]
    },
    {
     "name": "stderr",
     "output_type": "stream",
     "text": [
      "GLCM is symmetrical, therefore Sum Average = 2 * Joint Average, only 1 needs to be calculated\n"
     ]
    },
    {
     "name": "stdout",
     "output_type": "stream",
     "text": [
      "\n"
     ]
    },
    {
     "name": "stderr",
     "output_type": "stream",
     "text": [
      "GLCM is symmetrical, therefore Sum Average = 2 * Joint Average, only 1 needs to be calculated\n"
     ]
    },
    {
     "name": "stdout",
     "output_type": "stream",
     "text": [
      "\n"
     ]
    },
    {
     "name": "stderr",
     "output_type": "stream",
     "text": [
      "GLCM is symmetrical, therefore Sum Average = 2 * Joint Average, only 1 needs to be calculated\n"
     ]
    },
    {
     "name": "stdout",
     "output_type": "stream",
     "text": [
      "\n"
     ]
    },
    {
     "name": "stderr",
     "output_type": "stream",
     "text": [
      "GLCM is symmetrical, therefore Sum Average = 2 * Joint Average, only 1 needs to be calculated\n"
     ]
    },
    {
     "name": "stdout",
     "output_type": "stream",
     "text": [
      "\n"
     ]
    },
    {
     "name": "stderr",
     "output_type": "stream",
     "text": [
      "GLCM is symmetrical, therefore Sum Average = 2 * Joint Average, only 1 needs to be calculated\n"
     ]
    },
    {
     "name": "stdout",
     "output_type": "stream",
     "text": [
      "\n"
     ]
    },
    {
     "name": "stderr",
     "output_type": "stream",
     "text": [
      "GLCM is symmetrical, therefore Sum Average = 2 * Joint Average, only 1 needs to be calculated\n"
     ]
    },
    {
     "name": "stdout",
     "output_type": "stream",
     "text": [
      "\n"
     ]
    },
    {
     "name": "stderr",
     "output_type": "stream",
     "text": [
      "GLCM is symmetrical, therefore Sum Average = 2 * Joint Average, only 1 needs to be calculated\n"
     ]
    },
    {
     "name": "stdout",
     "output_type": "stream",
     "text": [
      "\n"
     ]
    },
    {
     "name": "stderr",
     "output_type": "stream",
     "text": [
      "GLCM is symmetrical, therefore Sum Average = 2 * Joint Average, only 1 needs to be calculated\n"
     ]
    },
    {
     "name": "stdout",
     "output_type": "stream",
     "text": [
      "\n"
     ]
    },
    {
     "name": "stderr",
     "output_type": "stream",
     "text": [
      "GLCM is symmetrical, therefore Sum Average = 2 * Joint Average, only 1 needs to be calculated\n"
     ]
    },
    {
     "name": "stdout",
     "output_type": "stream",
     "text": [
      "\n"
     ]
    },
    {
     "name": "stderr",
     "output_type": "stream",
     "text": [
      "GLCM is symmetrical, therefore Sum Average = 2 * Joint Average, only 1 needs to be calculated\n"
     ]
    },
    {
     "name": "stdout",
     "output_type": "stream",
     "text": [
      "\n"
     ]
    },
    {
     "name": "stderr",
     "output_type": "stream",
     "text": [
      "GLCM is symmetrical, therefore Sum Average = 2 * Joint Average, only 1 needs to be calculated\n"
     ]
    },
    {
     "name": "stdout",
     "output_type": "stream",
     "text": [
      "\n"
     ]
    },
    {
     "name": "stderr",
     "output_type": "stream",
     "text": [
      "GLCM is symmetrical, therefore Sum Average = 2 * Joint Average, only 1 needs to be calculated\n"
     ]
    },
    {
     "name": "stdout",
     "output_type": "stream",
     "text": [
      "\n"
     ]
    },
    {
     "name": "stderr",
     "output_type": "stream",
     "text": [
      "GLCM is symmetrical, therefore Sum Average = 2 * Joint Average, only 1 needs to be calculated\n"
     ]
    },
    {
     "name": "stdout",
     "output_type": "stream",
     "text": [
      "\n"
     ]
    },
    {
     "name": "stderr",
     "output_type": "stream",
     "text": [
      "GLCM is symmetrical, therefore Sum Average = 2 * Joint Average, only 1 needs to be calculated\n"
     ]
    },
    {
     "name": "stdout",
     "output_type": "stream",
     "text": [
      "\n"
     ]
    },
    {
     "name": "stderr",
     "output_type": "stream",
     "text": [
      "GLCM is symmetrical, therefore Sum Average = 2 * Joint Average, only 1 needs to be calculated\n"
     ]
    },
    {
     "name": "stdout",
     "output_type": "stream",
     "text": [
      "\n"
     ]
    },
    {
     "name": "stderr",
     "output_type": "stream",
     "text": [
      "GLCM is symmetrical, therefore Sum Average = 2 * Joint Average, only 1 needs to be calculated\n"
     ]
    },
    {
     "name": "stdout",
     "output_type": "stream",
     "text": [
      "\n"
     ]
    },
    {
     "name": "stderr",
     "output_type": "stream",
     "text": [
      "GLCM is symmetrical, therefore Sum Average = 2 * Joint Average, only 1 needs to be calculated\n"
     ]
    },
    {
     "name": "stdout",
     "output_type": "stream",
     "text": [
      "\n"
     ]
    },
    {
     "name": "stderr",
     "output_type": "stream",
     "text": [
      "GLCM is symmetrical, therefore Sum Average = 2 * Joint Average, only 1 needs to be calculated\n"
     ]
    },
    {
     "name": "stdout",
     "output_type": "stream",
     "text": [
      "\n"
     ]
    },
    {
     "name": "stderr",
     "output_type": "stream",
     "text": [
      "GLCM is symmetrical, therefore Sum Average = 2 * Joint Average, only 1 needs to be calculated\n"
     ]
    },
    {
     "name": "stdout",
     "output_type": "stream",
     "text": [
      "\n"
     ]
    },
    {
     "name": "stderr",
     "output_type": "stream",
     "text": [
      "GLCM is symmetrical, therefore Sum Average = 2 * Joint Average, only 1 needs to be calculated\n"
     ]
    },
    {
     "name": "stdout",
     "output_type": "stream",
     "text": [
      "\n"
     ]
    },
    {
     "name": "stderr",
     "output_type": "stream",
     "text": [
      "GLCM is symmetrical, therefore Sum Average = 2 * Joint Average, only 1 needs to be calculated\n"
     ]
    },
    {
     "name": "stdout",
     "output_type": "stream",
     "text": [
      "\n"
     ]
    },
    {
     "name": "stderr",
     "output_type": "stream",
     "text": [
      "GLCM is symmetrical, therefore Sum Average = 2 * Joint Average, only 1 needs to be calculated\n"
     ]
    },
    {
     "name": "stdout",
     "output_type": "stream",
     "text": [
      "\n"
     ]
    },
    {
     "name": "stderr",
     "output_type": "stream",
     "text": [
      "GLCM is symmetrical, therefore Sum Average = 2 * Joint Average, only 1 needs to be calculated\n"
     ]
    },
    {
     "name": "stdout",
     "output_type": "stream",
     "text": [
      "\n"
     ]
    },
    {
     "name": "stderr",
     "output_type": "stream",
     "text": [
      "GLCM is symmetrical, therefore Sum Average = 2 * Joint Average, only 1 needs to be calculated\n"
     ]
    },
    {
     "name": "stdout",
     "output_type": "stream",
     "text": [
      "\n"
     ]
    },
    {
     "name": "stderr",
     "output_type": "stream",
     "text": [
      "GLCM is symmetrical, therefore Sum Average = 2 * Joint Average, only 1 needs to be calculated\n"
     ]
    },
    {
     "name": "stdout",
     "output_type": "stream",
     "text": [
      "\n"
     ]
    },
    {
     "name": "stderr",
     "output_type": "stream",
     "text": [
      "GLCM is symmetrical, therefore Sum Average = 2 * Joint Average, only 1 needs to be calculated\n"
     ]
    },
    {
     "name": "stdout",
     "output_type": "stream",
     "text": [
      "\n"
     ]
    },
    {
     "name": "stderr",
     "output_type": "stream",
     "text": [
      "GLCM is symmetrical, therefore Sum Average = 2 * Joint Average, only 1 needs to be calculated\n"
     ]
    },
    {
     "name": "stdout",
     "output_type": "stream",
     "text": [
      "\n"
     ]
    },
    {
     "name": "stderr",
     "output_type": "stream",
     "text": [
      "GLCM is symmetrical, therefore Sum Average = 2 * Joint Average, only 1 needs to be calculated\n"
     ]
    },
    {
     "name": "stdout",
     "output_type": "stream",
     "text": [
      "\n"
     ]
    },
    {
     "name": "stderr",
     "output_type": "stream",
     "text": [
      "GLCM is symmetrical, therefore Sum Average = 2 * Joint Average, only 1 needs to be calculated\n"
     ]
    },
    {
     "name": "stdout",
     "output_type": "stream",
     "text": [
      "\n"
     ]
    },
    {
     "name": "stderr",
     "output_type": "stream",
     "text": [
      "GLCM is symmetrical, therefore Sum Average = 2 * Joint Average, only 1 needs to be calculated\n"
     ]
    },
    {
     "name": "stdout",
     "output_type": "stream",
     "text": [
      "\n"
     ]
    },
    {
     "name": "stderr",
     "output_type": "stream",
     "text": [
      "GLCM is symmetrical, therefore Sum Average = 2 * Joint Average, only 1 needs to be calculated\n"
     ]
    },
    {
     "name": "stdout",
     "output_type": "stream",
     "text": [
      "\n"
     ]
    },
    {
     "name": "stderr",
     "output_type": "stream",
     "text": [
      "GLCM is symmetrical, therefore Sum Average = 2 * Joint Average, only 1 needs to be calculated\n"
     ]
    },
    {
     "name": "stdout",
     "output_type": "stream",
     "text": [
      "\n"
     ]
    },
    {
     "name": "stderr",
     "output_type": "stream",
     "text": [
      "GLCM is symmetrical, therefore Sum Average = 2 * Joint Average, only 1 needs to be calculated\n"
     ]
    },
    {
     "name": "stdout",
     "output_type": "stream",
     "text": [
      "\n"
     ]
    },
    {
     "name": "stderr",
     "output_type": "stream",
     "text": [
      "GLCM is symmetrical, therefore Sum Average = 2 * Joint Average, only 1 needs to be calculated\n"
     ]
    },
    {
     "name": "stdout",
     "output_type": "stream",
     "text": [
      "\n"
     ]
    },
    {
     "name": "stderr",
     "output_type": "stream",
     "text": [
      "GLCM is symmetrical, therefore Sum Average = 2 * Joint Average, only 1 needs to be calculated\n"
     ]
    },
    {
     "name": "stdout",
     "output_type": "stream",
     "text": [
      "\n"
     ]
    },
    {
     "name": "stderr",
     "output_type": "stream",
     "text": [
      "GLCM is symmetrical, therefore Sum Average = 2 * Joint Average, only 1 needs to be calculated\n"
     ]
    },
    {
     "name": "stdout",
     "output_type": "stream",
     "text": [
      "\n"
     ]
    },
    {
     "name": "stderr",
     "output_type": "stream",
     "text": [
      "GLCM is symmetrical, therefore Sum Average = 2 * Joint Average, only 1 needs to be calculated\n"
     ]
    },
    {
     "name": "stdout",
     "output_type": "stream",
     "text": [
      "\n"
     ]
    },
    {
     "name": "stderr",
     "output_type": "stream",
     "text": [
      "GLCM is symmetrical, therefore Sum Average = 2 * Joint Average, only 1 needs to be calculated\n"
     ]
    },
    {
     "name": "stdout",
     "output_type": "stream",
     "text": [
      "\n"
     ]
    },
    {
     "name": "stderr",
     "output_type": "stream",
     "text": [
      "GLCM is symmetrical, therefore Sum Average = 2 * Joint Average, only 1 needs to be calculated\n"
     ]
    },
    {
     "name": "stdout",
     "output_type": "stream",
     "text": [
      "\n"
     ]
    },
    {
     "name": "stderr",
     "output_type": "stream",
     "text": [
      "GLCM is symmetrical, therefore Sum Average = 2 * Joint Average, only 1 needs to be calculated\n"
     ]
    },
    {
     "name": "stdout",
     "output_type": "stream",
     "text": [
      "\n"
     ]
    },
    {
     "name": "stderr",
     "output_type": "stream",
     "text": [
      "GLCM is symmetrical, therefore Sum Average = 2 * Joint Average, only 1 needs to be calculated\n"
     ]
    },
    {
     "name": "stdout",
     "output_type": "stream",
     "text": [
      "\n"
     ]
    },
    {
     "name": "stderr",
     "output_type": "stream",
     "text": [
      "GLCM is symmetrical, therefore Sum Average = 2 * Joint Average, only 1 needs to be calculated\n"
     ]
    },
    {
     "name": "stdout",
     "output_type": "stream",
     "text": [
      "\n"
     ]
    },
    {
     "name": "stderr",
     "output_type": "stream",
     "text": [
      "GLCM is symmetrical, therefore Sum Average = 2 * Joint Average, only 1 needs to be calculated\n"
     ]
    },
    {
     "name": "stdout",
     "output_type": "stream",
     "text": [
      "\n"
     ]
    },
    {
     "name": "stderr",
     "output_type": "stream",
     "text": [
      "GLCM is symmetrical, therefore Sum Average = 2 * Joint Average, only 1 needs to be calculated\n"
     ]
    },
    {
     "name": "stdout",
     "output_type": "stream",
     "text": [
      "\n"
     ]
    },
    {
     "name": "stderr",
     "output_type": "stream",
     "text": [
      "GLCM is symmetrical, therefore Sum Average = 2 * Joint Average, only 1 needs to be calculated\n"
     ]
    },
    {
     "name": "stdout",
     "output_type": "stream",
     "text": [
      "\n"
     ]
    },
    {
     "name": "stderr",
     "output_type": "stream",
     "text": [
      "GLCM is symmetrical, therefore Sum Average = 2 * Joint Average, only 1 needs to be calculated\n"
     ]
    },
    {
     "name": "stdout",
     "output_type": "stream",
     "text": [
      "\n"
     ]
    },
    {
     "name": "stderr",
     "output_type": "stream",
     "text": [
      "GLCM is symmetrical, therefore Sum Average = 2 * Joint Average, only 1 needs to be calculated\n"
     ]
    },
    {
     "name": "stdout",
     "output_type": "stream",
     "text": [
      "\n"
     ]
    },
    {
     "name": "stderr",
     "output_type": "stream",
     "text": [
      "GLCM is symmetrical, therefore Sum Average = 2 * Joint Average, only 1 needs to be calculated\n"
     ]
    },
    {
     "name": "stdout",
     "output_type": "stream",
     "text": [
      "\n"
     ]
    },
    {
     "name": "stderr",
     "output_type": "stream",
     "text": [
      "GLCM is symmetrical, therefore Sum Average = 2 * Joint Average, only 1 needs to be calculated\n"
     ]
    },
    {
     "name": "stdout",
     "output_type": "stream",
     "text": [
      "\n"
     ]
    },
    {
     "name": "stderr",
     "output_type": "stream",
     "text": [
      "GLCM is symmetrical, therefore Sum Average = 2 * Joint Average, only 1 needs to be calculated\n"
     ]
    },
    {
     "name": "stdout",
     "output_type": "stream",
     "text": [
      "\n"
     ]
    },
    {
     "name": "stderr",
     "output_type": "stream",
     "text": [
      "GLCM is symmetrical, therefore Sum Average = 2 * Joint Average, only 1 needs to be calculated\n"
     ]
    },
    {
     "name": "stdout",
     "output_type": "stream",
     "text": [
      "\n",
      "Extraction complete!\n"
     ]
    }
   ],
   "source": [
    "feature_space = {}\n",
    "firstIteration = True\n",
    "for img in liver_images:\n",
    "    \n",
    "    # specify image path\n",
    "    if '40dose' in img:\n",
    "        imagePath = path + '/Images/Liver/Liver_40dose/' + img\n",
    "    elif '60dose' in img:\n",
    "        imagePath = path + '/Images/Liver/Liver_60dose/' + img\n",
    "    else:\n",
    "        imagePath = path + '/Images/Liver/Liver_100dose/' + img\n",
    "\n",
    "    # specify mask path\n",
    "    msk = ''\n",
    "    if 'FBP' in img:\n",
    "        if '0-6mm' in img:\n",
    "            msk = 'Liver313-6_FBP_0-6mm.nii'\n",
    "        elif '1-5mm' in img:\n",
    "            msk = 'Liver313-6_FBP_1-5mm.nii'\n",
    "        else:\n",
    "            msk = 'Liver313-6_FBP_3mm.nii'\n",
    "    else:\n",
    "        if '0-6mm' in img:\n",
    "            msk = 'Liver313-6_Safire_0-6mm.nii'\n",
    "        elif '1-5mm' in img:\n",
    "            msk = 'Liver313-6_Safire_1-5mm.nii'\n",
    "        else:\n",
    "            msk = 'Liver313-6_Safire_3mm.nii'\n",
    "    maskPath = maskPath_primer + '/Liver313-6/' + msk\n",
    "            \n",
    "\n",
    "    # status\n",
    "    #print('Processing...\\timg\\t\\t\\t\\t\\tmsk')\n",
    "    #print(imagePath + '\\n' + maskPath)\n",
    "    #print('\\t\\t' + img + '\\t' + msk)\n",
    "    print()\n",
    "\n",
    "    # feature extraction\n",
    "    result = extractor.execute(imagePath, maskPath)\n",
    "\n",
    "    if firstIteration:\n",
    "        features = list(result.keys())[22:] # '0:21' diagnostic features, '22:' radiomic features\n",
    "        firstIteration = False\n",
    "\n",
    "    feature_space_element = {}\n",
    "    for key, value in six.iteritems(result):\n",
    "        if key in features:\n",
    "            feature_space_element[key] = value\n",
    "    feature_space[img[:-4]] = feature_space_element # 'img[:-4]' removes '.nii'\n",
    "\n",
    "    # break # comment for 1 iteration (debugging)\n",
    "\n",
    "print('\\nExtraction complete!')"
   ]
  },
  {
   "cell_type": "code",
   "execution_count": 7,
   "id": "1ed0922e-2ea7-4d41-a214-344978b0dae8",
   "metadata": {},
   "outputs": [
    {
     "data": {
      "text/html": [
       "<div>\n",
       "<style scoped>\n",
       "    .dataframe tbody tr th:only-of-type {\n",
       "        vertical-align: middle;\n",
       "    }\n",
       "\n",
       "    .dataframe tbody tr th {\n",
       "        vertical-align: top;\n",
       "    }\n",
       "\n",
       "    .dataframe thead th {\n",
       "        text-align: right;\n",
       "    }\n",
       "</style>\n",
       "<table border=\"1\" class=\"dataframe\">\n",
       "  <thead>\n",
       "    <tr style=\"text-align: right;\">\n",
       "      <th></th>\n",
       "      <th>original_shape_Elongation</th>\n",
       "      <th>original_shape_Flatness</th>\n",
       "      <th>original_shape_LeastAxisLength</th>\n",
       "      <th>original_shape_MajorAxisLength</th>\n",
       "      <th>original_shape_Maximum2DDiameterColumn</th>\n",
       "      <th>original_shape_Maximum2DDiameterRow</th>\n",
       "      <th>original_shape_Maximum2DDiameterSlice</th>\n",
       "      <th>original_shape_Maximum3DDiameter</th>\n",
       "      <th>original_shape_MeshVolume</th>\n",
       "      <th>original_shape_MinorAxisLength</th>\n",
       "      <th>...</th>\n",
       "      <th>original_glszm_SmallAreaHighGrayLevelEmphasis</th>\n",
       "      <th>original_glszm_SmallAreaLowGrayLevelEmphasis</th>\n",
       "      <th>original_glszm_ZoneEntropy</th>\n",
       "      <th>original_glszm_ZonePercentage</th>\n",
       "      <th>original_glszm_ZoneVariance</th>\n",
       "      <th>original_ngtdm_Busyness</th>\n",
       "      <th>original_ngtdm_Coarseness</th>\n",
       "      <th>original_ngtdm_Complexity</th>\n",
       "      <th>original_ngtdm_Contrast</th>\n",
       "      <th>original_ngtdm_Strength</th>\n",
       "    </tr>\n",
       "  </thead>\n",
       "  <tbody>\n",
       "    <tr>\n",
       "      <th>Liver_40dose_100kVp_1FBP_0-6mm</th>\n",
       "      <td>0.827297</td>\n",
       "      <td>0.796734</td>\n",
       "      <td>19.571974</td>\n",
       "      <td>24.565261</td>\n",
       "      <td>31.758957630842755</td>\n",
       "      <td>33.398498136286875</td>\n",
       "      <td>29.87075354111874</td>\n",
       "      <td>34.4666875679266</td>\n",
       "      <td>5354.171026779804</td>\n",
       "      <td>20.322775</td>\n",
       "      <td>...</td>\n",
       "      <td>86.64053274314192</td>\n",
       "      <td>0.009103042804214876</td>\n",
       "      <td>5.8374394686652655</td>\n",
       "      <td>0.22292490118577074</td>\n",
       "      <td>3266.767529299331</td>\n",
       "      <td>8.539188082126298</td>\n",
       "      <td>0.00042734013492694024</td>\n",
       "      <td>291.9049165528216</td>\n",
       "      <td>0.06068467425435591</td>\n",
       "      <td>0.05845070976571478</td>\n",
       "    </tr>\n",
       "    <tr>\n",
       "      <th>Liver_40dose_100kVp_1FBP_3mm</th>\n",
       "      <td>0.719095</td>\n",
       "      <td>0.695356</td>\n",
       "      <td>13.629238</td>\n",
       "      <td>19.600375</td>\n",
       "      <td>22.374073883155617</td>\n",
       "      <td>21.13381936429976</td>\n",
       "      <td>16.258957961359574</td>\n",
       "      <td>22.915646321094165</td>\n",
       "      <td>2533.36704826355</td>\n",
       "      <td>14.094527</td>\n",
       "      <td>...</td>\n",
       "      <td>11.478246857363603</td>\n",
       "      <td>0.1387492073078278</td>\n",
       "      <td>4.254520442296054</td>\n",
       "      <td>0.06178343949044586</td>\n",
       "      <td>6113.3882452970565</td>\n",
       "      <td>7.540413350686832</td>\n",
       "      <td>0.004464606683774304</td>\n",
       "      <td>13.38954073441938</td>\n",
       "      <td>0.03221234100211815</td>\n",
       "      <td>0.06569616270171548</td>\n",
       "    </tr>\n",
       "    <tr>\n",
       "      <th>Liver_40dose_120kVp_2FBP_0-6mm</th>\n",
       "      <td>0.827297</td>\n",
       "      <td>0.796734</td>\n",
       "      <td>19.571974</td>\n",
       "      <td>24.565261</td>\n",
       "      <td>31.758957630842755</td>\n",
       "      <td>33.398498136286875</td>\n",
       "      <td>29.87075354111874</td>\n",
       "      <td>34.4666875679266</td>\n",
       "      <td>5354.171026779804</td>\n",
       "      <td>20.322775</td>\n",
       "      <td>...</td>\n",
       "      <td>79.9146198235445</td>\n",
       "      <td>0.009880861549117272</td>\n",
       "      <td>5.857494199321784</td>\n",
       "      <td>0.2054119793250228</td>\n",
       "      <td>4126.261213154037</td>\n",
       "      <td>8.015592187899072</td>\n",
       "      <td>0.0004276562943401968</td>\n",
       "      <td>309.03037924398427</td>\n",
       "      <td>0.046783171608447444</td>\n",
       "      <td>0.06801660342546</td>\n",
       "    </tr>\n",
       "    <tr>\n",
       "      <th>Liver_40dose_100kVp_1Safire_0-6mm</th>\n",
       "      <td>0.723842</td>\n",
       "      <td>0.697745</td>\n",
       "      <td>14.520014</td>\n",
       "      <td>20.809929</td>\n",
       "      <td>23.296639484927496</td>\n",
       "      <td>22.860814754192276</td>\n",
       "      <td>21.461011799675717</td>\n",
       "      <td>24.03366805864604</td>\n",
       "      <td>2402.8225584474276</td>\n",
       "      <td>15.063095</td>\n",
       "      <td>...</td>\n",
       "      <td>40.01711449439225</td>\n",
       "      <td>0.018114961729878625</td>\n",
       "      <td>5.33475898776377</td>\n",
       "      <td>0.1471814879591013</td>\n",
       "      <td>5274.914739362786</td>\n",
       "      <td>7.770025190925585</td>\n",
       "      <td>0.000945997617937941</td>\n",
       "      <td>93.27876970942192</td>\n",
       "      <td>0.03335306406821317</td>\n",
       "      <td>0.06567205419433873</td>\n",
       "    </tr>\n",
       "    <tr>\n",
       "      <th>Liver_40dose_120kVp_1Safire_0-6mm</th>\n",
       "      <td>0.723842</td>\n",
       "      <td>0.697745</td>\n",
       "      <td>14.520014</td>\n",
       "      <td>20.809929</td>\n",
       "      <td>23.296639484927496</td>\n",
       "      <td>22.860814754192276</td>\n",
       "      <td>21.461011799675717</td>\n",
       "      <td>24.03366805864604</td>\n",
       "      <td>2402.8225584474276</td>\n",
       "      <td>15.063095</td>\n",
       "      <td>...</td>\n",
       "      <td>34.23894750246335</td>\n",
       "      <td>0.020970194248979328</td>\n",
       "      <td>5.395830633690871</td>\n",
       "      <td>0.13009551997847438</td>\n",
       "      <td>7171.406471469561</td>\n",
       "      <td>8.112724487456571</td>\n",
       "      <td>0.0009405778643251112</td>\n",
       "      <td>87.30613677678195</td>\n",
       "      <td>0.027262822854195227</td>\n",
       "      <td>0.06980721130081202</td>\n",
       "    </tr>\n",
       "    <tr>\n",
       "      <th>...</th>\n",
       "      <td>...</td>\n",
       "      <td>...</td>\n",
       "      <td>...</td>\n",
       "      <td>...</td>\n",
       "      <td>...</td>\n",
       "      <td>...</td>\n",
       "      <td>...</td>\n",
       "      <td>...</td>\n",
       "      <td>...</td>\n",
       "      <td>...</td>\n",
       "      <td>...</td>\n",
       "      <td>...</td>\n",
       "      <td>...</td>\n",
       "      <td>...</td>\n",
       "      <td>...</td>\n",
       "      <td>...</td>\n",
       "      <td>...</td>\n",
       "      <td>...</td>\n",
       "      <td>...</td>\n",
       "      <td>...</td>\n",
       "      <td>...</td>\n",
       "    </tr>\n",
       "    <tr>\n",
       "      <th>Liver_100dose_100kVp_1Safire_0-6mm</th>\n",
       "      <td>0.723842</td>\n",
       "      <td>0.697745</td>\n",
       "      <td>14.520014</td>\n",
       "      <td>20.809929</td>\n",
       "      <td>23.296639484927496</td>\n",
       "      <td>22.860814754192276</td>\n",
       "      <td>21.461011799675717</td>\n",
       "      <td>24.03366805864604</td>\n",
       "      <td>2402.8225584474276</td>\n",
       "      <td>15.063095</td>\n",
       "      <td>...</td>\n",
       "      <td>21.822331651734256</td>\n",
       "      <td>0.030646693530023524</td>\n",
       "      <td>5.111779806765031</td>\n",
       "      <td>0.08892775460782995</td>\n",
       "      <td>15688.015577186721</td>\n",
       "      <td>14.787613241943117</td>\n",
       "      <td>0.0009237282451954408</td>\n",
       "      <td>34.125968735448865</td>\n",
       "      <td>0.02415617530324752</td>\n",
       "      <td>0.033525789127488666</td>\n",
       "    </tr>\n",
       "    <tr>\n",
       "      <th>Liver_100dose_100kVp_2FBP_3mm</th>\n",
       "      <td>0.719095</td>\n",
       "      <td>0.695356</td>\n",
       "      <td>13.629238</td>\n",
       "      <td>19.600375</td>\n",
       "      <td>22.374073883155617</td>\n",
       "      <td>21.13381936429976</td>\n",
       "      <td>16.258957961359574</td>\n",
       "      <td>22.915646321094165</td>\n",
       "      <td>2533.36704826355</td>\n",
       "      <td>14.094527</td>\n",
       "      <td>...</td>\n",
       "      <td>8.097784824679762</td>\n",
       "      <td>0.19957422325575394</td>\n",
       "      <td>3.721608360605632</td>\n",
       "      <td>0.027388535031847135</td>\n",
       "      <td>21896.528934559217</td>\n",
       "      <td>9.004280507638269</td>\n",
       "      <td>0.00494586475356255</td>\n",
       "      <td>7.397350434035868</td>\n",
       "      <td>0.013884011432438143</td>\n",
       "      <td>0.06141648730822935</td>\n",
       "    </tr>\n",
       "    <tr>\n",
       "      <th>Liver_100dose_120kVp_2FBP_0-6mm</th>\n",
       "      <td>0.827297</td>\n",
       "      <td>0.796734</td>\n",
       "      <td>19.571974</td>\n",
       "      <td>24.565261</td>\n",
       "      <td>31.758957630842755</td>\n",
       "      <td>33.398498136286875</td>\n",
       "      <td>29.87075354111874</td>\n",
       "      <td>34.4666875679266</td>\n",
       "      <td>5354.171026779804</td>\n",
       "      <td>20.322775</td>\n",
       "      <td>...</td>\n",
       "      <td>46.15402970963477</td>\n",
       "      <td>0.01441231216920008</td>\n",
       "      <td>5.560202298510825</td>\n",
       "      <td>0.12429309820614168</td>\n",
       "      <td>14496.664759584639</td>\n",
       "      <td>11.43338701122848</td>\n",
       "      <td>0.00042856615371420127</td>\n",
       "      <td>147.01898198287898</td>\n",
       "      <td>0.026732491238320565</td>\n",
       "      <td>0.0496917436696019</td>\n",
       "    </tr>\n",
       "    <tr>\n",
       "      <th>Liver_100dose_120kVp_1Safire_0-6mm</th>\n",
       "      <td>0.723842</td>\n",
       "      <td>0.697745</td>\n",
       "      <td>14.520014</td>\n",
       "      <td>20.809929</td>\n",
       "      <td>23.296639484927496</td>\n",
       "      <td>22.860814754192276</td>\n",
       "      <td>21.461011799675717</td>\n",
       "      <td>24.03366805864604</td>\n",
       "      <td>2402.8225584474276</td>\n",
       "      <td>15.063095</td>\n",
       "      <td>...</td>\n",
       "      <td>16.74829818851439</td>\n",
       "      <td>0.046452309702076165</td>\n",
       "      <td>5.056197649280517</td>\n",
       "      <td>0.0782994753127943</td>\n",
       "      <td>19543.23815554847</td>\n",
       "      <td>18.817147874525862</td>\n",
       "      <td>0.0009290553597871176</td>\n",
       "      <td>25.587910164626972</td>\n",
       "      <td>0.02625435433257682</td>\n",
       "      <td>0.02609160382502835</td>\n",
       "    </tr>\n",
       "    <tr>\n",
       "      <th>Liver_100dose_100kVp_1FBP_0-6mm</th>\n",
       "      <td>0.827297</td>\n",
       "      <td>0.796734</td>\n",
       "      <td>19.571974</td>\n",
       "      <td>24.565261</td>\n",
       "      <td>31.758957630842755</td>\n",
       "      <td>33.398498136286875</td>\n",
       "      <td>29.87075354111874</td>\n",
       "      <td>34.4666875679266</td>\n",
       "      <td>5354.171026779804</td>\n",
       "      <td>20.322775</td>\n",
       "      <td>...</td>\n",
       "      <td>45.91300599011407</td>\n",
       "      <td>0.018254344411478676</td>\n",
       "      <td>5.620399389066849</td>\n",
       "      <td>0.13250228032836728</td>\n",
       "      <td>12242.191798259535</td>\n",
       "      <td>13.21306654263535</td>\n",
       "      <td>0.00043221326414884416</td>\n",
       "      <td>133.4179518662501</td>\n",
       "      <td>0.03483005454364325</td>\n",
       "      <td>0.040424183186724624</td>\n",
       "    </tr>\n",
       "  </tbody>\n",
       "</table>\n",
       "<p>72 rows × 107 columns</p>\n",
       "</div>"
      ],
      "text/plain": [
       "                                   original_shape_Elongation  \\\n",
       "Liver_40dose_100kVp_1FBP_0-6mm                      0.827297   \n",
       "Liver_40dose_100kVp_1FBP_3mm                        0.719095   \n",
       "Liver_40dose_120kVp_2FBP_0-6mm                      0.827297   \n",
       "Liver_40dose_100kVp_1Safire_0-6mm                   0.723842   \n",
       "Liver_40dose_120kVp_1Safire_0-6mm                   0.723842   \n",
       "...                                                      ...   \n",
       "Liver_100dose_100kVp_1Safire_0-6mm                  0.723842   \n",
       "Liver_100dose_100kVp_2FBP_3mm                       0.719095   \n",
       "Liver_100dose_120kVp_2FBP_0-6mm                     0.827297   \n",
       "Liver_100dose_120kVp_1Safire_0-6mm                  0.723842   \n",
       "Liver_100dose_100kVp_1FBP_0-6mm                     0.827297   \n",
       "\n",
       "                                   original_shape_Flatness  \\\n",
       "Liver_40dose_100kVp_1FBP_0-6mm                    0.796734   \n",
       "Liver_40dose_100kVp_1FBP_3mm                      0.695356   \n",
       "Liver_40dose_120kVp_2FBP_0-6mm                    0.796734   \n",
       "Liver_40dose_100kVp_1Safire_0-6mm                 0.697745   \n",
       "Liver_40dose_120kVp_1Safire_0-6mm                 0.697745   \n",
       "...                                                    ...   \n",
       "Liver_100dose_100kVp_1Safire_0-6mm                0.697745   \n",
       "Liver_100dose_100kVp_2FBP_3mm                     0.695356   \n",
       "Liver_100dose_120kVp_2FBP_0-6mm                   0.796734   \n",
       "Liver_100dose_120kVp_1Safire_0-6mm                0.697745   \n",
       "Liver_100dose_100kVp_1FBP_0-6mm                   0.796734   \n",
       "\n",
       "                                   original_shape_LeastAxisLength  \\\n",
       "Liver_40dose_100kVp_1FBP_0-6mm                          19.571974   \n",
       "Liver_40dose_100kVp_1FBP_3mm                            13.629238   \n",
       "Liver_40dose_120kVp_2FBP_0-6mm                          19.571974   \n",
       "Liver_40dose_100kVp_1Safire_0-6mm                       14.520014   \n",
       "Liver_40dose_120kVp_1Safire_0-6mm                       14.520014   \n",
       "...                                                           ...   \n",
       "Liver_100dose_100kVp_1Safire_0-6mm                      14.520014   \n",
       "Liver_100dose_100kVp_2FBP_3mm                           13.629238   \n",
       "Liver_100dose_120kVp_2FBP_0-6mm                         19.571974   \n",
       "Liver_100dose_120kVp_1Safire_0-6mm                      14.520014   \n",
       "Liver_100dose_100kVp_1FBP_0-6mm                         19.571974   \n",
       "\n",
       "                                   original_shape_MajorAxisLength  \\\n",
       "Liver_40dose_100kVp_1FBP_0-6mm                          24.565261   \n",
       "Liver_40dose_100kVp_1FBP_3mm                            19.600375   \n",
       "Liver_40dose_120kVp_2FBP_0-6mm                          24.565261   \n",
       "Liver_40dose_100kVp_1Safire_0-6mm                       20.809929   \n",
       "Liver_40dose_120kVp_1Safire_0-6mm                       20.809929   \n",
       "...                                                           ...   \n",
       "Liver_100dose_100kVp_1Safire_0-6mm                      20.809929   \n",
       "Liver_100dose_100kVp_2FBP_3mm                           19.600375   \n",
       "Liver_100dose_120kVp_2FBP_0-6mm                         24.565261   \n",
       "Liver_100dose_120kVp_1Safire_0-6mm                      20.809929   \n",
       "Liver_100dose_100kVp_1FBP_0-6mm                         24.565261   \n",
       "\n",
       "                                   original_shape_Maximum2DDiameterColumn  \\\n",
       "Liver_40dose_100kVp_1FBP_0-6mm                         31.758957630842755   \n",
       "Liver_40dose_100kVp_1FBP_3mm                           22.374073883155617   \n",
       "Liver_40dose_120kVp_2FBP_0-6mm                         31.758957630842755   \n",
       "Liver_40dose_100kVp_1Safire_0-6mm                      23.296639484927496   \n",
       "Liver_40dose_120kVp_1Safire_0-6mm                      23.296639484927496   \n",
       "...                                                                   ...   \n",
       "Liver_100dose_100kVp_1Safire_0-6mm                     23.296639484927496   \n",
       "Liver_100dose_100kVp_2FBP_3mm                          22.374073883155617   \n",
       "Liver_100dose_120kVp_2FBP_0-6mm                        31.758957630842755   \n",
       "Liver_100dose_120kVp_1Safire_0-6mm                     23.296639484927496   \n",
       "Liver_100dose_100kVp_1FBP_0-6mm                        31.758957630842755   \n",
       "\n",
       "                                   original_shape_Maximum2DDiameterRow  \\\n",
       "Liver_40dose_100kVp_1FBP_0-6mm                      33.398498136286875   \n",
       "Liver_40dose_100kVp_1FBP_3mm                         21.13381936429976   \n",
       "Liver_40dose_120kVp_2FBP_0-6mm                      33.398498136286875   \n",
       "Liver_40dose_100kVp_1Safire_0-6mm                   22.860814754192276   \n",
       "Liver_40dose_120kVp_1Safire_0-6mm                   22.860814754192276   \n",
       "...                                                                ...   \n",
       "Liver_100dose_100kVp_1Safire_0-6mm                  22.860814754192276   \n",
       "Liver_100dose_100kVp_2FBP_3mm                        21.13381936429976   \n",
       "Liver_100dose_120kVp_2FBP_0-6mm                     33.398498136286875   \n",
       "Liver_100dose_120kVp_1Safire_0-6mm                  22.860814754192276   \n",
       "Liver_100dose_100kVp_1FBP_0-6mm                     33.398498136286875   \n",
       "\n",
       "                                   original_shape_Maximum2DDiameterSlice  \\\n",
       "Liver_40dose_100kVp_1FBP_0-6mm                         29.87075354111874   \n",
       "Liver_40dose_100kVp_1FBP_3mm                          16.258957961359574   \n",
       "Liver_40dose_120kVp_2FBP_0-6mm                         29.87075354111874   \n",
       "Liver_40dose_100kVp_1Safire_0-6mm                     21.461011799675717   \n",
       "Liver_40dose_120kVp_1Safire_0-6mm                     21.461011799675717   \n",
       "...                                                                  ...   \n",
       "Liver_100dose_100kVp_1Safire_0-6mm                    21.461011799675717   \n",
       "Liver_100dose_100kVp_2FBP_3mm                         16.258957961359574   \n",
       "Liver_100dose_120kVp_2FBP_0-6mm                        29.87075354111874   \n",
       "Liver_100dose_120kVp_1Safire_0-6mm                    21.461011799675717   \n",
       "Liver_100dose_100kVp_1FBP_0-6mm                        29.87075354111874   \n",
       "\n",
       "                                   original_shape_Maximum3DDiameter  \\\n",
       "Liver_40dose_100kVp_1FBP_0-6mm                     34.4666875679266   \n",
       "Liver_40dose_100kVp_1FBP_3mm                     22.915646321094165   \n",
       "Liver_40dose_120kVp_2FBP_0-6mm                     34.4666875679266   \n",
       "Liver_40dose_100kVp_1Safire_0-6mm                 24.03366805864604   \n",
       "Liver_40dose_120kVp_1Safire_0-6mm                 24.03366805864604   \n",
       "...                                                             ...   \n",
       "Liver_100dose_100kVp_1Safire_0-6mm                24.03366805864604   \n",
       "Liver_100dose_100kVp_2FBP_3mm                    22.915646321094165   \n",
       "Liver_100dose_120kVp_2FBP_0-6mm                    34.4666875679266   \n",
       "Liver_100dose_120kVp_1Safire_0-6mm                24.03366805864604   \n",
       "Liver_100dose_100kVp_1FBP_0-6mm                    34.4666875679266   \n",
       "\n",
       "                                   original_shape_MeshVolume  \\\n",
       "Liver_40dose_100kVp_1FBP_0-6mm             5354.171026779804   \n",
       "Liver_40dose_100kVp_1FBP_3mm                2533.36704826355   \n",
       "Liver_40dose_120kVp_2FBP_0-6mm             5354.171026779804   \n",
       "Liver_40dose_100kVp_1Safire_0-6mm         2402.8225584474276   \n",
       "Liver_40dose_120kVp_1Safire_0-6mm         2402.8225584474276   \n",
       "...                                                      ...   \n",
       "Liver_100dose_100kVp_1Safire_0-6mm        2402.8225584474276   \n",
       "Liver_100dose_100kVp_2FBP_3mm               2533.36704826355   \n",
       "Liver_100dose_120kVp_2FBP_0-6mm            5354.171026779804   \n",
       "Liver_100dose_120kVp_1Safire_0-6mm        2402.8225584474276   \n",
       "Liver_100dose_100kVp_1FBP_0-6mm            5354.171026779804   \n",
       "\n",
       "                                   original_shape_MinorAxisLength  ...  \\\n",
       "Liver_40dose_100kVp_1FBP_0-6mm                          20.322775  ...   \n",
       "Liver_40dose_100kVp_1FBP_3mm                            14.094527  ...   \n",
       "Liver_40dose_120kVp_2FBP_0-6mm                          20.322775  ...   \n",
       "Liver_40dose_100kVp_1Safire_0-6mm                       15.063095  ...   \n",
       "Liver_40dose_120kVp_1Safire_0-6mm                       15.063095  ...   \n",
       "...                                                           ...  ...   \n",
       "Liver_100dose_100kVp_1Safire_0-6mm                      15.063095  ...   \n",
       "Liver_100dose_100kVp_2FBP_3mm                           14.094527  ...   \n",
       "Liver_100dose_120kVp_2FBP_0-6mm                         20.322775  ...   \n",
       "Liver_100dose_120kVp_1Safire_0-6mm                      15.063095  ...   \n",
       "Liver_100dose_100kVp_1FBP_0-6mm                         20.322775  ...   \n",
       "\n",
       "                                   original_glszm_SmallAreaHighGrayLevelEmphasis  \\\n",
       "Liver_40dose_100kVp_1FBP_0-6mm                                 86.64053274314192   \n",
       "Liver_40dose_100kVp_1FBP_3mm                                  11.478246857363603   \n",
       "Liver_40dose_120kVp_2FBP_0-6mm                                  79.9146198235445   \n",
       "Liver_40dose_100kVp_1Safire_0-6mm                              40.01711449439225   \n",
       "Liver_40dose_120kVp_1Safire_0-6mm                              34.23894750246335   \n",
       "...                                                                          ...   \n",
       "Liver_100dose_100kVp_1Safire_0-6mm                            21.822331651734256   \n",
       "Liver_100dose_100kVp_2FBP_3mm                                  8.097784824679762   \n",
       "Liver_100dose_120kVp_2FBP_0-6mm                                46.15402970963477   \n",
       "Liver_100dose_120kVp_1Safire_0-6mm                             16.74829818851439   \n",
       "Liver_100dose_100kVp_1FBP_0-6mm                                45.91300599011407   \n",
       "\n",
       "                                   original_glszm_SmallAreaLowGrayLevelEmphasis  \\\n",
       "Liver_40dose_100kVp_1FBP_0-6mm                             0.009103042804214876   \n",
       "Liver_40dose_100kVp_1FBP_3mm                                 0.1387492073078278   \n",
       "Liver_40dose_120kVp_2FBP_0-6mm                             0.009880861549117272   \n",
       "Liver_40dose_100kVp_1Safire_0-6mm                          0.018114961729878625   \n",
       "Liver_40dose_120kVp_1Safire_0-6mm                          0.020970194248979328   \n",
       "...                                                                         ...   \n",
       "Liver_100dose_100kVp_1Safire_0-6mm                         0.030646693530023524   \n",
       "Liver_100dose_100kVp_2FBP_3mm                               0.19957422325575394   \n",
       "Liver_100dose_120kVp_2FBP_0-6mm                             0.01441231216920008   \n",
       "Liver_100dose_120kVp_1Safire_0-6mm                         0.046452309702076165   \n",
       "Liver_100dose_100kVp_1FBP_0-6mm                            0.018254344411478676   \n",
       "\n",
       "                                   original_glszm_ZoneEntropy  \\\n",
       "Liver_40dose_100kVp_1FBP_0-6mm             5.8374394686652655   \n",
       "Liver_40dose_100kVp_1FBP_3mm                4.254520442296054   \n",
       "Liver_40dose_120kVp_2FBP_0-6mm              5.857494199321784   \n",
       "Liver_40dose_100kVp_1Safire_0-6mm            5.33475898776377   \n",
       "Liver_40dose_120kVp_1Safire_0-6mm           5.395830633690871   \n",
       "...                                                       ...   \n",
       "Liver_100dose_100kVp_1Safire_0-6mm          5.111779806765031   \n",
       "Liver_100dose_100kVp_2FBP_3mm               3.721608360605632   \n",
       "Liver_100dose_120kVp_2FBP_0-6mm             5.560202298510825   \n",
       "Liver_100dose_120kVp_1Safire_0-6mm          5.056197649280517   \n",
       "Liver_100dose_100kVp_1FBP_0-6mm             5.620399389066849   \n",
       "\n",
       "                                   original_glszm_ZonePercentage  \\\n",
       "Liver_40dose_100kVp_1FBP_0-6mm               0.22292490118577074   \n",
       "Liver_40dose_100kVp_1FBP_3mm                 0.06178343949044586   \n",
       "Liver_40dose_120kVp_2FBP_0-6mm                0.2054119793250228   \n",
       "Liver_40dose_100kVp_1Safire_0-6mm             0.1471814879591013   \n",
       "Liver_40dose_120kVp_1Safire_0-6mm            0.13009551997847438   \n",
       "...                                                          ...   \n",
       "Liver_100dose_100kVp_1Safire_0-6mm           0.08892775460782995   \n",
       "Liver_100dose_100kVp_2FBP_3mm               0.027388535031847135   \n",
       "Liver_100dose_120kVp_2FBP_0-6mm              0.12429309820614168   \n",
       "Liver_100dose_120kVp_1Safire_0-6mm            0.0782994753127943   \n",
       "Liver_100dose_100kVp_1FBP_0-6mm              0.13250228032836728   \n",
       "\n",
       "                                   original_glszm_ZoneVariance  \\\n",
       "Liver_40dose_100kVp_1FBP_0-6mm               3266.767529299331   \n",
       "Liver_40dose_100kVp_1FBP_3mm                6113.3882452970565   \n",
       "Liver_40dose_120kVp_2FBP_0-6mm               4126.261213154037   \n",
       "Liver_40dose_100kVp_1Safire_0-6mm            5274.914739362786   \n",
       "Liver_40dose_120kVp_1Safire_0-6mm            7171.406471469561   \n",
       "...                                                        ...   \n",
       "Liver_100dose_100kVp_1Safire_0-6mm          15688.015577186721   \n",
       "Liver_100dose_100kVp_2FBP_3mm               21896.528934559217   \n",
       "Liver_100dose_120kVp_2FBP_0-6mm             14496.664759584639   \n",
       "Liver_100dose_120kVp_1Safire_0-6mm           19543.23815554847   \n",
       "Liver_100dose_100kVp_1FBP_0-6mm             12242.191798259535   \n",
       "\n",
       "                                   original_ngtdm_Busyness  \\\n",
       "Liver_40dose_100kVp_1FBP_0-6mm           8.539188082126298   \n",
       "Liver_40dose_100kVp_1FBP_3mm             7.540413350686832   \n",
       "Liver_40dose_120kVp_2FBP_0-6mm           8.015592187899072   \n",
       "Liver_40dose_100kVp_1Safire_0-6mm        7.770025190925585   \n",
       "Liver_40dose_120kVp_1Safire_0-6mm        8.112724487456571   \n",
       "...                                                    ...   \n",
       "Liver_100dose_100kVp_1Safire_0-6mm      14.787613241943117   \n",
       "Liver_100dose_100kVp_2FBP_3mm            9.004280507638269   \n",
       "Liver_100dose_120kVp_2FBP_0-6mm          11.43338701122848   \n",
       "Liver_100dose_120kVp_1Safire_0-6mm      18.817147874525862   \n",
       "Liver_100dose_100kVp_1FBP_0-6mm          13.21306654263535   \n",
       "\n",
       "                                   original_ngtdm_Coarseness  \\\n",
       "Liver_40dose_100kVp_1FBP_0-6mm        0.00042734013492694024   \n",
       "Liver_40dose_100kVp_1FBP_3mm            0.004464606683774304   \n",
       "Liver_40dose_120kVp_2FBP_0-6mm         0.0004276562943401968   \n",
       "Liver_40dose_100kVp_1Safire_0-6mm       0.000945997617937941   \n",
       "Liver_40dose_120kVp_1Safire_0-6mm      0.0009405778643251112   \n",
       "...                                                      ...   \n",
       "Liver_100dose_100kVp_1Safire_0-6mm     0.0009237282451954408   \n",
       "Liver_100dose_100kVp_2FBP_3mm            0.00494586475356255   \n",
       "Liver_100dose_120kVp_2FBP_0-6mm       0.00042856615371420127   \n",
       "Liver_100dose_120kVp_1Safire_0-6mm     0.0009290553597871176   \n",
       "Liver_100dose_100kVp_1FBP_0-6mm       0.00043221326414884416   \n",
       "\n",
       "                                   original_ngtdm_Complexity  \\\n",
       "Liver_40dose_100kVp_1FBP_0-6mm             291.9049165528216   \n",
       "Liver_40dose_100kVp_1FBP_3mm               13.38954073441938   \n",
       "Liver_40dose_120kVp_2FBP_0-6mm            309.03037924398427   \n",
       "Liver_40dose_100kVp_1Safire_0-6mm          93.27876970942192   \n",
       "Liver_40dose_120kVp_1Safire_0-6mm          87.30613677678195   \n",
       "...                                                      ...   \n",
       "Liver_100dose_100kVp_1Safire_0-6mm        34.125968735448865   \n",
       "Liver_100dose_100kVp_2FBP_3mm              7.397350434035868   \n",
       "Liver_100dose_120kVp_2FBP_0-6mm           147.01898198287898   \n",
       "Liver_100dose_120kVp_1Safire_0-6mm        25.587910164626972   \n",
       "Liver_100dose_100kVp_1FBP_0-6mm            133.4179518662501   \n",
       "\n",
       "                                   original_ngtdm_Contrast  \\\n",
       "Liver_40dose_100kVp_1FBP_0-6mm         0.06068467425435591   \n",
       "Liver_40dose_100kVp_1FBP_3mm           0.03221234100211815   \n",
       "Liver_40dose_120kVp_2FBP_0-6mm        0.046783171608447444   \n",
       "Liver_40dose_100kVp_1Safire_0-6mm      0.03335306406821317   \n",
       "Liver_40dose_120kVp_1Safire_0-6mm     0.027262822854195227   \n",
       "...                                                    ...   \n",
       "Liver_100dose_100kVp_1Safire_0-6mm     0.02415617530324752   \n",
       "Liver_100dose_100kVp_2FBP_3mm         0.013884011432438143   \n",
       "Liver_100dose_120kVp_2FBP_0-6mm       0.026732491238320565   \n",
       "Liver_100dose_120kVp_1Safire_0-6mm     0.02625435433257682   \n",
       "Liver_100dose_100kVp_1FBP_0-6mm        0.03483005454364325   \n",
       "\n",
       "                                   original_ngtdm_Strength  \n",
       "Liver_40dose_100kVp_1FBP_0-6mm         0.05845070976571478  \n",
       "Liver_40dose_100kVp_1FBP_3mm           0.06569616270171548  \n",
       "Liver_40dose_120kVp_2FBP_0-6mm            0.06801660342546  \n",
       "Liver_40dose_100kVp_1Safire_0-6mm      0.06567205419433873  \n",
       "Liver_40dose_120kVp_1Safire_0-6mm      0.06980721130081202  \n",
       "...                                                    ...  \n",
       "Liver_100dose_100kVp_1Safire_0-6mm    0.033525789127488666  \n",
       "Liver_100dose_100kVp_2FBP_3mm          0.06141648730822935  \n",
       "Liver_100dose_120kVp_2FBP_0-6mm         0.0496917436696019  \n",
       "Liver_100dose_120kVp_1Safire_0-6mm     0.02609160382502835  \n",
       "Liver_100dose_100kVp_1FBP_0-6mm       0.040424183186724624  \n",
       "\n",
       "[72 rows x 107 columns]"
      ]
     },
     "execution_count": 7,
     "metadata": {},
     "output_type": "execute_result"
    }
   ],
   "source": [
    "df313_6 = pd.DataFrame.from_dict(feature_space).transpose()\n",
    "df313_6"
   ]
  },
  {
   "cell_type": "code",
   "execution_count": 8,
   "id": "e06cafba-28ac-4d3b-8ff2-9ec3ee9ede1a",
   "metadata": {},
   "outputs": [],
   "source": [
    "df313_6.to_csv('Liver313-6.csv')"
   ]
  },
  {
   "cell_type": "markdown",
   "id": "ab0fa75c-90e5-41cc-b199-c924d292fc40",
   "metadata": {},
   "source": [
    "## Liver313-10"
   ]
  },
  {
   "cell_type": "code",
   "execution_count": 12,
   "id": "a4fe26c5-c8d0-4d7a-8fa5-5709f9a523f2",
   "metadata": {},
   "outputs": [
    {
     "name": "stdout",
     "output_type": "stream",
     "text": [
      "\n"
     ]
    },
    {
     "name": "stderr",
     "output_type": "stream",
     "text": [
      "GLCM is symmetrical, therefore Sum Average = 2 * Joint Average, only 1 needs to be calculated\n"
     ]
    },
    {
     "name": "stdout",
     "output_type": "stream",
     "text": [
      "\n"
     ]
    },
    {
     "name": "stderr",
     "output_type": "stream",
     "text": [
      "GLCM is symmetrical, therefore Sum Average = 2 * Joint Average, only 1 needs to be calculated\n"
     ]
    },
    {
     "name": "stdout",
     "output_type": "stream",
     "text": [
      "\n"
     ]
    },
    {
     "name": "stderr",
     "output_type": "stream",
     "text": [
      "GLCM is symmetrical, therefore Sum Average = 2 * Joint Average, only 1 needs to be calculated\n"
     ]
    },
    {
     "name": "stdout",
     "output_type": "stream",
     "text": [
      "\n"
     ]
    },
    {
     "name": "stderr",
     "output_type": "stream",
     "text": [
      "GLCM is symmetrical, therefore Sum Average = 2 * Joint Average, only 1 needs to be calculated\n"
     ]
    },
    {
     "name": "stdout",
     "output_type": "stream",
     "text": [
      "\n"
     ]
    },
    {
     "name": "stderr",
     "output_type": "stream",
     "text": [
      "GLCM is symmetrical, therefore Sum Average = 2 * Joint Average, only 1 needs to be calculated\n"
     ]
    },
    {
     "name": "stdout",
     "output_type": "stream",
     "text": [
      "\n"
     ]
    },
    {
     "name": "stderr",
     "output_type": "stream",
     "text": [
      "GLCM is symmetrical, therefore Sum Average = 2 * Joint Average, only 1 needs to be calculated\n"
     ]
    },
    {
     "name": "stdout",
     "output_type": "stream",
     "text": [
      "\n"
     ]
    },
    {
     "name": "stderr",
     "output_type": "stream",
     "text": [
      "GLCM is symmetrical, therefore Sum Average = 2 * Joint Average, only 1 needs to be calculated\n"
     ]
    },
    {
     "name": "stdout",
     "output_type": "stream",
     "text": [
      "\n"
     ]
    },
    {
     "name": "stderr",
     "output_type": "stream",
     "text": [
      "GLCM is symmetrical, therefore Sum Average = 2 * Joint Average, only 1 needs to be calculated\n"
     ]
    },
    {
     "name": "stdout",
     "output_type": "stream",
     "text": [
      "\n"
     ]
    },
    {
     "name": "stderr",
     "output_type": "stream",
     "text": [
      "GLCM is symmetrical, therefore Sum Average = 2 * Joint Average, only 1 needs to be calculated\n"
     ]
    },
    {
     "name": "stdout",
     "output_type": "stream",
     "text": [
      "\n"
     ]
    },
    {
     "name": "stderr",
     "output_type": "stream",
     "text": [
      "GLCM is symmetrical, therefore Sum Average = 2 * Joint Average, only 1 needs to be calculated\n"
     ]
    },
    {
     "name": "stdout",
     "output_type": "stream",
     "text": [
      "\n"
     ]
    },
    {
     "name": "stderr",
     "output_type": "stream",
     "text": [
      "GLCM is symmetrical, therefore Sum Average = 2 * Joint Average, only 1 needs to be calculated\n"
     ]
    },
    {
     "name": "stdout",
     "output_type": "stream",
     "text": [
      "\n"
     ]
    },
    {
     "name": "stderr",
     "output_type": "stream",
     "text": [
      "GLCM is symmetrical, therefore Sum Average = 2 * Joint Average, only 1 needs to be calculated\n"
     ]
    },
    {
     "name": "stdout",
     "output_type": "stream",
     "text": [
      "\n"
     ]
    },
    {
     "name": "stderr",
     "output_type": "stream",
     "text": [
      "GLCM is symmetrical, therefore Sum Average = 2 * Joint Average, only 1 needs to be calculated\n"
     ]
    },
    {
     "name": "stdout",
     "output_type": "stream",
     "text": [
      "\n"
     ]
    },
    {
     "name": "stderr",
     "output_type": "stream",
     "text": [
      "GLCM is symmetrical, therefore Sum Average = 2 * Joint Average, only 1 needs to be calculated\n"
     ]
    },
    {
     "name": "stdout",
     "output_type": "stream",
     "text": [
      "\n"
     ]
    },
    {
     "name": "stderr",
     "output_type": "stream",
     "text": [
      "GLCM is symmetrical, therefore Sum Average = 2 * Joint Average, only 1 needs to be calculated\n"
     ]
    },
    {
     "name": "stdout",
     "output_type": "stream",
     "text": [
      "\n"
     ]
    },
    {
     "name": "stderr",
     "output_type": "stream",
     "text": [
      "GLCM is symmetrical, therefore Sum Average = 2 * Joint Average, only 1 needs to be calculated\n"
     ]
    },
    {
     "name": "stdout",
     "output_type": "stream",
     "text": [
      "\n"
     ]
    },
    {
     "name": "stderr",
     "output_type": "stream",
     "text": [
      "GLCM is symmetrical, therefore Sum Average = 2 * Joint Average, only 1 needs to be calculated\n"
     ]
    },
    {
     "name": "stdout",
     "output_type": "stream",
     "text": [
      "\n"
     ]
    },
    {
     "name": "stderr",
     "output_type": "stream",
     "text": [
      "GLCM is symmetrical, therefore Sum Average = 2 * Joint Average, only 1 needs to be calculated\n"
     ]
    },
    {
     "name": "stdout",
     "output_type": "stream",
     "text": [
      "\n"
     ]
    },
    {
     "name": "stderr",
     "output_type": "stream",
     "text": [
      "GLCM is symmetrical, therefore Sum Average = 2 * Joint Average, only 1 needs to be calculated\n"
     ]
    },
    {
     "name": "stdout",
     "output_type": "stream",
     "text": [
      "\n"
     ]
    },
    {
     "name": "stderr",
     "output_type": "stream",
     "text": [
      "GLCM is symmetrical, therefore Sum Average = 2 * Joint Average, only 1 needs to be calculated\n"
     ]
    },
    {
     "name": "stdout",
     "output_type": "stream",
     "text": [
      "\n"
     ]
    },
    {
     "name": "stderr",
     "output_type": "stream",
     "text": [
      "GLCM is symmetrical, therefore Sum Average = 2 * Joint Average, only 1 needs to be calculated\n"
     ]
    },
    {
     "name": "stdout",
     "output_type": "stream",
     "text": [
      "\n"
     ]
    },
    {
     "name": "stderr",
     "output_type": "stream",
     "text": [
      "GLCM is symmetrical, therefore Sum Average = 2 * Joint Average, only 1 needs to be calculated\n"
     ]
    },
    {
     "name": "stdout",
     "output_type": "stream",
     "text": [
      "\n"
     ]
    },
    {
     "name": "stderr",
     "output_type": "stream",
     "text": [
      "GLCM is symmetrical, therefore Sum Average = 2 * Joint Average, only 1 needs to be calculated\n"
     ]
    },
    {
     "name": "stdout",
     "output_type": "stream",
     "text": [
      "\n"
     ]
    },
    {
     "name": "stderr",
     "output_type": "stream",
     "text": [
      "GLCM is symmetrical, therefore Sum Average = 2 * Joint Average, only 1 needs to be calculated\n"
     ]
    },
    {
     "name": "stdout",
     "output_type": "stream",
     "text": [
      "\n"
     ]
    },
    {
     "name": "stderr",
     "output_type": "stream",
     "text": [
      "GLCM is symmetrical, therefore Sum Average = 2 * Joint Average, only 1 needs to be calculated\n"
     ]
    },
    {
     "name": "stdout",
     "output_type": "stream",
     "text": [
      "\n"
     ]
    },
    {
     "name": "stderr",
     "output_type": "stream",
     "text": [
      "GLCM is symmetrical, therefore Sum Average = 2 * Joint Average, only 1 needs to be calculated\n"
     ]
    },
    {
     "name": "stdout",
     "output_type": "stream",
     "text": [
      "\n"
     ]
    },
    {
     "name": "stderr",
     "output_type": "stream",
     "text": [
      "GLCM is symmetrical, therefore Sum Average = 2 * Joint Average, only 1 needs to be calculated\n"
     ]
    },
    {
     "name": "stdout",
     "output_type": "stream",
     "text": [
      "\n"
     ]
    },
    {
     "name": "stderr",
     "output_type": "stream",
     "text": [
      "GLCM is symmetrical, therefore Sum Average = 2 * Joint Average, only 1 needs to be calculated\n"
     ]
    },
    {
     "name": "stdout",
     "output_type": "stream",
     "text": [
      "\n"
     ]
    },
    {
     "name": "stderr",
     "output_type": "stream",
     "text": [
      "GLCM is symmetrical, therefore Sum Average = 2 * Joint Average, only 1 needs to be calculated\n"
     ]
    },
    {
     "name": "stdout",
     "output_type": "stream",
     "text": [
      "\n"
     ]
    },
    {
     "name": "stderr",
     "output_type": "stream",
     "text": [
      "GLCM is symmetrical, therefore Sum Average = 2 * Joint Average, only 1 needs to be calculated\n"
     ]
    },
    {
     "name": "stdout",
     "output_type": "stream",
     "text": [
      "\n"
     ]
    },
    {
     "name": "stderr",
     "output_type": "stream",
     "text": [
      "GLCM is symmetrical, therefore Sum Average = 2 * Joint Average, only 1 needs to be calculated\n"
     ]
    },
    {
     "name": "stdout",
     "output_type": "stream",
     "text": [
      "\n"
     ]
    },
    {
     "name": "stderr",
     "output_type": "stream",
     "text": [
      "GLCM is symmetrical, therefore Sum Average = 2 * Joint Average, only 1 needs to be calculated\n"
     ]
    },
    {
     "name": "stdout",
     "output_type": "stream",
     "text": [
      "\n"
     ]
    },
    {
     "name": "stderr",
     "output_type": "stream",
     "text": [
      "GLCM is symmetrical, therefore Sum Average = 2 * Joint Average, only 1 needs to be calculated\n"
     ]
    },
    {
     "name": "stdout",
     "output_type": "stream",
     "text": [
      "\n"
     ]
    },
    {
     "name": "stderr",
     "output_type": "stream",
     "text": [
      "GLCM is symmetrical, therefore Sum Average = 2 * Joint Average, only 1 needs to be calculated\n"
     ]
    },
    {
     "name": "stdout",
     "output_type": "stream",
     "text": [
      "\n"
     ]
    },
    {
     "name": "stderr",
     "output_type": "stream",
     "text": [
      "GLCM is symmetrical, therefore Sum Average = 2 * Joint Average, only 1 needs to be calculated\n"
     ]
    },
    {
     "name": "stdout",
     "output_type": "stream",
     "text": [
      "\n"
     ]
    },
    {
     "name": "stderr",
     "output_type": "stream",
     "text": [
      "GLCM is symmetrical, therefore Sum Average = 2 * Joint Average, only 1 needs to be calculated\n"
     ]
    },
    {
     "name": "stdout",
     "output_type": "stream",
     "text": [
      "\n"
     ]
    },
    {
     "name": "stderr",
     "output_type": "stream",
     "text": [
      "GLCM is symmetrical, therefore Sum Average = 2 * Joint Average, only 1 needs to be calculated\n"
     ]
    },
    {
     "name": "stdout",
     "output_type": "stream",
     "text": [
      "\n"
     ]
    },
    {
     "name": "stderr",
     "output_type": "stream",
     "text": [
      "GLCM is symmetrical, therefore Sum Average = 2 * Joint Average, only 1 needs to be calculated\n"
     ]
    },
    {
     "name": "stdout",
     "output_type": "stream",
     "text": [
      "\n"
     ]
    },
    {
     "name": "stderr",
     "output_type": "stream",
     "text": [
      "GLCM is symmetrical, therefore Sum Average = 2 * Joint Average, only 1 needs to be calculated\n"
     ]
    },
    {
     "name": "stdout",
     "output_type": "stream",
     "text": [
      "\n"
     ]
    },
    {
     "name": "stderr",
     "output_type": "stream",
     "text": [
      "GLCM is symmetrical, therefore Sum Average = 2 * Joint Average, only 1 needs to be calculated\n"
     ]
    },
    {
     "name": "stdout",
     "output_type": "stream",
     "text": [
      "\n"
     ]
    },
    {
     "name": "stderr",
     "output_type": "stream",
     "text": [
      "GLCM is symmetrical, therefore Sum Average = 2 * Joint Average, only 1 needs to be calculated\n"
     ]
    },
    {
     "name": "stdout",
     "output_type": "stream",
     "text": [
      "\n"
     ]
    },
    {
     "name": "stderr",
     "output_type": "stream",
     "text": [
      "GLCM is symmetrical, therefore Sum Average = 2 * Joint Average, only 1 needs to be calculated\n"
     ]
    },
    {
     "name": "stdout",
     "output_type": "stream",
     "text": [
      "\n"
     ]
    },
    {
     "name": "stderr",
     "output_type": "stream",
     "text": [
      "GLCM is symmetrical, therefore Sum Average = 2 * Joint Average, only 1 needs to be calculated\n"
     ]
    },
    {
     "name": "stdout",
     "output_type": "stream",
     "text": [
      "\n"
     ]
    },
    {
     "name": "stderr",
     "output_type": "stream",
     "text": [
      "GLCM is symmetrical, therefore Sum Average = 2 * Joint Average, only 1 needs to be calculated\n"
     ]
    },
    {
     "name": "stdout",
     "output_type": "stream",
     "text": [
      "\n"
     ]
    },
    {
     "name": "stderr",
     "output_type": "stream",
     "text": [
      "GLCM is symmetrical, therefore Sum Average = 2 * Joint Average, only 1 needs to be calculated\n"
     ]
    },
    {
     "name": "stdout",
     "output_type": "stream",
     "text": [
      "\n"
     ]
    },
    {
     "name": "stderr",
     "output_type": "stream",
     "text": [
      "GLCM is symmetrical, therefore Sum Average = 2 * Joint Average, only 1 needs to be calculated\n"
     ]
    },
    {
     "name": "stdout",
     "output_type": "stream",
     "text": [
      "\n"
     ]
    },
    {
     "name": "stderr",
     "output_type": "stream",
     "text": [
      "GLCM is symmetrical, therefore Sum Average = 2 * Joint Average, only 1 needs to be calculated\n"
     ]
    },
    {
     "name": "stdout",
     "output_type": "stream",
     "text": [
      "\n"
     ]
    },
    {
     "name": "stderr",
     "output_type": "stream",
     "text": [
      "GLCM is symmetrical, therefore Sum Average = 2 * Joint Average, only 1 needs to be calculated\n"
     ]
    },
    {
     "name": "stdout",
     "output_type": "stream",
     "text": [
      "\n"
     ]
    },
    {
     "name": "stderr",
     "output_type": "stream",
     "text": [
      "GLCM is symmetrical, therefore Sum Average = 2 * Joint Average, only 1 needs to be calculated\n"
     ]
    },
    {
     "name": "stdout",
     "output_type": "stream",
     "text": [
      "\n"
     ]
    },
    {
     "name": "stderr",
     "output_type": "stream",
     "text": [
      "GLCM is symmetrical, therefore Sum Average = 2 * Joint Average, only 1 needs to be calculated\n"
     ]
    },
    {
     "name": "stdout",
     "output_type": "stream",
     "text": [
      "\n"
     ]
    },
    {
     "name": "stderr",
     "output_type": "stream",
     "text": [
      "GLCM is symmetrical, therefore Sum Average = 2 * Joint Average, only 1 needs to be calculated\n"
     ]
    },
    {
     "name": "stdout",
     "output_type": "stream",
     "text": [
      "\n"
     ]
    },
    {
     "name": "stderr",
     "output_type": "stream",
     "text": [
      "GLCM is symmetrical, therefore Sum Average = 2 * Joint Average, only 1 needs to be calculated\n"
     ]
    },
    {
     "name": "stdout",
     "output_type": "stream",
     "text": [
      "\n"
     ]
    },
    {
     "name": "stderr",
     "output_type": "stream",
     "text": [
      "GLCM is symmetrical, therefore Sum Average = 2 * Joint Average, only 1 needs to be calculated\n"
     ]
    },
    {
     "name": "stdout",
     "output_type": "stream",
     "text": [
      "\n"
     ]
    },
    {
     "name": "stderr",
     "output_type": "stream",
     "text": [
      "GLCM is symmetrical, therefore Sum Average = 2 * Joint Average, only 1 needs to be calculated\n"
     ]
    },
    {
     "name": "stdout",
     "output_type": "stream",
     "text": [
      "\n"
     ]
    },
    {
     "name": "stderr",
     "output_type": "stream",
     "text": [
      "GLCM is symmetrical, therefore Sum Average = 2 * Joint Average, only 1 needs to be calculated\n"
     ]
    },
    {
     "name": "stdout",
     "output_type": "stream",
     "text": [
      "\n"
     ]
    },
    {
     "name": "stderr",
     "output_type": "stream",
     "text": [
      "GLCM is symmetrical, therefore Sum Average = 2 * Joint Average, only 1 needs to be calculated\n"
     ]
    },
    {
     "name": "stdout",
     "output_type": "stream",
     "text": [
      "\n"
     ]
    },
    {
     "name": "stderr",
     "output_type": "stream",
     "text": [
      "GLCM is symmetrical, therefore Sum Average = 2 * Joint Average, only 1 needs to be calculated\n"
     ]
    },
    {
     "name": "stdout",
     "output_type": "stream",
     "text": [
      "\n"
     ]
    },
    {
     "name": "stderr",
     "output_type": "stream",
     "text": [
      "GLCM is symmetrical, therefore Sum Average = 2 * Joint Average, only 1 needs to be calculated\n"
     ]
    },
    {
     "name": "stdout",
     "output_type": "stream",
     "text": [
      "\n"
     ]
    },
    {
     "name": "stderr",
     "output_type": "stream",
     "text": [
      "GLCM is symmetrical, therefore Sum Average = 2 * Joint Average, only 1 needs to be calculated\n"
     ]
    },
    {
     "name": "stdout",
     "output_type": "stream",
     "text": [
      "\n"
     ]
    },
    {
     "name": "stderr",
     "output_type": "stream",
     "text": [
      "GLCM is symmetrical, therefore Sum Average = 2 * Joint Average, only 1 needs to be calculated\n"
     ]
    },
    {
     "name": "stdout",
     "output_type": "stream",
     "text": [
      "\n"
     ]
    },
    {
     "name": "stderr",
     "output_type": "stream",
     "text": [
      "GLCM is symmetrical, therefore Sum Average = 2 * Joint Average, only 1 needs to be calculated\n"
     ]
    },
    {
     "name": "stdout",
     "output_type": "stream",
     "text": [
      "\n"
     ]
    },
    {
     "name": "stderr",
     "output_type": "stream",
     "text": [
      "GLCM is symmetrical, therefore Sum Average = 2 * Joint Average, only 1 needs to be calculated\n"
     ]
    },
    {
     "name": "stdout",
     "output_type": "stream",
     "text": [
      "\n"
     ]
    },
    {
     "name": "stderr",
     "output_type": "stream",
     "text": [
      "GLCM is symmetrical, therefore Sum Average = 2 * Joint Average, only 1 needs to be calculated\n"
     ]
    },
    {
     "name": "stdout",
     "output_type": "stream",
     "text": [
      "\n"
     ]
    },
    {
     "name": "stderr",
     "output_type": "stream",
     "text": [
      "GLCM is symmetrical, therefore Sum Average = 2 * Joint Average, only 1 needs to be calculated\n"
     ]
    },
    {
     "name": "stdout",
     "output_type": "stream",
     "text": [
      "\n"
     ]
    },
    {
     "name": "stderr",
     "output_type": "stream",
     "text": [
      "GLCM is symmetrical, therefore Sum Average = 2 * Joint Average, only 1 needs to be calculated\n"
     ]
    },
    {
     "name": "stdout",
     "output_type": "stream",
     "text": [
      "\n"
     ]
    },
    {
     "name": "stderr",
     "output_type": "stream",
     "text": [
      "GLCM is symmetrical, therefore Sum Average = 2 * Joint Average, only 1 needs to be calculated\n"
     ]
    },
    {
     "name": "stdout",
     "output_type": "stream",
     "text": [
      "\n"
     ]
    },
    {
     "name": "stderr",
     "output_type": "stream",
     "text": [
      "GLCM is symmetrical, therefore Sum Average = 2 * Joint Average, only 1 needs to be calculated\n"
     ]
    },
    {
     "name": "stdout",
     "output_type": "stream",
     "text": [
      "\n"
     ]
    },
    {
     "name": "stderr",
     "output_type": "stream",
     "text": [
      "GLCM is symmetrical, therefore Sum Average = 2 * Joint Average, only 1 needs to be calculated\n"
     ]
    },
    {
     "name": "stdout",
     "output_type": "stream",
     "text": [
      "\n"
     ]
    },
    {
     "name": "stderr",
     "output_type": "stream",
     "text": [
      "GLCM is symmetrical, therefore Sum Average = 2 * Joint Average, only 1 needs to be calculated\n"
     ]
    },
    {
     "name": "stdout",
     "output_type": "stream",
     "text": [
      "\n"
     ]
    },
    {
     "name": "stderr",
     "output_type": "stream",
     "text": [
      "GLCM is symmetrical, therefore Sum Average = 2 * Joint Average, only 1 needs to be calculated\n"
     ]
    },
    {
     "name": "stdout",
     "output_type": "stream",
     "text": [
      "\n"
     ]
    },
    {
     "name": "stderr",
     "output_type": "stream",
     "text": [
      "GLCM is symmetrical, therefore Sum Average = 2 * Joint Average, only 1 needs to be calculated\n"
     ]
    },
    {
     "name": "stdout",
     "output_type": "stream",
     "text": [
      "\n"
     ]
    },
    {
     "name": "stderr",
     "output_type": "stream",
     "text": [
      "GLCM is symmetrical, therefore Sum Average = 2 * Joint Average, only 1 needs to be calculated\n"
     ]
    },
    {
     "name": "stdout",
     "output_type": "stream",
     "text": [
      "\n",
      "Extraction complete!\n"
     ]
    }
   ],
   "source": [
    "feature_space = {}\n",
    "firstIteration = True\n",
    "for img in liver_images:\n",
    "    \n",
    "    # specify image path\n",
    "    if '40dose' in img:\n",
    "        imagePath = path + '/Images/Liver/Liver_40dose/' + img\n",
    "    elif '60dose' in img:\n",
    "        imagePath = path + '/Images/Liver/Liver_60dose/' + img\n",
    "    else:\n",
    "        imagePath = path + '/Images/Liver/Liver_100dose/' + img\n",
    "\n",
    "    # specify mask path\n",
    "    msk = ''\n",
    "    if 'FBP' in img:\n",
    "        if '0-6mm' in img:\n",
    "            msk = 'Liver313-10_FBP_0-6mm.nii'\n",
    "        elif '1-5mm' in img:\n",
    "            msk = 'Liver313-10_FBP_1-5mm.nii'\n",
    "        else:\n",
    "            msk = 'Liver313-10_FBP_3mm.nii'\n",
    "    else:\n",
    "        if '0-6mm' in img:\n",
    "            msk = 'Liver313-10_Safire_0-6mm.nii'\n",
    "        elif '1-5mm' in img:\n",
    "            msk = 'Liver313-10_Safire_1-5mm.nii'\n",
    "        else:\n",
    "            msk = 'Liver313-10_Safire_3mm.nii'\n",
    "    maskPath = maskPath_primer + '/Liver313-10/' + msk\n",
    "            \n",
    "\n",
    "    # status\n",
    "    #print('Processing...\\timg\\t\\t\\t\\t\\tmsk')\n",
    "    #print(imagePath + '\\n' + maskPath)\n",
    "    #print('\\t\\t' + img + '\\t' + msk)\n",
    "    print()\n",
    "\n",
    "    # feature extraction\n",
    "    result = extractor.execute(imagePath, maskPath)\n",
    "\n",
    "    if firstIteration:\n",
    "        features = list(result.keys())[22:] # '0:21' diagnostic features, '22:' radiomic features\n",
    "        firstIteration = False\n",
    "\n",
    "    feature_space_element = {}\n",
    "    for key, value in six.iteritems(result):\n",
    "        if key in features:\n",
    "            feature_space_element[key] = value\n",
    "    feature_space[img[:-4]] = feature_space_element # 'img[:-4]' removes '.nii'\n",
    "\n",
    "    # break # comment for 1 iteration (debugging)\n",
    "\n",
    "print('\\nExtraction complete!')"
   ]
  },
  {
   "cell_type": "code",
   "execution_count": 13,
   "id": "4a54bfbe-a89e-4d5d-9e28-b8a31f4225b1",
   "metadata": {},
   "outputs": [
    {
     "data": {
      "text/html": [
       "<div>\n",
       "<style scoped>\n",
       "    .dataframe tbody tr th:only-of-type {\n",
       "        vertical-align: middle;\n",
       "    }\n",
       "\n",
       "    .dataframe tbody tr th {\n",
       "        vertical-align: top;\n",
       "    }\n",
       "\n",
       "    .dataframe thead th {\n",
       "        text-align: right;\n",
       "    }\n",
       "</style>\n",
       "<table border=\"1\" class=\"dataframe\">\n",
       "  <thead>\n",
       "    <tr style=\"text-align: right;\">\n",
       "      <th></th>\n",
       "      <th>original_shape_Elongation</th>\n",
       "      <th>original_shape_Flatness</th>\n",
       "      <th>original_shape_LeastAxisLength</th>\n",
       "      <th>original_shape_MajorAxisLength</th>\n",
       "      <th>original_shape_Maximum2DDiameterColumn</th>\n",
       "      <th>original_shape_Maximum2DDiameterRow</th>\n",
       "      <th>original_shape_Maximum2DDiameterSlice</th>\n",
       "      <th>original_shape_Maximum3DDiameter</th>\n",
       "      <th>original_shape_MeshVolume</th>\n",
       "      <th>original_shape_MinorAxisLength</th>\n",
       "      <th>...</th>\n",
       "      <th>original_glszm_SmallAreaHighGrayLevelEmphasis</th>\n",
       "      <th>original_glszm_SmallAreaLowGrayLevelEmphasis</th>\n",
       "      <th>original_glszm_ZoneEntropy</th>\n",
       "      <th>original_glszm_ZonePercentage</th>\n",
       "      <th>original_glszm_ZoneVariance</th>\n",
       "      <th>original_ngtdm_Busyness</th>\n",
       "      <th>original_ngtdm_Coarseness</th>\n",
       "      <th>original_ngtdm_Complexity</th>\n",
       "      <th>original_ngtdm_Contrast</th>\n",
       "      <th>original_ngtdm_Strength</th>\n",
       "    </tr>\n",
       "  </thead>\n",
       "  <tbody>\n",
       "    <tr>\n",
       "      <th>Liver_40dose_100kVp_1FBP_0-6mm</th>\n",
       "      <td>0.509094</td>\n",
       "      <td>0.481304</td>\n",
       "      <td>10.041061</td>\n",
       "      <td>20.862214</td>\n",
       "      <td>20.625335891135204</td>\n",
       "      <td>21.14559115817697</td>\n",
       "      <td>14.181919697751662</td>\n",
       "      <td>22.263115114327803</td>\n",
       "      <td>815.2669712949428</td>\n",
       "      <td>10.620836</td>\n",
       "      <td>...</td>\n",
       "      <td>75.20879012313803</td>\n",
       "      <td>0.013020215661927863</td>\n",
       "      <td>5.721110971576414</td>\n",
       "      <td>0.3477078477078477</td>\n",
       "      <td>41.12986985424924</td>\n",
       "      <td>1.542993105470275</td>\n",
       "      <td>0.002742302234729621</td>\n",
       "      <td>253.31763030439015</td>\n",
       "      <td>0.06882702957369817</td>\n",
       "      <td>0.3269207150236697</td>\n",
       "    </tr>\n",
       "    <tr>\n",
       "      <th>Liver_40dose_100kVp_1FBP_3mm</th>\n",
       "      <td>0.589785</td>\n",
       "      <td>0.475748</td>\n",
       "      <td>8.055883</td>\n",
       "      <td>16.933073</td>\n",
       "      <td>18.537047535884895</td>\n",
       "      <td>18.537047535884895</td>\n",
       "      <td>12.572476652969101</td>\n",
       "      <td>18.958608816751337</td>\n",
       "      <td>604.4025249481201</td>\n",
       "      <td>9.986878</td>\n",
       "      <td>...</td>\n",
       "      <td>8.66007033196331</td>\n",
       "      <td>0.08864119965746715</td>\n",
       "      <td>4.493229940257416</td>\n",
       "      <td>0.13110539845758354</td>\n",
       "      <td>586.8219915417149</td>\n",
       "      <td>1.6717282042745094</td>\n",
       "      <td>0.01934597010146202</td>\n",
       "      <td>12.046529551610938</td>\n",
       "      <td>0.03089579062671904</td>\n",
       "      <td>0.28979443226803275</td>\n",
       "    </tr>\n",
       "    <tr>\n",
       "      <th>Liver_40dose_120kVp_2FBP_0-6mm</th>\n",
       "      <td>0.509094</td>\n",
       "      <td>0.481304</td>\n",
       "      <td>10.041061</td>\n",
       "      <td>20.862214</td>\n",
       "      <td>20.625335891135204</td>\n",
       "      <td>21.14559115817697</td>\n",
       "      <td>14.181919697751662</td>\n",
       "      <td>22.263115114327803</td>\n",
       "      <td>815.2669712949428</td>\n",
       "      <td>10.620836</td>\n",
       "      <td>...</td>\n",
       "      <td>60.29080703388742</td>\n",
       "      <td>0.01639370105942378</td>\n",
       "      <td>5.642170048236068</td>\n",
       "      <td>0.31313131313131315</td>\n",
       "      <td>58.709437284879535</td>\n",
       "      <td>1.949248367950195</td>\n",
       "      <td>0.00268130186577645</td>\n",
       "      <td>220.0897365654694</td>\n",
       "      <td>0.062482769437946215</td>\n",
       "      <td>0.2961536543548905</td>\n",
       "    </tr>\n",
       "    <tr>\n",
       "      <th>Liver_40dose_100kVp_1Safire_0-6mm</th>\n",
       "      <td>0.534169</td>\n",
       "      <td>0.489817</td>\n",
       "      <td>10.458986</td>\n",
       "      <td>21.352828</td>\n",
       "      <td>20.970642627303004</td>\n",
       "      <td>20.493107362427438</td>\n",
       "      <td>15.220057875815192</td>\n",
       "      <td>21.63175118498073</td>\n",
       "      <td>911.7706850576797</td>\n",
       "      <td>11.406025</td>\n",
       "      <td>...</td>\n",
       "      <td>47.78696490930361</td>\n",
       "      <td>0.01357114689536971</td>\n",
       "      <td>5.432587298477246</td>\n",
       "      <td>0.2010452961672474</td>\n",
       "      <td>849.4707279930556</td>\n",
       "      <td>2.3002145822819657</td>\n",
       "      <td>0.0025608753331765773</td>\n",
       "      <td>105.04989943612924</td>\n",
       "      <td>0.03045462536673779</td>\n",
       "      <td>0.21978750840565983</td>\n",
       "    </tr>\n",
       "    <tr>\n",
       "      <th>Liver_40dose_120kVp_1Safire_0-6mm</th>\n",
       "      <td>0.534169</td>\n",
       "      <td>0.489817</td>\n",
       "      <td>10.458986</td>\n",
       "      <td>21.352828</td>\n",
       "      <td>20.970642627303004</td>\n",
       "      <td>20.493107362427438</td>\n",
       "      <td>15.220057875815192</td>\n",
       "      <td>21.63175118498073</td>\n",
       "      <td>911.7706850576797</td>\n",
       "      <td>11.406025</td>\n",
       "      <td>...</td>\n",
       "      <td>39.58358682190543</td>\n",
       "      <td>0.013901922167042436</td>\n",
       "      <td>5.427778312015065</td>\n",
       "      <td>0.18327526132404182</td>\n",
       "      <td>1122.9629169136463</td>\n",
       "      <td>3.1409110337645627</td>\n",
       "      <td>0.00253039984108764</td>\n",
       "      <td>79.24918054285435</td>\n",
       "      <td>0.0393295828680731</td>\n",
       "      <td>0.1619818474330563</td>\n",
       "    </tr>\n",
       "    <tr>\n",
       "      <th>...</th>\n",
       "      <td>...</td>\n",
       "      <td>...</td>\n",
       "      <td>...</td>\n",
       "      <td>...</td>\n",
       "      <td>...</td>\n",
       "      <td>...</td>\n",
       "      <td>...</td>\n",
       "      <td>...</td>\n",
       "      <td>...</td>\n",
       "      <td>...</td>\n",
       "      <td>...</td>\n",
       "      <td>...</td>\n",
       "      <td>...</td>\n",
       "      <td>...</td>\n",
       "      <td>...</td>\n",
       "      <td>...</td>\n",
       "      <td>...</td>\n",
       "      <td>...</td>\n",
       "      <td>...</td>\n",
       "      <td>...</td>\n",
       "      <td>...</td>\n",
       "    </tr>\n",
       "    <tr>\n",
       "      <th>Liver_100dose_100kVp_1Safire_0-6mm</th>\n",
       "      <td>0.534169</td>\n",
       "      <td>0.489817</td>\n",
       "      <td>10.458986</td>\n",
       "      <td>21.352828</td>\n",
       "      <td>20.970642627303004</td>\n",
       "      <td>20.493107362427438</td>\n",
       "      <td>15.220057875815192</td>\n",
       "      <td>21.63175118498073</td>\n",
       "      <td>911.7706850576797</td>\n",
       "      <td>11.406025</td>\n",
       "      <td>...</td>\n",
       "      <td>24.628778301160732</td>\n",
       "      <td>0.028541545421109843</td>\n",
       "      <td>5.165062980638715</td>\n",
       "      <td>0.12613240418118468</td>\n",
       "      <td>3359.9285430847654</td>\n",
       "      <td>3.99527534734915</td>\n",
       "      <td>0.002596127527179486</td>\n",
       "      <td>40.688356214881615</td>\n",
       "      <td>0.023875960628471624</td>\n",
       "      <td>0.12346565498802418</td>\n",
       "    </tr>\n",
       "    <tr>\n",
       "      <th>Liver_100dose_100kVp_2FBP_3mm</th>\n",
       "      <td>0.589785</td>\n",
       "      <td>0.475748</td>\n",
       "      <td>8.055883</td>\n",
       "      <td>16.933073</td>\n",
       "      <td>18.537047535884895</td>\n",
       "      <td>18.537047535884895</td>\n",
       "      <td>12.572476652969101</td>\n",
       "      <td>18.958608816751337</td>\n",
       "      <td>604.4025249481201</td>\n",
       "      <td>9.986878</td>\n",
       "      <td>...</td>\n",
       "      <td>7.5252281825016745</td>\n",
       "      <td>0.04891452545953842</td>\n",
       "      <td>4.0413363769120085</td>\n",
       "      <td>0.09254498714652956</td>\n",
       "      <td>1370.656635802469</td>\n",
       "      <td>1.5353992600306832</td>\n",
       "      <td>0.021643114378029495</td>\n",
       "      <td>6.8525315562536395</td>\n",
       "      <td>0.016063903077415575</td>\n",
       "      <td>0.2585993620849378</td>\n",
       "    </tr>\n",
       "    <tr>\n",
       "      <th>Liver_100dose_120kVp_2FBP_0-6mm</th>\n",
       "      <td>0.509094</td>\n",
       "      <td>0.481304</td>\n",
       "      <td>10.041061</td>\n",
       "      <td>20.862214</td>\n",
       "      <td>20.625335891135204</td>\n",
       "      <td>21.14559115817697</td>\n",
       "      <td>14.181919697751662</td>\n",
       "      <td>22.263115114327803</td>\n",
       "      <td>815.2669712949428</td>\n",
       "      <td>10.620836</td>\n",
       "      <td>...</td>\n",
       "      <td>34.54918296659732</td>\n",
       "      <td>0.0232089214925581</td>\n",
       "      <td>5.276427202447059</td>\n",
       "      <td>0.19463869463869463</td>\n",
       "      <td>778.6975988143472</td>\n",
       "      <td>3.7427536297557076</td>\n",
       "      <td>0.0026431797671477453</td>\n",
       "      <td>65.03484241734078</td>\n",
       "      <td>0.042971376338741825</td>\n",
       "      <td>0.13031723371102097</td>\n",
       "    </tr>\n",
       "    <tr>\n",
       "      <th>Liver_100dose_120kVp_1Safire_0-6mm</th>\n",
       "      <td>0.534169</td>\n",
       "      <td>0.489817</td>\n",
       "      <td>10.458986</td>\n",
       "      <td>21.352828</td>\n",
       "      <td>20.970642627303004</td>\n",
       "      <td>20.493107362427438</td>\n",
       "      <td>15.220057875815192</td>\n",
       "      <td>21.63175118498073</td>\n",
       "      <td>911.7706850576797</td>\n",
       "      <td>11.406025</td>\n",
       "      <td>...</td>\n",
       "      <td>19.765657135795447</td>\n",
       "      <td>0.03321030923832076</td>\n",
       "      <td>4.976904851491329</td>\n",
       "      <td>0.10278745644599303</td>\n",
       "      <td>4909.356966388968</td>\n",
       "      <td>6.028800782323001</td>\n",
       "      <td>0.002539194792575922</td>\n",
       "      <td>25.99780230667561</td>\n",
       "      <td>0.02843334922085541</td>\n",
       "      <td>0.08226224763829793</td>\n",
       "    </tr>\n",
       "    <tr>\n",
       "      <th>Liver_100dose_100kVp_1FBP_0-6mm</th>\n",
       "      <td>0.509094</td>\n",
       "      <td>0.481304</td>\n",
       "      <td>10.041061</td>\n",
       "      <td>20.862214</td>\n",
       "      <td>20.625335891135204</td>\n",
       "      <td>21.14559115817697</td>\n",
       "      <td>14.181919697751662</td>\n",
       "      <td>22.263115114327803</td>\n",
       "      <td>815.2669712949428</td>\n",
       "      <td>10.620836</td>\n",
       "      <td>...</td>\n",
       "      <td>29.754937324795986</td>\n",
       "      <td>0.03804309769122921</td>\n",
       "      <td>5.234805038624867</td>\n",
       "      <td>0.2198912198912199</td>\n",
       "      <td>517.3678657493539</td>\n",
       "      <td>4.076732809047789</td>\n",
       "      <td>0.002709424191804392</td>\n",
       "      <td>65.41939510443557</td>\n",
       "      <td>0.05469527425653211</td>\n",
       "      <td>0.12398518492660907</td>\n",
       "    </tr>\n",
       "  </tbody>\n",
       "</table>\n",
       "<p>72 rows × 107 columns</p>\n",
       "</div>"
      ],
      "text/plain": [
       "                                   original_shape_Elongation  \\\n",
       "Liver_40dose_100kVp_1FBP_0-6mm                      0.509094   \n",
       "Liver_40dose_100kVp_1FBP_3mm                        0.589785   \n",
       "Liver_40dose_120kVp_2FBP_0-6mm                      0.509094   \n",
       "Liver_40dose_100kVp_1Safire_0-6mm                   0.534169   \n",
       "Liver_40dose_120kVp_1Safire_0-6mm                   0.534169   \n",
       "...                                                      ...   \n",
       "Liver_100dose_100kVp_1Safire_0-6mm                  0.534169   \n",
       "Liver_100dose_100kVp_2FBP_3mm                       0.589785   \n",
       "Liver_100dose_120kVp_2FBP_0-6mm                     0.509094   \n",
       "Liver_100dose_120kVp_1Safire_0-6mm                  0.534169   \n",
       "Liver_100dose_100kVp_1FBP_0-6mm                     0.509094   \n",
       "\n",
       "                                   original_shape_Flatness  \\\n",
       "Liver_40dose_100kVp_1FBP_0-6mm                    0.481304   \n",
       "Liver_40dose_100kVp_1FBP_3mm                      0.475748   \n",
       "Liver_40dose_120kVp_2FBP_0-6mm                    0.481304   \n",
       "Liver_40dose_100kVp_1Safire_0-6mm                 0.489817   \n",
       "Liver_40dose_120kVp_1Safire_0-6mm                 0.489817   \n",
       "...                                                    ...   \n",
       "Liver_100dose_100kVp_1Safire_0-6mm                0.489817   \n",
       "Liver_100dose_100kVp_2FBP_3mm                     0.475748   \n",
       "Liver_100dose_120kVp_2FBP_0-6mm                   0.481304   \n",
       "Liver_100dose_120kVp_1Safire_0-6mm                0.489817   \n",
       "Liver_100dose_100kVp_1FBP_0-6mm                   0.481304   \n",
       "\n",
       "                                   original_shape_LeastAxisLength  \\\n",
       "Liver_40dose_100kVp_1FBP_0-6mm                          10.041061   \n",
       "Liver_40dose_100kVp_1FBP_3mm                             8.055883   \n",
       "Liver_40dose_120kVp_2FBP_0-6mm                          10.041061   \n",
       "Liver_40dose_100kVp_1Safire_0-6mm                       10.458986   \n",
       "Liver_40dose_120kVp_1Safire_0-6mm                       10.458986   \n",
       "...                                                           ...   \n",
       "Liver_100dose_100kVp_1Safire_0-6mm                      10.458986   \n",
       "Liver_100dose_100kVp_2FBP_3mm                            8.055883   \n",
       "Liver_100dose_120kVp_2FBP_0-6mm                         10.041061   \n",
       "Liver_100dose_120kVp_1Safire_0-6mm                      10.458986   \n",
       "Liver_100dose_100kVp_1FBP_0-6mm                         10.041061   \n",
       "\n",
       "                                   original_shape_MajorAxisLength  \\\n",
       "Liver_40dose_100kVp_1FBP_0-6mm                          20.862214   \n",
       "Liver_40dose_100kVp_1FBP_3mm                            16.933073   \n",
       "Liver_40dose_120kVp_2FBP_0-6mm                          20.862214   \n",
       "Liver_40dose_100kVp_1Safire_0-6mm                       21.352828   \n",
       "Liver_40dose_120kVp_1Safire_0-6mm                       21.352828   \n",
       "...                                                           ...   \n",
       "Liver_100dose_100kVp_1Safire_0-6mm                      21.352828   \n",
       "Liver_100dose_100kVp_2FBP_3mm                           16.933073   \n",
       "Liver_100dose_120kVp_2FBP_0-6mm                         20.862214   \n",
       "Liver_100dose_120kVp_1Safire_0-6mm                      21.352828   \n",
       "Liver_100dose_100kVp_1FBP_0-6mm                         20.862214   \n",
       "\n",
       "                                   original_shape_Maximum2DDiameterColumn  \\\n",
       "Liver_40dose_100kVp_1FBP_0-6mm                         20.625335891135204   \n",
       "Liver_40dose_100kVp_1FBP_3mm                           18.537047535884895   \n",
       "Liver_40dose_120kVp_2FBP_0-6mm                         20.625335891135204   \n",
       "Liver_40dose_100kVp_1Safire_0-6mm                      20.970642627303004   \n",
       "Liver_40dose_120kVp_1Safire_0-6mm                      20.970642627303004   \n",
       "...                                                                   ...   \n",
       "Liver_100dose_100kVp_1Safire_0-6mm                     20.970642627303004   \n",
       "Liver_100dose_100kVp_2FBP_3mm                          18.537047535884895   \n",
       "Liver_100dose_120kVp_2FBP_0-6mm                        20.625335891135204   \n",
       "Liver_100dose_120kVp_1Safire_0-6mm                     20.970642627303004   \n",
       "Liver_100dose_100kVp_1FBP_0-6mm                        20.625335891135204   \n",
       "\n",
       "                                   original_shape_Maximum2DDiameterRow  \\\n",
       "Liver_40dose_100kVp_1FBP_0-6mm                       21.14559115817697   \n",
       "Liver_40dose_100kVp_1FBP_3mm                        18.537047535884895   \n",
       "Liver_40dose_120kVp_2FBP_0-6mm                       21.14559115817697   \n",
       "Liver_40dose_100kVp_1Safire_0-6mm                   20.493107362427438   \n",
       "Liver_40dose_120kVp_1Safire_0-6mm                   20.493107362427438   \n",
       "...                                                                ...   \n",
       "Liver_100dose_100kVp_1Safire_0-6mm                  20.493107362427438   \n",
       "Liver_100dose_100kVp_2FBP_3mm                       18.537047535884895   \n",
       "Liver_100dose_120kVp_2FBP_0-6mm                      21.14559115817697   \n",
       "Liver_100dose_120kVp_1Safire_0-6mm                  20.493107362427438   \n",
       "Liver_100dose_100kVp_1FBP_0-6mm                      21.14559115817697   \n",
       "\n",
       "                                   original_shape_Maximum2DDiameterSlice  \\\n",
       "Liver_40dose_100kVp_1FBP_0-6mm                        14.181919697751662   \n",
       "Liver_40dose_100kVp_1FBP_3mm                          12.572476652969101   \n",
       "Liver_40dose_120kVp_2FBP_0-6mm                        14.181919697751662   \n",
       "Liver_40dose_100kVp_1Safire_0-6mm                     15.220057875815192   \n",
       "Liver_40dose_120kVp_1Safire_0-6mm                     15.220057875815192   \n",
       "...                                                                  ...   \n",
       "Liver_100dose_100kVp_1Safire_0-6mm                    15.220057875815192   \n",
       "Liver_100dose_100kVp_2FBP_3mm                         12.572476652969101   \n",
       "Liver_100dose_120kVp_2FBP_0-6mm                       14.181919697751662   \n",
       "Liver_100dose_120kVp_1Safire_0-6mm                    15.220057875815192   \n",
       "Liver_100dose_100kVp_1FBP_0-6mm                       14.181919697751662   \n",
       "\n",
       "                                   original_shape_Maximum3DDiameter  \\\n",
       "Liver_40dose_100kVp_1FBP_0-6mm                   22.263115114327803   \n",
       "Liver_40dose_100kVp_1FBP_3mm                     18.958608816751337   \n",
       "Liver_40dose_120kVp_2FBP_0-6mm                   22.263115114327803   \n",
       "Liver_40dose_100kVp_1Safire_0-6mm                 21.63175118498073   \n",
       "Liver_40dose_120kVp_1Safire_0-6mm                 21.63175118498073   \n",
       "...                                                             ...   \n",
       "Liver_100dose_100kVp_1Safire_0-6mm                21.63175118498073   \n",
       "Liver_100dose_100kVp_2FBP_3mm                    18.958608816751337   \n",
       "Liver_100dose_120kVp_2FBP_0-6mm                  22.263115114327803   \n",
       "Liver_100dose_120kVp_1Safire_0-6mm                21.63175118498073   \n",
       "Liver_100dose_100kVp_1FBP_0-6mm                  22.263115114327803   \n",
       "\n",
       "                                   original_shape_MeshVolume  \\\n",
       "Liver_40dose_100kVp_1FBP_0-6mm             815.2669712949428   \n",
       "Liver_40dose_100kVp_1FBP_3mm               604.4025249481201   \n",
       "Liver_40dose_120kVp_2FBP_0-6mm             815.2669712949428   \n",
       "Liver_40dose_100kVp_1Safire_0-6mm          911.7706850576797   \n",
       "Liver_40dose_120kVp_1Safire_0-6mm          911.7706850576797   \n",
       "...                                                      ...   \n",
       "Liver_100dose_100kVp_1Safire_0-6mm         911.7706850576797   \n",
       "Liver_100dose_100kVp_2FBP_3mm              604.4025249481201   \n",
       "Liver_100dose_120kVp_2FBP_0-6mm            815.2669712949428   \n",
       "Liver_100dose_120kVp_1Safire_0-6mm         911.7706850576797   \n",
       "Liver_100dose_100kVp_1FBP_0-6mm            815.2669712949428   \n",
       "\n",
       "                                   original_shape_MinorAxisLength  ...  \\\n",
       "Liver_40dose_100kVp_1FBP_0-6mm                          10.620836  ...   \n",
       "Liver_40dose_100kVp_1FBP_3mm                             9.986878  ...   \n",
       "Liver_40dose_120kVp_2FBP_0-6mm                          10.620836  ...   \n",
       "Liver_40dose_100kVp_1Safire_0-6mm                       11.406025  ...   \n",
       "Liver_40dose_120kVp_1Safire_0-6mm                       11.406025  ...   \n",
       "...                                                           ...  ...   \n",
       "Liver_100dose_100kVp_1Safire_0-6mm                      11.406025  ...   \n",
       "Liver_100dose_100kVp_2FBP_3mm                            9.986878  ...   \n",
       "Liver_100dose_120kVp_2FBP_0-6mm                         10.620836  ...   \n",
       "Liver_100dose_120kVp_1Safire_0-6mm                      11.406025  ...   \n",
       "Liver_100dose_100kVp_1FBP_0-6mm                         10.620836  ...   \n",
       "\n",
       "                                   original_glszm_SmallAreaHighGrayLevelEmphasis  \\\n",
       "Liver_40dose_100kVp_1FBP_0-6mm                                 75.20879012313803   \n",
       "Liver_40dose_100kVp_1FBP_3mm                                    8.66007033196331   \n",
       "Liver_40dose_120kVp_2FBP_0-6mm                                 60.29080703388742   \n",
       "Liver_40dose_100kVp_1Safire_0-6mm                              47.78696490930361   \n",
       "Liver_40dose_120kVp_1Safire_0-6mm                              39.58358682190543   \n",
       "...                                                                          ...   \n",
       "Liver_100dose_100kVp_1Safire_0-6mm                            24.628778301160732   \n",
       "Liver_100dose_100kVp_2FBP_3mm                                 7.5252281825016745   \n",
       "Liver_100dose_120kVp_2FBP_0-6mm                                34.54918296659732   \n",
       "Liver_100dose_120kVp_1Safire_0-6mm                            19.765657135795447   \n",
       "Liver_100dose_100kVp_1FBP_0-6mm                               29.754937324795986   \n",
       "\n",
       "                                   original_glszm_SmallAreaLowGrayLevelEmphasis  \\\n",
       "Liver_40dose_100kVp_1FBP_0-6mm                             0.013020215661927863   \n",
       "Liver_40dose_100kVp_1FBP_3mm                                0.08864119965746715   \n",
       "Liver_40dose_120kVp_2FBP_0-6mm                              0.01639370105942378   \n",
       "Liver_40dose_100kVp_1Safire_0-6mm                           0.01357114689536971   \n",
       "Liver_40dose_120kVp_1Safire_0-6mm                          0.013901922167042436   \n",
       "...                                                                         ...   \n",
       "Liver_100dose_100kVp_1Safire_0-6mm                         0.028541545421109843   \n",
       "Liver_100dose_100kVp_2FBP_3mm                               0.04891452545953842   \n",
       "Liver_100dose_120kVp_2FBP_0-6mm                              0.0232089214925581   \n",
       "Liver_100dose_120kVp_1Safire_0-6mm                          0.03321030923832076   \n",
       "Liver_100dose_100kVp_1FBP_0-6mm                             0.03804309769122921   \n",
       "\n",
       "                                   original_glszm_ZoneEntropy  \\\n",
       "Liver_40dose_100kVp_1FBP_0-6mm              5.721110971576414   \n",
       "Liver_40dose_100kVp_1FBP_3mm                4.493229940257416   \n",
       "Liver_40dose_120kVp_2FBP_0-6mm              5.642170048236068   \n",
       "Liver_40dose_100kVp_1Safire_0-6mm           5.432587298477246   \n",
       "Liver_40dose_120kVp_1Safire_0-6mm           5.427778312015065   \n",
       "...                                                       ...   \n",
       "Liver_100dose_100kVp_1Safire_0-6mm          5.165062980638715   \n",
       "Liver_100dose_100kVp_2FBP_3mm              4.0413363769120085   \n",
       "Liver_100dose_120kVp_2FBP_0-6mm             5.276427202447059   \n",
       "Liver_100dose_120kVp_1Safire_0-6mm          4.976904851491329   \n",
       "Liver_100dose_100kVp_1FBP_0-6mm             5.234805038624867   \n",
       "\n",
       "                                   original_glszm_ZonePercentage  \\\n",
       "Liver_40dose_100kVp_1FBP_0-6mm                0.3477078477078477   \n",
       "Liver_40dose_100kVp_1FBP_3mm                 0.13110539845758354   \n",
       "Liver_40dose_120kVp_2FBP_0-6mm               0.31313131313131315   \n",
       "Liver_40dose_100kVp_1Safire_0-6mm             0.2010452961672474   \n",
       "Liver_40dose_120kVp_1Safire_0-6mm            0.18327526132404182   \n",
       "...                                                          ...   \n",
       "Liver_100dose_100kVp_1Safire_0-6mm           0.12613240418118468   \n",
       "Liver_100dose_100kVp_2FBP_3mm                0.09254498714652956   \n",
       "Liver_100dose_120kVp_2FBP_0-6mm              0.19463869463869463   \n",
       "Liver_100dose_120kVp_1Safire_0-6mm           0.10278745644599303   \n",
       "Liver_100dose_100kVp_1FBP_0-6mm               0.2198912198912199   \n",
       "\n",
       "                                   original_glszm_ZoneVariance  \\\n",
       "Liver_40dose_100kVp_1FBP_0-6mm               41.12986985424924   \n",
       "Liver_40dose_100kVp_1FBP_3mm                 586.8219915417149   \n",
       "Liver_40dose_120kVp_2FBP_0-6mm              58.709437284879535   \n",
       "Liver_40dose_100kVp_1Safire_0-6mm            849.4707279930556   \n",
       "Liver_40dose_120kVp_1Safire_0-6mm           1122.9629169136463   \n",
       "...                                                        ...   \n",
       "Liver_100dose_100kVp_1Safire_0-6mm          3359.9285430847654   \n",
       "Liver_100dose_100kVp_2FBP_3mm                1370.656635802469   \n",
       "Liver_100dose_120kVp_2FBP_0-6mm              778.6975988143472   \n",
       "Liver_100dose_120kVp_1Safire_0-6mm           4909.356966388968   \n",
       "Liver_100dose_100kVp_1FBP_0-6mm              517.3678657493539   \n",
       "\n",
       "                                   original_ngtdm_Busyness  \\\n",
       "Liver_40dose_100kVp_1FBP_0-6mm           1.542993105470275   \n",
       "Liver_40dose_100kVp_1FBP_3mm            1.6717282042745094   \n",
       "Liver_40dose_120kVp_2FBP_0-6mm           1.949248367950195   \n",
       "Liver_40dose_100kVp_1Safire_0-6mm       2.3002145822819657   \n",
       "Liver_40dose_120kVp_1Safire_0-6mm       3.1409110337645627   \n",
       "...                                                    ...   \n",
       "Liver_100dose_100kVp_1Safire_0-6mm        3.99527534734915   \n",
       "Liver_100dose_100kVp_2FBP_3mm           1.5353992600306832   \n",
       "Liver_100dose_120kVp_2FBP_0-6mm         3.7427536297557076   \n",
       "Liver_100dose_120kVp_1Safire_0-6mm       6.028800782323001   \n",
       "Liver_100dose_100kVp_1FBP_0-6mm          4.076732809047789   \n",
       "\n",
       "                                   original_ngtdm_Coarseness  \\\n",
       "Liver_40dose_100kVp_1FBP_0-6mm          0.002742302234729621   \n",
       "Liver_40dose_100kVp_1FBP_3mm             0.01934597010146202   \n",
       "Liver_40dose_120kVp_2FBP_0-6mm           0.00268130186577645   \n",
       "Liver_40dose_100kVp_1Safire_0-6mm      0.0025608753331765773   \n",
       "Liver_40dose_120kVp_1Safire_0-6mm        0.00253039984108764   \n",
       "...                                                      ...   \n",
       "Liver_100dose_100kVp_1Safire_0-6mm      0.002596127527179486   \n",
       "Liver_100dose_100kVp_2FBP_3mm           0.021643114378029495   \n",
       "Liver_100dose_120kVp_2FBP_0-6mm        0.0026431797671477453   \n",
       "Liver_100dose_120kVp_1Safire_0-6mm      0.002539194792575922   \n",
       "Liver_100dose_100kVp_1FBP_0-6mm         0.002709424191804392   \n",
       "\n",
       "                                   original_ngtdm_Complexity  \\\n",
       "Liver_40dose_100kVp_1FBP_0-6mm            253.31763030439015   \n",
       "Liver_40dose_100kVp_1FBP_3mm              12.046529551610938   \n",
       "Liver_40dose_120kVp_2FBP_0-6mm             220.0897365654694   \n",
       "Liver_40dose_100kVp_1Safire_0-6mm         105.04989943612924   \n",
       "Liver_40dose_120kVp_1Safire_0-6mm          79.24918054285435   \n",
       "...                                                      ...   \n",
       "Liver_100dose_100kVp_1Safire_0-6mm        40.688356214881615   \n",
       "Liver_100dose_100kVp_2FBP_3mm             6.8525315562536395   \n",
       "Liver_100dose_120kVp_2FBP_0-6mm            65.03484241734078   \n",
       "Liver_100dose_120kVp_1Safire_0-6mm         25.99780230667561   \n",
       "Liver_100dose_100kVp_1FBP_0-6mm            65.41939510443557   \n",
       "\n",
       "                                   original_ngtdm_Contrast  \\\n",
       "Liver_40dose_100kVp_1FBP_0-6mm         0.06882702957369817   \n",
       "Liver_40dose_100kVp_1FBP_3mm           0.03089579062671904   \n",
       "Liver_40dose_120kVp_2FBP_0-6mm        0.062482769437946215   \n",
       "Liver_40dose_100kVp_1Safire_0-6mm      0.03045462536673779   \n",
       "Liver_40dose_120kVp_1Safire_0-6mm       0.0393295828680731   \n",
       "...                                                    ...   \n",
       "Liver_100dose_100kVp_1Safire_0-6mm    0.023875960628471624   \n",
       "Liver_100dose_100kVp_2FBP_3mm         0.016063903077415575   \n",
       "Liver_100dose_120kVp_2FBP_0-6mm       0.042971376338741825   \n",
       "Liver_100dose_120kVp_1Safire_0-6mm     0.02843334922085541   \n",
       "Liver_100dose_100kVp_1FBP_0-6mm        0.05469527425653211   \n",
       "\n",
       "                                   original_ngtdm_Strength  \n",
       "Liver_40dose_100kVp_1FBP_0-6mm          0.3269207150236697  \n",
       "Liver_40dose_100kVp_1FBP_3mm           0.28979443226803275  \n",
       "Liver_40dose_120kVp_2FBP_0-6mm          0.2961536543548905  \n",
       "Liver_40dose_100kVp_1Safire_0-6mm      0.21978750840565983  \n",
       "Liver_40dose_120kVp_1Safire_0-6mm       0.1619818474330563  \n",
       "...                                                    ...  \n",
       "Liver_100dose_100kVp_1Safire_0-6mm     0.12346565498802418  \n",
       "Liver_100dose_100kVp_2FBP_3mm           0.2585993620849378  \n",
       "Liver_100dose_120kVp_2FBP_0-6mm        0.13031723371102097  \n",
       "Liver_100dose_120kVp_1Safire_0-6mm     0.08226224763829793  \n",
       "Liver_100dose_100kVp_1FBP_0-6mm        0.12398518492660907  \n",
       "\n",
       "[72 rows x 107 columns]"
      ]
     },
     "execution_count": 13,
     "metadata": {},
     "output_type": "execute_result"
    }
   ],
   "source": [
    "df313_10 = pd.DataFrame.from_dict(feature_space).transpose()\n",
    "df313_10"
   ]
  },
  {
   "cell_type": "code",
   "execution_count": 14,
   "id": "ff1d17b0-5dd5-44a5-aa8d-f3d77eefe6b6",
   "metadata": {},
   "outputs": [],
   "source": [
    "df313_10.to_csv('Liver313-10.csv')"
   ]
  },
  {
   "cell_type": "markdown",
   "id": "51e08c3b-beef-4b37-92d4-22ba2c246206",
   "metadata": {},
   "source": [
    "## Liver313-12"
   ]
  },
  {
   "cell_type": "code",
   "execution_count": 15,
   "id": "22bc4680-19ff-4507-b12f-462d79c95e48",
   "metadata": {},
   "outputs": [
    {
     "name": "stdout",
     "output_type": "stream",
     "text": [
      "\n"
     ]
    },
    {
     "name": "stderr",
     "output_type": "stream",
     "text": [
      "GLCM is symmetrical, therefore Sum Average = 2 * Joint Average, only 1 needs to be calculated\n"
     ]
    },
    {
     "name": "stdout",
     "output_type": "stream",
     "text": [
      "\n"
     ]
    },
    {
     "name": "stderr",
     "output_type": "stream",
     "text": [
      "GLCM is symmetrical, therefore Sum Average = 2 * Joint Average, only 1 needs to be calculated\n"
     ]
    },
    {
     "name": "stdout",
     "output_type": "stream",
     "text": [
      "\n"
     ]
    },
    {
     "name": "stderr",
     "output_type": "stream",
     "text": [
      "GLCM is symmetrical, therefore Sum Average = 2 * Joint Average, only 1 needs to be calculated\n"
     ]
    },
    {
     "name": "stdout",
     "output_type": "stream",
     "text": [
      "\n"
     ]
    },
    {
     "name": "stderr",
     "output_type": "stream",
     "text": [
      "GLCM is symmetrical, therefore Sum Average = 2 * Joint Average, only 1 needs to be calculated\n"
     ]
    },
    {
     "name": "stdout",
     "output_type": "stream",
     "text": [
      "\n"
     ]
    },
    {
     "name": "stderr",
     "output_type": "stream",
     "text": [
      "GLCM is symmetrical, therefore Sum Average = 2 * Joint Average, only 1 needs to be calculated\n"
     ]
    },
    {
     "name": "stdout",
     "output_type": "stream",
     "text": [
      "\n"
     ]
    },
    {
     "name": "stderr",
     "output_type": "stream",
     "text": [
      "GLCM is symmetrical, therefore Sum Average = 2 * Joint Average, only 1 needs to be calculated\n"
     ]
    },
    {
     "name": "stdout",
     "output_type": "stream",
     "text": [
      "\n"
     ]
    },
    {
     "name": "stderr",
     "output_type": "stream",
     "text": [
      "GLCM is symmetrical, therefore Sum Average = 2 * Joint Average, only 1 needs to be calculated\n"
     ]
    },
    {
     "name": "stdout",
     "output_type": "stream",
     "text": [
      "\n"
     ]
    },
    {
     "name": "stderr",
     "output_type": "stream",
     "text": [
      "GLCM is symmetrical, therefore Sum Average = 2 * Joint Average, only 1 needs to be calculated\n"
     ]
    },
    {
     "name": "stdout",
     "output_type": "stream",
     "text": [
      "\n"
     ]
    },
    {
     "name": "stderr",
     "output_type": "stream",
     "text": [
      "GLCM is symmetrical, therefore Sum Average = 2 * Joint Average, only 1 needs to be calculated\n"
     ]
    },
    {
     "name": "stdout",
     "output_type": "stream",
     "text": [
      "\n"
     ]
    },
    {
     "name": "stderr",
     "output_type": "stream",
     "text": [
      "GLCM is symmetrical, therefore Sum Average = 2 * Joint Average, only 1 needs to be calculated\n"
     ]
    },
    {
     "name": "stdout",
     "output_type": "stream",
     "text": [
      "\n"
     ]
    },
    {
     "name": "stderr",
     "output_type": "stream",
     "text": [
      "GLCM is symmetrical, therefore Sum Average = 2 * Joint Average, only 1 needs to be calculated\n"
     ]
    },
    {
     "name": "stdout",
     "output_type": "stream",
     "text": [
      "\n"
     ]
    },
    {
     "name": "stderr",
     "output_type": "stream",
     "text": [
      "GLCM is symmetrical, therefore Sum Average = 2 * Joint Average, only 1 needs to be calculated\n"
     ]
    },
    {
     "name": "stdout",
     "output_type": "stream",
     "text": [
      "\n"
     ]
    },
    {
     "name": "stderr",
     "output_type": "stream",
     "text": [
      "GLCM is symmetrical, therefore Sum Average = 2 * Joint Average, only 1 needs to be calculated\n"
     ]
    },
    {
     "name": "stdout",
     "output_type": "stream",
     "text": [
      "\n"
     ]
    },
    {
     "name": "stderr",
     "output_type": "stream",
     "text": [
      "GLCM is symmetrical, therefore Sum Average = 2 * Joint Average, only 1 needs to be calculated\n"
     ]
    },
    {
     "name": "stdout",
     "output_type": "stream",
     "text": [
      "\n"
     ]
    },
    {
     "name": "stderr",
     "output_type": "stream",
     "text": [
      "GLCM is symmetrical, therefore Sum Average = 2 * Joint Average, only 1 needs to be calculated\n"
     ]
    },
    {
     "name": "stdout",
     "output_type": "stream",
     "text": [
      "\n"
     ]
    },
    {
     "name": "stderr",
     "output_type": "stream",
     "text": [
      "GLCM is symmetrical, therefore Sum Average = 2 * Joint Average, only 1 needs to be calculated\n"
     ]
    },
    {
     "name": "stdout",
     "output_type": "stream",
     "text": [
      "\n"
     ]
    },
    {
     "name": "stderr",
     "output_type": "stream",
     "text": [
      "GLCM is symmetrical, therefore Sum Average = 2 * Joint Average, only 1 needs to be calculated\n"
     ]
    },
    {
     "name": "stdout",
     "output_type": "stream",
     "text": [
      "\n"
     ]
    },
    {
     "name": "stderr",
     "output_type": "stream",
     "text": [
      "GLCM is symmetrical, therefore Sum Average = 2 * Joint Average, only 1 needs to be calculated\n"
     ]
    },
    {
     "name": "stdout",
     "output_type": "stream",
     "text": [
      "\n"
     ]
    },
    {
     "name": "stderr",
     "output_type": "stream",
     "text": [
      "GLCM is symmetrical, therefore Sum Average = 2 * Joint Average, only 1 needs to be calculated\n"
     ]
    },
    {
     "name": "stdout",
     "output_type": "stream",
     "text": [
      "\n"
     ]
    },
    {
     "name": "stderr",
     "output_type": "stream",
     "text": [
      "GLCM is symmetrical, therefore Sum Average = 2 * Joint Average, only 1 needs to be calculated\n"
     ]
    },
    {
     "name": "stdout",
     "output_type": "stream",
     "text": [
      "\n"
     ]
    },
    {
     "name": "stderr",
     "output_type": "stream",
     "text": [
      "GLCM is symmetrical, therefore Sum Average = 2 * Joint Average, only 1 needs to be calculated\n"
     ]
    },
    {
     "name": "stdout",
     "output_type": "stream",
     "text": [
      "\n"
     ]
    },
    {
     "name": "stderr",
     "output_type": "stream",
     "text": [
      "GLCM is symmetrical, therefore Sum Average = 2 * Joint Average, only 1 needs to be calculated\n"
     ]
    },
    {
     "name": "stdout",
     "output_type": "stream",
     "text": [
      "\n"
     ]
    },
    {
     "name": "stderr",
     "output_type": "stream",
     "text": [
      "GLCM is symmetrical, therefore Sum Average = 2 * Joint Average, only 1 needs to be calculated\n"
     ]
    },
    {
     "name": "stdout",
     "output_type": "stream",
     "text": [
      "\n"
     ]
    },
    {
     "name": "stderr",
     "output_type": "stream",
     "text": [
      "GLCM is symmetrical, therefore Sum Average = 2 * Joint Average, only 1 needs to be calculated\n"
     ]
    },
    {
     "name": "stdout",
     "output_type": "stream",
     "text": [
      "\n"
     ]
    },
    {
     "name": "stderr",
     "output_type": "stream",
     "text": [
      "GLCM is symmetrical, therefore Sum Average = 2 * Joint Average, only 1 needs to be calculated\n"
     ]
    },
    {
     "name": "stdout",
     "output_type": "stream",
     "text": [
      "\n"
     ]
    },
    {
     "name": "stderr",
     "output_type": "stream",
     "text": [
      "GLCM is symmetrical, therefore Sum Average = 2 * Joint Average, only 1 needs to be calculated\n"
     ]
    },
    {
     "name": "stdout",
     "output_type": "stream",
     "text": [
      "\n"
     ]
    },
    {
     "name": "stderr",
     "output_type": "stream",
     "text": [
      "GLCM is symmetrical, therefore Sum Average = 2 * Joint Average, only 1 needs to be calculated\n"
     ]
    },
    {
     "name": "stdout",
     "output_type": "stream",
     "text": [
      "\n"
     ]
    },
    {
     "name": "stderr",
     "output_type": "stream",
     "text": [
      "GLCM is symmetrical, therefore Sum Average = 2 * Joint Average, only 1 needs to be calculated\n"
     ]
    },
    {
     "name": "stdout",
     "output_type": "stream",
     "text": [
      "\n"
     ]
    },
    {
     "name": "stderr",
     "output_type": "stream",
     "text": [
      "GLCM is symmetrical, therefore Sum Average = 2 * Joint Average, only 1 needs to be calculated\n"
     ]
    },
    {
     "name": "stdout",
     "output_type": "stream",
     "text": [
      "\n"
     ]
    },
    {
     "name": "stderr",
     "output_type": "stream",
     "text": [
      "GLCM is symmetrical, therefore Sum Average = 2 * Joint Average, only 1 needs to be calculated\n"
     ]
    },
    {
     "name": "stdout",
     "output_type": "stream",
     "text": [
      "\n"
     ]
    },
    {
     "name": "stderr",
     "output_type": "stream",
     "text": [
      "GLCM is symmetrical, therefore Sum Average = 2 * Joint Average, only 1 needs to be calculated\n"
     ]
    },
    {
     "name": "stdout",
     "output_type": "stream",
     "text": [
      "\n"
     ]
    },
    {
     "name": "stderr",
     "output_type": "stream",
     "text": [
      "GLCM is symmetrical, therefore Sum Average = 2 * Joint Average, only 1 needs to be calculated\n"
     ]
    },
    {
     "name": "stdout",
     "output_type": "stream",
     "text": [
      "\n"
     ]
    },
    {
     "name": "stderr",
     "output_type": "stream",
     "text": [
      "GLCM is symmetrical, therefore Sum Average = 2 * Joint Average, only 1 needs to be calculated\n"
     ]
    },
    {
     "name": "stdout",
     "output_type": "stream",
     "text": [
      "\n"
     ]
    },
    {
     "name": "stderr",
     "output_type": "stream",
     "text": [
      "GLCM is symmetrical, therefore Sum Average = 2 * Joint Average, only 1 needs to be calculated\n"
     ]
    },
    {
     "name": "stdout",
     "output_type": "stream",
     "text": [
      "\n"
     ]
    },
    {
     "name": "stderr",
     "output_type": "stream",
     "text": [
      "GLCM is symmetrical, therefore Sum Average = 2 * Joint Average, only 1 needs to be calculated\n"
     ]
    },
    {
     "name": "stdout",
     "output_type": "stream",
     "text": [
      "\n"
     ]
    },
    {
     "name": "stderr",
     "output_type": "stream",
     "text": [
      "GLCM is symmetrical, therefore Sum Average = 2 * Joint Average, only 1 needs to be calculated\n"
     ]
    },
    {
     "name": "stdout",
     "output_type": "stream",
     "text": [
      "\n"
     ]
    },
    {
     "name": "stderr",
     "output_type": "stream",
     "text": [
      "GLCM is symmetrical, therefore Sum Average = 2 * Joint Average, only 1 needs to be calculated\n"
     ]
    },
    {
     "name": "stdout",
     "output_type": "stream",
     "text": [
      "\n"
     ]
    },
    {
     "name": "stderr",
     "output_type": "stream",
     "text": [
      "GLCM is symmetrical, therefore Sum Average = 2 * Joint Average, only 1 needs to be calculated\n"
     ]
    },
    {
     "name": "stdout",
     "output_type": "stream",
     "text": [
      "\n"
     ]
    },
    {
     "name": "stderr",
     "output_type": "stream",
     "text": [
      "GLCM is symmetrical, therefore Sum Average = 2 * Joint Average, only 1 needs to be calculated\n"
     ]
    },
    {
     "name": "stdout",
     "output_type": "stream",
     "text": [
      "\n"
     ]
    },
    {
     "name": "stderr",
     "output_type": "stream",
     "text": [
      "GLCM is symmetrical, therefore Sum Average = 2 * Joint Average, only 1 needs to be calculated\n"
     ]
    },
    {
     "name": "stdout",
     "output_type": "stream",
     "text": [
      "\n"
     ]
    },
    {
     "name": "stderr",
     "output_type": "stream",
     "text": [
      "GLCM is symmetrical, therefore Sum Average = 2 * Joint Average, only 1 needs to be calculated\n"
     ]
    },
    {
     "name": "stdout",
     "output_type": "stream",
     "text": [
      "\n"
     ]
    },
    {
     "name": "stderr",
     "output_type": "stream",
     "text": [
      "GLCM is symmetrical, therefore Sum Average = 2 * Joint Average, only 1 needs to be calculated\n"
     ]
    },
    {
     "name": "stdout",
     "output_type": "stream",
     "text": [
      "\n"
     ]
    },
    {
     "name": "stderr",
     "output_type": "stream",
     "text": [
      "GLCM is symmetrical, therefore Sum Average = 2 * Joint Average, only 1 needs to be calculated\n"
     ]
    },
    {
     "name": "stdout",
     "output_type": "stream",
     "text": [
      "\n"
     ]
    },
    {
     "name": "stderr",
     "output_type": "stream",
     "text": [
      "GLCM is symmetrical, therefore Sum Average = 2 * Joint Average, only 1 needs to be calculated\n"
     ]
    },
    {
     "name": "stdout",
     "output_type": "stream",
     "text": [
      "\n"
     ]
    },
    {
     "name": "stderr",
     "output_type": "stream",
     "text": [
      "GLCM is symmetrical, therefore Sum Average = 2 * Joint Average, only 1 needs to be calculated\n"
     ]
    },
    {
     "name": "stdout",
     "output_type": "stream",
     "text": [
      "\n"
     ]
    },
    {
     "name": "stderr",
     "output_type": "stream",
     "text": [
      "GLCM is symmetrical, therefore Sum Average = 2 * Joint Average, only 1 needs to be calculated\n"
     ]
    },
    {
     "name": "stdout",
     "output_type": "stream",
     "text": [
      "\n"
     ]
    },
    {
     "name": "stderr",
     "output_type": "stream",
     "text": [
      "GLCM is symmetrical, therefore Sum Average = 2 * Joint Average, only 1 needs to be calculated\n"
     ]
    },
    {
     "name": "stdout",
     "output_type": "stream",
     "text": [
      "\n"
     ]
    },
    {
     "name": "stderr",
     "output_type": "stream",
     "text": [
      "GLCM is symmetrical, therefore Sum Average = 2 * Joint Average, only 1 needs to be calculated\n"
     ]
    },
    {
     "name": "stdout",
     "output_type": "stream",
     "text": [
      "\n"
     ]
    },
    {
     "name": "stderr",
     "output_type": "stream",
     "text": [
      "GLCM is symmetrical, therefore Sum Average = 2 * Joint Average, only 1 needs to be calculated\n"
     ]
    },
    {
     "name": "stdout",
     "output_type": "stream",
     "text": [
      "\n"
     ]
    },
    {
     "name": "stderr",
     "output_type": "stream",
     "text": [
      "GLCM is symmetrical, therefore Sum Average = 2 * Joint Average, only 1 needs to be calculated\n"
     ]
    },
    {
     "name": "stdout",
     "output_type": "stream",
     "text": [
      "\n"
     ]
    },
    {
     "name": "stderr",
     "output_type": "stream",
     "text": [
      "GLCM is symmetrical, therefore Sum Average = 2 * Joint Average, only 1 needs to be calculated\n"
     ]
    },
    {
     "name": "stdout",
     "output_type": "stream",
     "text": [
      "\n"
     ]
    },
    {
     "name": "stderr",
     "output_type": "stream",
     "text": [
      "GLCM is symmetrical, therefore Sum Average = 2 * Joint Average, only 1 needs to be calculated\n"
     ]
    },
    {
     "name": "stdout",
     "output_type": "stream",
     "text": [
      "\n"
     ]
    },
    {
     "name": "stderr",
     "output_type": "stream",
     "text": [
      "GLCM is symmetrical, therefore Sum Average = 2 * Joint Average, only 1 needs to be calculated\n"
     ]
    },
    {
     "name": "stdout",
     "output_type": "stream",
     "text": [
      "\n"
     ]
    },
    {
     "name": "stderr",
     "output_type": "stream",
     "text": [
      "GLCM is symmetrical, therefore Sum Average = 2 * Joint Average, only 1 needs to be calculated\n"
     ]
    },
    {
     "name": "stdout",
     "output_type": "stream",
     "text": [
      "\n"
     ]
    },
    {
     "name": "stderr",
     "output_type": "stream",
     "text": [
      "GLCM is symmetrical, therefore Sum Average = 2 * Joint Average, only 1 needs to be calculated\n"
     ]
    },
    {
     "name": "stdout",
     "output_type": "stream",
     "text": [
      "\n"
     ]
    },
    {
     "name": "stderr",
     "output_type": "stream",
     "text": [
      "GLCM is symmetrical, therefore Sum Average = 2 * Joint Average, only 1 needs to be calculated\n"
     ]
    },
    {
     "name": "stdout",
     "output_type": "stream",
     "text": [
      "\n"
     ]
    },
    {
     "name": "stderr",
     "output_type": "stream",
     "text": [
      "GLCM is symmetrical, therefore Sum Average = 2 * Joint Average, only 1 needs to be calculated\n"
     ]
    },
    {
     "name": "stdout",
     "output_type": "stream",
     "text": [
      "\n"
     ]
    },
    {
     "name": "stderr",
     "output_type": "stream",
     "text": [
      "GLCM is symmetrical, therefore Sum Average = 2 * Joint Average, only 1 needs to be calculated\n"
     ]
    },
    {
     "name": "stdout",
     "output_type": "stream",
     "text": [
      "\n"
     ]
    },
    {
     "name": "stderr",
     "output_type": "stream",
     "text": [
      "GLCM is symmetrical, therefore Sum Average = 2 * Joint Average, only 1 needs to be calculated\n"
     ]
    },
    {
     "name": "stdout",
     "output_type": "stream",
     "text": [
      "\n"
     ]
    },
    {
     "name": "stderr",
     "output_type": "stream",
     "text": [
      "GLCM is symmetrical, therefore Sum Average = 2 * Joint Average, only 1 needs to be calculated\n"
     ]
    },
    {
     "name": "stdout",
     "output_type": "stream",
     "text": [
      "\n"
     ]
    },
    {
     "name": "stderr",
     "output_type": "stream",
     "text": [
      "GLCM is symmetrical, therefore Sum Average = 2 * Joint Average, only 1 needs to be calculated\n"
     ]
    },
    {
     "name": "stdout",
     "output_type": "stream",
     "text": [
      "\n"
     ]
    },
    {
     "name": "stderr",
     "output_type": "stream",
     "text": [
      "GLCM is symmetrical, therefore Sum Average = 2 * Joint Average, only 1 needs to be calculated\n"
     ]
    },
    {
     "name": "stdout",
     "output_type": "stream",
     "text": [
      "\n"
     ]
    },
    {
     "name": "stderr",
     "output_type": "stream",
     "text": [
      "GLCM is symmetrical, therefore Sum Average = 2 * Joint Average, only 1 needs to be calculated\n"
     ]
    },
    {
     "name": "stdout",
     "output_type": "stream",
     "text": [
      "\n"
     ]
    },
    {
     "name": "stderr",
     "output_type": "stream",
     "text": [
      "GLCM is symmetrical, therefore Sum Average = 2 * Joint Average, only 1 needs to be calculated\n"
     ]
    },
    {
     "name": "stdout",
     "output_type": "stream",
     "text": [
      "\n"
     ]
    },
    {
     "name": "stderr",
     "output_type": "stream",
     "text": [
      "GLCM is symmetrical, therefore Sum Average = 2 * Joint Average, only 1 needs to be calculated\n"
     ]
    },
    {
     "name": "stdout",
     "output_type": "stream",
     "text": [
      "\n"
     ]
    },
    {
     "name": "stderr",
     "output_type": "stream",
     "text": [
      "GLCM is symmetrical, therefore Sum Average = 2 * Joint Average, only 1 needs to be calculated\n"
     ]
    },
    {
     "name": "stdout",
     "output_type": "stream",
     "text": [
      "\n"
     ]
    },
    {
     "name": "stderr",
     "output_type": "stream",
     "text": [
      "GLCM is symmetrical, therefore Sum Average = 2 * Joint Average, only 1 needs to be calculated\n"
     ]
    },
    {
     "name": "stdout",
     "output_type": "stream",
     "text": [
      "\n"
     ]
    },
    {
     "name": "stderr",
     "output_type": "stream",
     "text": [
      "GLCM is symmetrical, therefore Sum Average = 2 * Joint Average, only 1 needs to be calculated\n"
     ]
    },
    {
     "name": "stdout",
     "output_type": "stream",
     "text": [
      "\n"
     ]
    },
    {
     "name": "stderr",
     "output_type": "stream",
     "text": [
      "GLCM is symmetrical, therefore Sum Average = 2 * Joint Average, only 1 needs to be calculated\n"
     ]
    },
    {
     "name": "stdout",
     "output_type": "stream",
     "text": [
      "\n"
     ]
    },
    {
     "name": "stderr",
     "output_type": "stream",
     "text": [
      "GLCM is symmetrical, therefore Sum Average = 2 * Joint Average, only 1 needs to be calculated\n"
     ]
    },
    {
     "name": "stdout",
     "output_type": "stream",
     "text": [
      "\n"
     ]
    },
    {
     "name": "stderr",
     "output_type": "stream",
     "text": [
      "GLCM is symmetrical, therefore Sum Average = 2 * Joint Average, only 1 needs to be calculated\n"
     ]
    },
    {
     "name": "stdout",
     "output_type": "stream",
     "text": [
      "\n"
     ]
    },
    {
     "name": "stderr",
     "output_type": "stream",
     "text": [
      "GLCM is symmetrical, therefore Sum Average = 2 * Joint Average, only 1 needs to be calculated\n"
     ]
    },
    {
     "name": "stdout",
     "output_type": "stream",
     "text": [
      "\n",
      "Extraction complete!\n"
     ]
    }
   ],
   "source": [
    "feature_space = {}\n",
    "firstIteration = True\n",
    "for img in liver_images:\n",
    "    \n",
    "    # specify image path\n",
    "    if '40dose' in img:\n",
    "        imagePath = path + '/Images/Liver/Liver_40dose/' + img\n",
    "    elif '60dose' in img:\n",
    "        imagePath = path + '/Images/Liver/Liver_60dose/' + img\n",
    "    else:\n",
    "        imagePath = path + '/Images/Liver/Liver_100dose/' + img\n",
    "\n",
    "    # specify mask path\n",
    "    msk = ''\n",
    "    if 'FBP' in img:\n",
    "        if '0-6mm' in img:\n",
    "            msk = 'Liver313-12_FBP_0-6mm.nii'\n",
    "        elif '1-5mm' in img:\n",
    "            msk = 'Liver313-12_FBP_1-5mm.nii'\n",
    "        else:\n",
    "            msk = 'Liver313-12_FBP_3mm.nii'\n",
    "    else:\n",
    "        if '0-6mm' in img:\n",
    "            msk = 'Liver313-12_Safire_0-6mm.nii'\n",
    "        elif '1-5mm' in img:\n",
    "            msk = 'Liver313-12_Safire_1-5mm.nii'\n",
    "        else:\n",
    "            msk = 'Liver313-12_Safire_3mm.nii'\n",
    "    maskPath = maskPath_primer + '/Liver313-12/' + msk\n",
    "            \n",
    "\n",
    "    # status\n",
    "    #print('Processing...\\timg\\t\\t\\t\\t\\tmsk')\n",
    "    #print(imagePath + '\\n' + maskPath)\n",
    "    #print('\\t\\t' + img + '\\t' + msk)\n",
    "    print()\n",
    "\n",
    "    # feature extraction\n",
    "    result = extractor.execute(imagePath, maskPath)\n",
    "\n",
    "    if firstIteration:\n",
    "        features = list(result.keys())[22:] # '0:21' diagnostic features, '22:' radiomic features\n",
    "        firstIteration = False\n",
    "\n",
    "    feature_space_element = {}\n",
    "    for key, value in six.iteritems(result):\n",
    "        if key in features:\n",
    "            feature_space_element[key] = value\n",
    "    feature_space[img[:-4]] = feature_space_element # 'img[:-4]' removes '.nii'\n",
    "\n",
    "    # break # comment for 1 iteration (debugging)\n",
    "\n",
    "print('\\nExtraction complete!')"
   ]
  },
  {
   "cell_type": "code",
   "execution_count": 16,
   "id": "5825b327-59a1-4cb8-9416-fec62c779d41",
   "metadata": {},
   "outputs": [
    {
     "data": {
      "text/html": [
       "<div>\n",
       "<style scoped>\n",
       "    .dataframe tbody tr th:only-of-type {\n",
       "        vertical-align: middle;\n",
       "    }\n",
       "\n",
       "    .dataframe tbody tr th {\n",
       "        vertical-align: top;\n",
       "    }\n",
       "\n",
       "    .dataframe thead th {\n",
       "        text-align: right;\n",
       "    }\n",
       "</style>\n",
       "<table border=\"1\" class=\"dataframe\">\n",
       "  <thead>\n",
       "    <tr style=\"text-align: right;\">\n",
       "      <th></th>\n",
       "      <th>original_shape_Elongation</th>\n",
       "      <th>original_shape_Flatness</th>\n",
       "      <th>original_shape_LeastAxisLength</th>\n",
       "      <th>original_shape_MajorAxisLength</th>\n",
       "      <th>original_shape_Maximum2DDiameterColumn</th>\n",
       "      <th>original_shape_Maximum2DDiameterRow</th>\n",
       "      <th>original_shape_Maximum2DDiameterSlice</th>\n",
       "      <th>original_shape_Maximum3DDiameter</th>\n",
       "      <th>original_shape_MeshVolume</th>\n",
       "      <th>original_shape_MinorAxisLength</th>\n",
       "      <th>...</th>\n",
       "      <th>original_glszm_SmallAreaHighGrayLevelEmphasis</th>\n",
       "      <th>original_glszm_SmallAreaLowGrayLevelEmphasis</th>\n",
       "      <th>original_glszm_ZoneEntropy</th>\n",
       "      <th>original_glszm_ZonePercentage</th>\n",
       "      <th>original_glszm_ZoneVariance</th>\n",
       "      <th>original_ngtdm_Busyness</th>\n",
       "      <th>original_ngtdm_Coarseness</th>\n",
       "      <th>original_ngtdm_Complexity</th>\n",
       "      <th>original_ngtdm_Contrast</th>\n",
       "      <th>original_ngtdm_Strength</th>\n",
       "    </tr>\n",
       "  </thead>\n",
       "  <tbody>\n",
       "    <tr>\n",
       "      <th>Liver_40dose_100kVp_1FBP_0-6mm</th>\n",
       "      <td>0.656568</td>\n",
       "      <td>0.652407</td>\n",
       "      <td>19.714934</td>\n",
       "      <td>30.218763</td>\n",
       "      <td>31.602783737822104</td>\n",
       "      <td>30.413225460072365</td>\n",
       "      <td>27.07590496209871</td>\n",
       "      <td>32.32638242459788</td>\n",
       "      <td>4348.022380479437</td>\n",
       "      <td>19.840666</td>\n",
       "      <td>...</td>\n",
       "      <td>110.50116347679842</td>\n",
       "      <td>0.006023785477827901</td>\n",
       "      <td>5.839015139005414</td>\n",
       "      <td>0.303830420230569</td>\n",
       "      <td>528.3058363508612</td>\n",
       "      <td>5.284719947116385</td>\n",
       "      <td>0.0005162905980281116</td>\n",
       "      <td>413.92812828491304</td>\n",
       "      <td>0.05186150024961482</td>\n",
       "      <td>0.09917321014888013</td>\n",
       "    </tr>\n",
       "    <tr>\n",
       "      <th>Liver_40dose_100kVp_1FBP_3mm</th>\n",
       "      <td>0.604672</td>\n",
       "      <td>0.544938</td>\n",
       "      <td>14.076403</td>\n",
       "      <td>25.831194</td>\n",
       "      <td>27.95821887323076</td>\n",
       "      <td>24.244765513099033</td>\n",
       "      <td>19.94726093964133</td>\n",
       "      <td>28.575265381549418</td>\n",
       "      <td>2008.4069023132324</td>\n",
       "      <td>15.619409</td>\n",
       "      <td>...</td>\n",
       "      <td>9.013753559474525</td>\n",
       "      <td>0.07220072955768844</td>\n",
       "      <td>4.953615646285117</td>\n",
       "      <td>0.10284810126582279</td>\n",
       "      <td>1470.23100591716</td>\n",
       "      <td>6.219549223196241</td>\n",
       "      <td>0.005802597150851862</td>\n",
       "      <td>12.75412130406286</td>\n",
       "      <td>0.03709634887917733</td>\n",
       "      <td>0.08781579441925923</td>\n",
       "    </tr>\n",
       "    <tr>\n",
       "      <th>Liver_40dose_120kVp_2FBP_0-6mm</th>\n",
       "      <td>0.656568</td>\n",
       "      <td>0.652407</td>\n",
       "      <td>19.714934</td>\n",
       "      <td>30.218763</td>\n",
       "      <td>31.602783737822104</td>\n",
       "      <td>30.413225460072365</td>\n",
       "      <td>27.07590496209871</td>\n",
       "      <td>32.32638242459788</td>\n",
       "      <td>4348.022380479437</td>\n",
       "      <td>19.840666</td>\n",
       "      <td>...</td>\n",
       "      <td>68.71687730767802</td>\n",
       "      <td>0.01167273845346137</td>\n",
       "      <td>5.787438185125226</td>\n",
       "      <td>0.2757158795091112</td>\n",
       "      <td>1352.742657993113</td>\n",
       "      <td>7.7242572324397925</td>\n",
       "      <td>0.0005283413073528075</td>\n",
       "      <td>279.10725681284276</td>\n",
       "      <td>0.05451749872627973</td>\n",
       "      <td>0.07277039792399073</td>\n",
       "    </tr>\n",
       "    <tr>\n",
       "      <th>Liver_40dose_100kVp_1Safire_0-6mm</th>\n",
       "      <td>0.629933</td>\n",
       "      <td>0.609621</td>\n",
       "      <td>17.197219</td>\n",
       "      <td>28.209689</td>\n",
       "      <td>28.922661051525413</td>\n",
       "      <td>33.73772408639661</td>\n",
       "      <td>26.289447898363733</td>\n",
       "      <td>34.3858084398499</td>\n",
       "      <td>2867.980815014045</td>\n",
       "      <td>17.770227</td>\n",
       "      <td>...</td>\n",
       "      <td>38.64068400489147</td>\n",
       "      <td>0.018237681225157554</td>\n",
       "      <td>5.571437259208506</td>\n",
       "      <td>0.18964357767316745</td>\n",
       "      <td>2200.815514813138</td>\n",
       "      <td>8.378729728669924</td>\n",
       "      <td>0.0008092516495682167</td>\n",
       "      <td>108.7450753840976</td>\n",
       "      <td>0.03407108513639031</td>\n",
       "      <td>0.06613024947618136</td>\n",
       "    </tr>\n",
       "    <tr>\n",
       "      <th>Liver_40dose_120kVp_1Safire_0-6mm</th>\n",
       "      <td>0.629933</td>\n",
       "      <td>0.609621</td>\n",
       "      <td>17.197219</td>\n",
       "      <td>28.209689</td>\n",
       "      <td>28.922661051525413</td>\n",
       "      <td>33.73772408639661</td>\n",
       "      <td>26.289447898363733</td>\n",
       "      <td>34.3858084398499</td>\n",
       "      <td>2867.980815014045</td>\n",
       "      <td>17.770227</td>\n",
       "      <td>...</td>\n",
       "      <td>31.364667045202328</td>\n",
       "      <td>0.022557458994740064</td>\n",
       "      <td>5.47105039264351</td>\n",
       "      <td>0.16991705895539116</td>\n",
       "      <td>2749.6807579312313</td>\n",
       "      <td>10.898481092972384</td>\n",
       "      <td>0.0008010581549883276</td>\n",
       "      <td>74.89938201690148</td>\n",
       "      <td>0.03617494481017374</td>\n",
       "      <td>0.046923195497249895</td>\n",
       "    </tr>\n",
       "    <tr>\n",
       "      <th>...</th>\n",
       "      <td>...</td>\n",
       "      <td>...</td>\n",
       "      <td>...</td>\n",
       "      <td>...</td>\n",
       "      <td>...</td>\n",
       "      <td>...</td>\n",
       "      <td>...</td>\n",
       "      <td>...</td>\n",
       "      <td>...</td>\n",
       "      <td>...</td>\n",
       "      <td>...</td>\n",
       "      <td>...</td>\n",
       "      <td>...</td>\n",
       "      <td>...</td>\n",
       "      <td>...</td>\n",
       "      <td>...</td>\n",
       "      <td>...</td>\n",
       "      <td>...</td>\n",
       "      <td>...</td>\n",
       "      <td>...</td>\n",
       "      <td>...</td>\n",
       "    </tr>\n",
       "    <tr>\n",
       "      <th>Liver_100dose_100kVp_1Safire_0-6mm</th>\n",
       "      <td>0.629933</td>\n",
       "      <td>0.609621</td>\n",
       "      <td>17.197219</td>\n",
       "      <td>28.209689</td>\n",
       "      <td>28.922661051525413</td>\n",
       "      <td>33.73772408639661</td>\n",
       "      <td>26.289447898363733</td>\n",
       "      <td>34.3858084398499</td>\n",
       "      <td>2867.980815014045</td>\n",
       "      <td>17.770227</td>\n",
       "      <td>...</td>\n",
       "      <td>27.544689437159654</td>\n",
       "      <td>0.020013516370160356</td>\n",
       "      <td>5.33494126115771</td>\n",
       "      <td>0.11936785474108944</td>\n",
       "      <td>10658.06409310322</td>\n",
       "      <td>10.876996015578468</td>\n",
       "      <td>0.0008316485087088932</td>\n",
       "      <td>49.12103331277882</td>\n",
       "      <td>0.01908569221266186</td>\n",
       "      <td>0.04808560264838358</td>\n",
       "    </tr>\n",
       "    <tr>\n",
       "      <th>Liver_100dose_100kVp_2FBP_3mm</th>\n",
       "      <td>0.604672</td>\n",
       "      <td>0.544938</td>\n",
       "      <td>14.076403</td>\n",
       "      <td>25.831194</td>\n",
       "      <td>27.95821887323076</td>\n",
       "      <td>24.244765513099033</td>\n",
       "      <td>19.94726093964133</td>\n",
       "      <td>28.575265381549418</td>\n",
       "      <td>2008.4069023132324</td>\n",
       "      <td>15.619409</td>\n",
       "      <td>...</td>\n",
       "      <td>11.681139083227382</td>\n",
       "      <td>0.03181347655089734</td>\n",
       "      <td>4.58333708020573</td>\n",
       "      <td>0.061708860759493674</td>\n",
       "      <td>5088.70151216305</td>\n",
       "      <td>3.773623094637219</td>\n",
       "      <td>0.006076861578604661</td>\n",
       "      <td>11.073982803889884</td>\n",
       "      <td>0.016805427311196164</td>\n",
       "      <td>0.12529156342034933</td>\n",
       "    </tr>\n",
       "    <tr>\n",
       "      <th>Liver_100dose_120kVp_2FBP_0-6mm</th>\n",
       "      <td>0.656568</td>\n",
       "      <td>0.652407</td>\n",
       "      <td>19.714934</td>\n",
       "      <td>30.218763</td>\n",
       "      <td>31.602783737822104</td>\n",
       "      <td>30.413225460072365</td>\n",
       "      <td>27.07590496209871</td>\n",
       "      <td>32.32638242459788</td>\n",
       "      <td>4348.022380479437</td>\n",
       "      <td>19.840666</td>\n",
       "      <td>...</td>\n",
       "      <td>50.308946177798475</td>\n",
       "      <td>0.0118215624052292</td>\n",
       "      <td>5.5633493483075585</td>\n",
       "      <td>0.1701747861658609</td>\n",
       "      <td>5923.118879399666</td>\n",
       "      <td>10.902921335111836</td>\n",
       "      <td>0.0005339862200926565</td>\n",
       "      <td>110.37415752936681</td>\n",
       "      <td>0.03362398672551863</td>\n",
       "      <td>0.045748551671293644</td>\n",
       "    </tr>\n",
       "    <tr>\n",
       "      <th>Liver_100dose_120kVp_1Safire_0-6mm</th>\n",
       "      <td>0.629933</td>\n",
       "      <td>0.609621</td>\n",
       "      <td>17.197219</td>\n",
       "      <td>28.209689</td>\n",
       "      <td>28.922661051525413</td>\n",
       "      <td>33.73772408639661</td>\n",
       "      <td>26.289447898363733</td>\n",
       "      <td>34.3858084398499</td>\n",
       "      <td>2867.980815014045</td>\n",
       "      <td>17.770227</td>\n",
       "      <td>...</td>\n",
       "      <td>27.784900799876848</td>\n",
       "      <td>0.018162330444775214</td>\n",
       "      <td>5.379276979669725</td>\n",
       "      <td>0.10468504819547186</td>\n",
       "      <td>9979.720481087996</td>\n",
       "      <td>11.786925981898381</td>\n",
       "      <td>0.0008148045179859776</td>\n",
       "      <td>40.875172185329596</td>\n",
       "      <td>0.019480925549549777</td>\n",
       "      <td>0.043635798678101426</td>\n",
       "    </tr>\n",
       "    <tr>\n",
       "      <th>Liver_100dose_100kVp_1FBP_0-6mm</th>\n",
       "      <td>0.656568</td>\n",
       "      <td>0.652407</td>\n",
       "      <td>19.714934</td>\n",
       "      <td>30.218763</td>\n",
       "      <td>31.602783737822104</td>\n",
       "      <td>30.413225460072365</td>\n",
       "      <td>27.07590496209871</td>\n",
       "      <td>32.32638242459788</td>\n",
       "      <td>4348.022380479437</td>\n",
       "      <td>19.840666</td>\n",
       "      <td>...</td>\n",
       "      <td>57.174435435043875</td>\n",
       "      <td>0.009883925758855973</td>\n",
       "      <td>5.661474890820941</td>\n",
       "      <td>0.18713276310896243</td>\n",
       "      <td>5034.420355037775</td>\n",
       "      <td>8.7393351554692</td>\n",
       "      <td>0.0005285486473357409</td>\n",
       "      <td>155.18161061174075</td>\n",
       "      <td>0.03165483970102047</td>\n",
       "      <td>0.05878206511422468</td>\n",
       "    </tr>\n",
       "  </tbody>\n",
       "</table>\n",
       "<p>72 rows × 107 columns</p>\n",
       "</div>"
      ],
      "text/plain": [
       "                                   original_shape_Elongation  \\\n",
       "Liver_40dose_100kVp_1FBP_0-6mm                      0.656568   \n",
       "Liver_40dose_100kVp_1FBP_3mm                        0.604672   \n",
       "Liver_40dose_120kVp_2FBP_0-6mm                      0.656568   \n",
       "Liver_40dose_100kVp_1Safire_0-6mm                   0.629933   \n",
       "Liver_40dose_120kVp_1Safire_0-6mm                   0.629933   \n",
       "...                                                      ...   \n",
       "Liver_100dose_100kVp_1Safire_0-6mm                  0.629933   \n",
       "Liver_100dose_100kVp_2FBP_3mm                       0.604672   \n",
       "Liver_100dose_120kVp_2FBP_0-6mm                     0.656568   \n",
       "Liver_100dose_120kVp_1Safire_0-6mm                  0.629933   \n",
       "Liver_100dose_100kVp_1FBP_0-6mm                     0.656568   \n",
       "\n",
       "                                   original_shape_Flatness  \\\n",
       "Liver_40dose_100kVp_1FBP_0-6mm                    0.652407   \n",
       "Liver_40dose_100kVp_1FBP_3mm                      0.544938   \n",
       "Liver_40dose_120kVp_2FBP_0-6mm                    0.652407   \n",
       "Liver_40dose_100kVp_1Safire_0-6mm                 0.609621   \n",
       "Liver_40dose_120kVp_1Safire_0-6mm                 0.609621   \n",
       "...                                                    ...   \n",
       "Liver_100dose_100kVp_1Safire_0-6mm                0.609621   \n",
       "Liver_100dose_100kVp_2FBP_3mm                     0.544938   \n",
       "Liver_100dose_120kVp_2FBP_0-6mm                   0.652407   \n",
       "Liver_100dose_120kVp_1Safire_0-6mm                0.609621   \n",
       "Liver_100dose_100kVp_1FBP_0-6mm                   0.652407   \n",
       "\n",
       "                                   original_shape_LeastAxisLength  \\\n",
       "Liver_40dose_100kVp_1FBP_0-6mm                          19.714934   \n",
       "Liver_40dose_100kVp_1FBP_3mm                            14.076403   \n",
       "Liver_40dose_120kVp_2FBP_0-6mm                          19.714934   \n",
       "Liver_40dose_100kVp_1Safire_0-6mm                       17.197219   \n",
       "Liver_40dose_120kVp_1Safire_0-6mm                       17.197219   \n",
       "...                                                           ...   \n",
       "Liver_100dose_100kVp_1Safire_0-6mm                      17.197219   \n",
       "Liver_100dose_100kVp_2FBP_3mm                           14.076403   \n",
       "Liver_100dose_120kVp_2FBP_0-6mm                         19.714934   \n",
       "Liver_100dose_120kVp_1Safire_0-6mm                      17.197219   \n",
       "Liver_100dose_100kVp_1FBP_0-6mm                         19.714934   \n",
       "\n",
       "                                   original_shape_MajorAxisLength  \\\n",
       "Liver_40dose_100kVp_1FBP_0-6mm                          30.218763   \n",
       "Liver_40dose_100kVp_1FBP_3mm                            25.831194   \n",
       "Liver_40dose_120kVp_2FBP_0-6mm                          30.218763   \n",
       "Liver_40dose_100kVp_1Safire_0-6mm                       28.209689   \n",
       "Liver_40dose_120kVp_1Safire_0-6mm                       28.209689   \n",
       "...                                                           ...   \n",
       "Liver_100dose_100kVp_1Safire_0-6mm                      28.209689   \n",
       "Liver_100dose_100kVp_2FBP_3mm                           25.831194   \n",
       "Liver_100dose_120kVp_2FBP_0-6mm                         30.218763   \n",
       "Liver_100dose_120kVp_1Safire_0-6mm                      28.209689   \n",
       "Liver_100dose_100kVp_1FBP_0-6mm                         30.218763   \n",
       "\n",
       "                                   original_shape_Maximum2DDiameterColumn  \\\n",
       "Liver_40dose_100kVp_1FBP_0-6mm                         31.602783737822104   \n",
       "Liver_40dose_100kVp_1FBP_3mm                            27.95821887323076   \n",
       "Liver_40dose_120kVp_2FBP_0-6mm                         31.602783737822104   \n",
       "Liver_40dose_100kVp_1Safire_0-6mm                      28.922661051525413   \n",
       "Liver_40dose_120kVp_1Safire_0-6mm                      28.922661051525413   \n",
       "...                                                                   ...   \n",
       "Liver_100dose_100kVp_1Safire_0-6mm                     28.922661051525413   \n",
       "Liver_100dose_100kVp_2FBP_3mm                           27.95821887323076   \n",
       "Liver_100dose_120kVp_2FBP_0-6mm                        31.602783737822104   \n",
       "Liver_100dose_120kVp_1Safire_0-6mm                     28.922661051525413   \n",
       "Liver_100dose_100kVp_1FBP_0-6mm                        31.602783737822104   \n",
       "\n",
       "                                   original_shape_Maximum2DDiameterRow  \\\n",
       "Liver_40dose_100kVp_1FBP_0-6mm                      30.413225460072365   \n",
       "Liver_40dose_100kVp_1FBP_3mm                        24.244765513099033   \n",
       "Liver_40dose_120kVp_2FBP_0-6mm                      30.413225460072365   \n",
       "Liver_40dose_100kVp_1Safire_0-6mm                    33.73772408639661   \n",
       "Liver_40dose_120kVp_1Safire_0-6mm                    33.73772408639661   \n",
       "...                                                                ...   \n",
       "Liver_100dose_100kVp_1Safire_0-6mm                   33.73772408639661   \n",
       "Liver_100dose_100kVp_2FBP_3mm                       24.244765513099033   \n",
       "Liver_100dose_120kVp_2FBP_0-6mm                     30.413225460072365   \n",
       "Liver_100dose_120kVp_1Safire_0-6mm                   33.73772408639661   \n",
       "Liver_100dose_100kVp_1FBP_0-6mm                     30.413225460072365   \n",
       "\n",
       "                                   original_shape_Maximum2DDiameterSlice  \\\n",
       "Liver_40dose_100kVp_1FBP_0-6mm                         27.07590496209871   \n",
       "Liver_40dose_100kVp_1FBP_3mm                           19.94726093964133   \n",
       "Liver_40dose_120kVp_2FBP_0-6mm                         27.07590496209871   \n",
       "Liver_40dose_100kVp_1Safire_0-6mm                     26.289447898363733   \n",
       "Liver_40dose_120kVp_1Safire_0-6mm                     26.289447898363733   \n",
       "...                                                                  ...   \n",
       "Liver_100dose_100kVp_1Safire_0-6mm                    26.289447898363733   \n",
       "Liver_100dose_100kVp_2FBP_3mm                          19.94726093964133   \n",
       "Liver_100dose_120kVp_2FBP_0-6mm                        27.07590496209871   \n",
       "Liver_100dose_120kVp_1Safire_0-6mm                    26.289447898363733   \n",
       "Liver_100dose_100kVp_1FBP_0-6mm                        27.07590496209871   \n",
       "\n",
       "                                   original_shape_Maximum3DDiameter  \\\n",
       "Liver_40dose_100kVp_1FBP_0-6mm                    32.32638242459788   \n",
       "Liver_40dose_100kVp_1FBP_3mm                     28.575265381549418   \n",
       "Liver_40dose_120kVp_2FBP_0-6mm                    32.32638242459788   \n",
       "Liver_40dose_100kVp_1Safire_0-6mm                  34.3858084398499   \n",
       "Liver_40dose_120kVp_1Safire_0-6mm                  34.3858084398499   \n",
       "...                                                             ...   \n",
       "Liver_100dose_100kVp_1Safire_0-6mm                 34.3858084398499   \n",
       "Liver_100dose_100kVp_2FBP_3mm                    28.575265381549418   \n",
       "Liver_100dose_120kVp_2FBP_0-6mm                   32.32638242459788   \n",
       "Liver_100dose_120kVp_1Safire_0-6mm                 34.3858084398499   \n",
       "Liver_100dose_100kVp_1FBP_0-6mm                   32.32638242459788   \n",
       "\n",
       "                                   original_shape_MeshVolume  \\\n",
       "Liver_40dose_100kVp_1FBP_0-6mm             4348.022380479437   \n",
       "Liver_40dose_100kVp_1FBP_3mm              2008.4069023132324   \n",
       "Liver_40dose_120kVp_2FBP_0-6mm             4348.022380479437   \n",
       "Liver_40dose_100kVp_1Safire_0-6mm          2867.980815014045   \n",
       "Liver_40dose_120kVp_1Safire_0-6mm          2867.980815014045   \n",
       "...                                                      ...   \n",
       "Liver_100dose_100kVp_1Safire_0-6mm         2867.980815014045   \n",
       "Liver_100dose_100kVp_2FBP_3mm             2008.4069023132324   \n",
       "Liver_100dose_120kVp_2FBP_0-6mm            4348.022380479437   \n",
       "Liver_100dose_120kVp_1Safire_0-6mm         2867.980815014045   \n",
       "Liver_100dose_100kVp_1FBP_0-6mm            4348.022380479437   \n",
       "\n",
       "                                   original_shape_MinorAxisLength  ...  \\\n",
       "Liver_40dose_100kVp_1FBP_0-6mm                          19.840666  ...   \n",
       "Liver_40dose_100kVp_1FBP_3mm                            15.619409  ...   \n",
       "Liver_40dose_120kVp_2FBP_0-6mm                          19.840666  ...   \n",
       "Liver_40dose_100kVp_1Safire_0-6mm                       17.770227  ...   \n",
       "Liver_40dose_120kVp_1Safire_0-6mm                       17.770227  ...   \n",
       "...                                                           ...  ...   \n",
       "Liver_100dose_100kVp_1Safire_0-6mm                      17.770227  ...   \n",
       "Liver_100dose_100kVp_2FBP_3mm                           15.619409  ...   \n",
       "Liver_100dose_120kVp_2FBP_0-6mm                         19.840666  ...   \n",
       "Liver_100dose_120kVp_1Safire_0-6mm                      17.770227  ...   \n",
       "Liver_100dose_100kVp_1FBP_0-6mm                         19.840666  ...   \n",
       "\n",
       "                                   original_glszm_SmallAreaHighGrayLevelEmphasis  \\\n",
       "Liver_40dose_100kVp_1FBP_0-6mm                                110.50116347679842   \n",
       "Liver_40dose_100kVp_1FBP_3mm                                   9.013753559474525   \n",
       "Liver_40dose_120kVp_2FBP_0-6mm                                 68.71687730767802   \n",
       "Liver_40dose_100kVp_1Safire_0-6mm                              38.64068400489147   \n",
       "Liver_40dose_120kVp_1Safire_0-6mm                             31.364667045202328   \n",
       "...                                                                          ...   \n",
       "Liver_100dose_100kVp_1Safire_0-6mm                            27.544689437159654   \n",
       "Liver_100dose_100kVp_2FBP_3mm                                 11.681139083227382   \n",
       "Liver_100dose_120kVp_2FBP_0-6mm                               50.308946177798475   \n",
       "Liver_100dose_120kVp_1Safire_0-6mm                            27.784900799876848   \n",
       "Liver_100dose_100kVp_1FBP_0-6mm                               57.174435435043875   \n",
       "\n",
       "                                   original_glszm_SmallAreaLowGrayLevelEmphasis  \\\n",
       "Liver_40dose_100kVp_1FBP_0-6mm                             0.006023785477827901   \n",
       "Liver_40dose_100kVp_1FBP_3mm                                0.07220072955768844   \n",
       "Liver_40dose_120kVp_2FBP_0-6mm                              0.01167273845346137   \n",
       "Liver_40dose_100kVp_1Safire_0-6mm                          0.018237681225157554   \n",
       "Liver_40dose_120kVp_1Safire_0-6mm                          0.022557458994740064   \n",
       "...                                                                         ...   \n",
       "Liver_100dose_100kVp_1Safire_0-6mm                         0.020013516370160356   \n",
       "Liver_100dose_100kVp_2FBP_3mm                               0.03181347655089734   \n",
       "Liver_100dose_120kVp_2FBP_0-6mm                              0.0118215624052292   \n",
       "Liver_100dose_120kVp_1Safire_0-6mm                         0.018162330444775214   \n",
       "Liver_100dose_100kVp_1FBP_0-6mm                            0.009883925758855973   \n",
       "\n",
       "                                   original_glszm_ZoneEntropy  \\\n",
       "Liver_40dose_100kVp_1FBP_0-6mm              5.839015139005414   \n",
       "Liver_40dose_100kVp_1FBP_3mm                4.953615646285117   \n",
       "Liver_40dose_120kVp_2FBP_0-6mm              5.787438185125226   \n",
       "Liver_40dose_100kVp_1Safire_0-6mm           5.571437259208506   \n",
       "Liver_40dose_120kVp_1Safire_0-6mm            5.47105039264351   \n",
       "...                                                       ...   \n",
       "Liver_100dose_100kVp_1Safire_0-6mm           5.33494126115771   \n",
       "Liver_100dose_100kVp_2FBP_3mm                4.58333708020573   \n",
       "Liver_100dose_120kVp_2FBP_0-6mm            5.5633493483075585   \n",
       "Liver_100dose_120kVp_1Safire_0-6mm          5.379276979669725   \n",
       "Liver_100dose_100kVp_1FBP_0-6mm             5.661474890820941   \n",
       "\n",
       "                                   original_glszm_ZonePercentage  \\\n",
       "Liver_40dose_100kVp_1FBP_0-6mm                 0.303830420230569   \n",
       "Liver_40dose_100kVp_1FBP_3mm                 0.10284810126582279   \n",
       "Liver_40dose_120kVp_2FBP_0-6mm                0.2757158795091112   \n",
       "Liver_40dose_100kVp_1Safire_0-6mm            0.18964357767316745   \n",
       "Liver_40dose_120kVp_1Safire_0-6mm            0.16991705895539116   \n",
       "...                                                          ...   \n",
       "Liver_100dose_100kVp_1Safire_0-6mm           0.11936785474108944   \n",
       "Liver_100dose_100kVp_2FBP_3mm               0.061708860759493674   \n",
       "Liver_100dose_120kVp_2FBP_0-6mm               0.1701747861658609   \n",
       "Liver_100dose_120kVp_1Safire_0-6mm           0.10468504819547186   \n",
       "Liver_100dose_100kVp_1FBP_0-6mm              0.18713276310896243   \n",
       "\n",
       "                                   original_glszm_ZoneVariance  \\\n",
       "Liver_40dose_100kVp_1FBP_0-6mm               528.3058363508612   \n",
       "Liver_40dose_100kVp_1FBP_3mm                  1470.23100591716   \n",
       "Liver_40dose_120kVp_2FBP_0-6mm               1352.742657993113   \n",
       "Liver_40dose_100kVp_1Safire_0-6mm            2200.815514813138   \n",
       "Liver_40dose_120kVp_1Safire_0-6mm           2749.6807579312313   \n",
       "...                                                        ...   \n",
       "Liver_100dose_100kVp_1Safire_0-6mm           10658.06409310322   \n",
       "Liver_100dose_100kVp_2FBP_3mm                 5088.70151216305   \n",
       "Liver_100dose_120kVp_2FBP_0-6mm              5923.118879399666   \n",
       "Liver_100dose_120kVp_1Safire_0-6mm           9979.720481087996   \n",
       "Liver_100dose_100kVp_1FBP_0-6mm              5034.420355037775   \n",
       "\n",
       "                                   original_ngtdm_Busyness  \\\n",
       "Liver_40dose_100kVp_1FBP_0-6mm           5.284719947116385   \n",
       "Liver_40dose_100kVp_1FBP_3mm             6.219549223196241   \n",
       "Liver_40dose_120kVp_2FBP_0-6mm          7.7242572324397925   \n",
       "Liver_40dose_100kVp_1Safire_0-6mm        8.378729728669924   \n",
       "Liver_40dose_120kVp_1Safire_0-6mm       10.898481092972384   \n",
       "...                                                    ...   \n",
       "Liver_100dose_100kVp_1Safire_0-6mm      10.876996015578468   \n",
       "Liver_100dose_100kVp_2FBP_3mm            3.773623094637219   \n",
       "Liver_100dose_120kVp_2FBP_0-6mm         10.902921335111836   \n",
       "Liver_100dose_120kVp_1Safire_0-6mm      11.786925981898381   \n",
       "Liver_100dose_100kVp_1FBP_0-6mm            8.7393351554692   \n",
       "\n",
       "                                   original_ngtdm_Coarseness  \\\n",
       "Liver_40dose_100kVp_1FBP_0-6mm         0.0005162905980281116   \n",
       "Liver_40dose_100kVp_1FBP_3mm            0.005802597150851862   \n",
       "Liver_40dose_120kVp_2FBP_0-6mm         0.0005283413073528075   \n",
       "Liver_40dose_100kVp_1Safire_0-6mm      0.0008092516495682167   \n",
       "Liver_40dose_120kVp_1Safire_0-6mm      0.0008010581549883276   \n",
       "...                                                      ...   \n",
       "Liver_100dose_100kVp_1Safire_0-6mm     0.0008316485087088932   \n",
       "Liver_100dose_100kVp_2FBP_3mm           0.006076861578604661   \n",
       "Liver_100dose_120kVp_2FBP_0-6mm        0.0005339862200926565   \n",
       "Liver_100dose_120kVp_1Safire_0-6mm     0.0008148045179859776   \n",
       "Liver_100dose_100kVp_1FBP_0-6mm        0.0005285486473357409   \n",
       "\n",
       "                                   original_ngtdm_Complexity  \\\n",
       "Liver_40dose_100kVp_1FBP_0-6mm            413.92812828491304   \n",
       "Liver_40dose_100kVp_1FBP_3mm               12.75412130406286   \n",
       "Liver_40dose_120kVp_2FBP_0-6mm            279.10725681284276   \n",
       "Liver_40dose_100kVp_1Safire_0-6mm          108.7450753840976   \n",
       "Liver_40dose_120kVp_1Safire_0-6mm          74.89938201690148   \n",
       "...                                                      ...   \n",
       "Liver_100dose_100kVp_1Safire_0-6mm         49.12103331277882   \n",
       "Liver_100dose_100kVp_2FBP_3mm             11.073982803889884   \n",
       "Liver_100dose_120kVp_2FBP_0-6mm           110.37415752936681   \n",
       "Liver_100dose_120kVp_1Safire_0-6mm        40.875172185329596   \n",
       "Liver_100dose_100kVp_1FBP_0-6mm           155.18161061174075   \n",
       "\n",
       "                                   original_ngtdm_Contrast  \\\n",
       "Liver_40dose_100kVp_1FBP_0-6mm         0.05186150024961482   \n",
       "Liver_40dose_100kVp_1FBP_3mm           0.03709634887917733   \n",
       "Liver_40dose_120kVp_2FBP_0-6mm         0.05451749872627973   \n",
       "Liver_40dose_100kVp_1Safire_0-6mm      0.03407108513639031   \n",
       "Liver_40dose_120kVp_1Safire_0-6mm      0.03617494481017374   \n",
       "...                                                    ...   \n",
       "Liver_100dose_100kVp_1Safire_0-6mm     0.01908569221266186   \n",
       "Liver_100dose_100kVp_2FBP_3mm         0.016805427311196164   \n",
       "Liver_100dose_120kVp_2FBP_0-6mm        0.03362398672551863   \n",
       "Liver_100dose_120kVp_1Safire_0-6mm    0.019480925549549777   \n",
       "Liver_100dose_100kVp_1FBP_0-6mm        0.03165483970102047   \n",
       "\n",
       "                                   original_ngtdm_Strength  \n",
       "Liver_40dose_100kVp_1FBP_0-6mm         0.09917321014888013  \n",
       "Liver_40dose_100kVp_1FBP_3mm           0.08781579441925923  \n",
       "Liver_40dose_120kVp_2FBP_0-6mm         0.07277039792399073  \n",
       "Liver_40dose_100kVp_1Safire_0-6mm      0.06613024947618136  \n",
       "Liver_40dose_120kVp_1Safire_0-6mm     0.046923195497249895  \n",
       "...                                                    ...  \n",
       "Liver_100dose_100kVp_1Safire_0-6mm     0.04808560264838358  \n",
       "Liver_100dose_100kVp_2FBP_3mm          0.12529156342034933  \n",
       "Liver_100dose_120kVp_2FBP_0-6mm       0.045748551671293644  \n",
       "Liver_100dose_120kVp_1Safire_0-6mm    0.043635798678101426  \n",
       "Liver_100dose_100kVp_1FBP_0-6mm        0.05878206511422468  \n",
       "\n",
       "[72 rows x 107 columns]"
      ]
     },
     "execution_count": 16,
     "metadata": {},
     "output_type": "execute_result"
    }
   ],
   "source": [
    "df313_12 = pd.DataFrame.from_dict(feature_space).transpose()\n",
    "df313_12"
   ]
  },
  {
   "cell_type": "code",
   "execution_count": 17,
   "id": "cf25b553-f430-4f81-ab60-cab33d0db229",
   "metadata": {},
   "outputs": [],
   "source": [
    "df313_12.to_csv('Liver313-12.csv')"
   ]
  },
  {
   "cell_type": "markdown",
   "id": "174794ab-effd-49b6-a030-e30d82b40986",
   "metadata": {},
   "source": [
    "## Liver313-13"
   ]
  },
  {
   "cell_type": "code",
   "execution_count": 18,
   "id": "645ded44-eddb-4019-b522-88cc93a03618",
   "metadata": {},
   "outputs": [
    {
     "name": "stdout",
     "output_type": "stream",
     "text": [
      "\n"
     ]
    },
    {
     "name": "stderr",
     "output_type": "stream",
     "text": [
      "GLCM is symmetrical, therefore Sum Average = 2 * Joint Average, only 1 needs to be calculated\n"
     ]
    },
    {
     "name": "stdout",
     "output_type": "stream",
     "text": [
      "\n"
     ]
    },
    {
     "name": "stderr",
     "output_type": "stream",
     "text": [
      "GLCM is symmetrical, therefore Sum Average = 2 * Joint Average, only 1 needs to be calculated\n"
     ]
    },
    {
     "name": "stdout",
     "output_type": "stream",
     "text": [
      "\n"
     ]
    },
    {
     "name": "stderr",
     "output_type": "stream",
     "text": [
      "GLCM is symmetrical, therefore Sum Average = 2 * Joint Average, only 1 needs to be calculated\n"
     ]
    },
    {
     "name": "stdout",
     "output_type": "stream",
     "text": [
      "\n"
     ]
    },
    {
     "name": "stderr",
     "output_type": "stream",
     "text": [
      "GLCM is symmetrical, therefore Sum Average = 2 * Joint Average, only 1 needs to be calculated\n"
     ]
    },
    {
     "name": "stdout",
     "output_type": "stream",
     "text": [
      "\n"
     ]
    },
    {
     "name": "stderr",
     "output_type": "stream",
     "text": [
      "GLCM is symmetrical, therefore Sum Average = 2 * Joint Average, only 1 needs to be calculated\n"
     ]
    },
    {
     "name": "stdout",
     "output_type": "stream",
     "text": [
      "\n"
     ]
    },
    {
     "name": "stderr",
     "output_type": "stream",
     "text": [
      "GLCM is symmetrical, therefore Sum Average = 2 * Joint Average, only 1 needs to be calculated\n"
     ]
    },
    {
     "name": "stdout",
     "output_type": "stream",
     "text": [
      "\n"
     ]
    },
    {
     "name": "stderr",
     "output_type": "stream",
     "text": [
      "GLCM is symmetrical, therefore Sum Average = 2 * Joint Average, only 1 needs to be calculated\n"
     ]
    },
    {
     "name": "stdout",
     "output_type": "stream",
     "text": [
      "\n"
     ]
    },
    {
     "name": "stderr",
     "output_type": "stream",
     "text": [
      "GLCM is symmetrical, therefore Sum Average = 2 * Joint Average, only 1 needs to be calculated\n"
     ]
    },
    {
     "name": "stdout",
     "output_type": "stream",
     "text": [
      "\n"
     ]
    },
    {
     "name": "stderr",
     "output_type": "stream",
     "text": [
      "GLCM is symmetrical, therefore Sum Average = 2 * Joint Average, only 1 needs to be calculated\n"
     ]
    },
    {
     "name": "stdout",
     "output_type": "stream",
     "text": [
      "\n"
     ]
    },
    {
     "name": "stderr",
     "output_type": "stream",
     "text": [
      "GLCM is symmetrical, therefore Sum Average = 2 * Joint Average, only 1 needs to be calculated\n"
     ]
    },
    {
     "name": "stdout",
     "output_type": "stream",
     "text": [
      "\n"
     ]
    },
    {
     "name": "stderr",
     "output_type": "stream",
     "text": [
      "GLCM is symmetrical, therefore Sum Average = 2 * Joint Average, only 1 needs to be calculated\n"
     ]
    },
    {
     "name": "stdout",
     "output_type": "stream",
     "text": [
      "\n"
     ]
    },
    {
     "name": "stderr",
     "output_type": "stream",
     "text": [
      "GLCM is symmetrical, therefore Sum Average = 2 * Joint Average, only 1 needs to be calculated\n"
     ]
    },
    {
     "name": "stdout",
     "output_type": "stream",
     "text": [
      "\n"
     ]
    },
    {
     "name": "stderr",
     "output_type": "stream",
     "text": [
      "GLCM is symmetrical, therefore Sum Average = 2 * Joint Average, only 1 needs to be calculated\n"
     ]
    },
    {
     "name": "stdout",
     "output_type": "stream",
     "text": [
      "\n"
     ]
    },
    {
     "name": "stderr",
     "output_type": "stream",
     "text": [
      "GLCM is symmetrical, therefore Sum Average = 2 * Joint Average, only 1 needs to be calculated\n"
     ]
    },
    {
     "name": "stdout",
     "output_type": "stream",
     "text": [
      "\n"
     ]
    },
    {
     "name": "stderr",
     "output_type": "stream",
     "text": [
      "GLCM is symmetrical, therefore Sum Average = 2 * Joint Average, only 1 needs to be calculated\n"
     ]
    },
    {
     "name": "stdout",
     "output_type": "stream",
     "text": [
      "\n"
     ]
    },
    {
     "name": "stderr",
     "output_type": "stream",
     "text": [
      "GLCM is symmetrical, therefore Sum Average = 2 * Joint Average, only 1 needs to be calculated\n"
     ]
    },
    {
     "name": "stdout",
     "output_type": "stream",
     "text": [
      "\n"
     ]
    },
    {
     "name": "stderr",
     "output_type": "stream",
     "text": [
      "GLCM is symmetrical, therefore Sum Average = 2 * Joint Average, only 1 needs to be calculated\n"
     ]
    },
    {
     "name": "stdout",
     "output_type": "stream",
     "text": [
      "\n"
     ]
    },
    {
     "name": "stderr",
     "output_type": "stream",
     "text": [
      "GLCM is symmetrical, therefore Sum Average = 2 * Joint Average, only 1 needs to be calculated\n"
     ]
    },
    {
     "name": "stdout",
     "output_type": "stream",
     "text": [
      "\n"
     ]
    },
    {
     "name": "stderr",
     "output_type": "stream",
     "text": [
      "GLCM is symmetrical, therefore Sum Average = 2 * Joint Average, only 1 needs to be calculated\n"
     ]
    },
    {
     "name": "stdout",
     "output_type": "stream",
     "text": [
      "\n"
     ]
    },
    {
     "name": "stderr",
     "output_type": "stream",
     "text": [
      "GLCM is symmetrical, therefore Sum Average = 2 * Joint Average, only 1 needs to be calculated\n"
     ]
    },
    {
     "name": "stdout",
     "output_type": "stream",
     "text": [
      "\n"
     ]
    },
    {
     "name": "stderr",
     "output_type": "stream",
     "text": [
      "GLCM is symmetrical, therefore Sum Average = 2 * Joint Average, only 1 needs to be calculated\n"
     ]
    },
    {
     "name": "stdout",
     "output_type": "stream",
     "text": [
      "\n"
     ]
    },
    {
     "name": "stderr",
     "output_type": "stream",
     "text": [
      "GLCM is symmetrical, therefore Sum Average = 2 * Joint Average, only 1 needs to be calculated\n"
     ]
    },
    {
     "name": "stdout",
     "output_type": "stream",
     "text": [
      "\n"
     ]
    },
    {
     "name": "stderr",
     "output_type": "stream",
     "text": [
      "GLCM is symmetrical, therefore Sum Average = 2 * Joint Average, only 1 needs to be calculated\n"
     ]
    },
    {
     "name": "stdout",
     "output_type": "stream",
     "text": [
      "\n"
     ]
    },
    {
     "name": "stderr",
     "output_type": "stream",
     "text": [
      "GLCM is symmetrical, therefore Sum Average = 2 * Joint Average, only 1 needs to be calculated\n"
     ]
    },
    {
     "name": "stdout",
     "output_type": "stream",
     "text": [
      "\n"
     ]
    },
    {
     "name": "stderr",
     "output_type": "stream",
     "text": [
      "GLCM is symmetrical, therefore Sum Average = 2 * Joint Average, only 1 needs to be calculated\n"
     ]
    },
    {
     "name": "stdout",
     "output_type": "stream",
     "text": [
      "\n"
     ]
    },
    {
     "name": "stderr",
     "output_type": "stream",
     "text": [
      "GLCM is symmetrical, therefore Sum Average = 2 * Joint Average, only 1 needs to be calculated\n"
     ]
    },
    {
     "name": "stdout",
     "output_type": "stream",
     "text": [
      "\n"
     ]
    },
    {
     "name": "stderr",
     "output_type": "stream",
     "text": [
      "GLCM is symmetrical, therefore Sum Average = 2 * Joint Average, only 1 needs to be calculated\n"
     ]
    },
    {
     "name": "stdout",
     "output_type": "stream",
     "text": [
      "\n"
     ]
    },
    {
     "name": "stderr",
     "output_type": "stream",
     "text": [
      "GLCM is symmetrical, therefore Sum Average = 2 * Joint Average, only 1 needs to be calculated\n"
     ]
    },
    {
     "name": "stdout",
     "output_type": "stream",
     "text": [
      "\n"
     ]
    },
    {
     "name": "stderr",
     "output_type": "stream",
     "text": [
      "GLCM is symmetrical, therefore Sum Average = 2 * Joint Average, only 1 needs to be calculated\n"
     ]
    },
    {
     "name": "stdout",
     "output_type": "stream",
     "text": [
      "\n"
     ]
    },
    {
     "name": "stderr",
     "output_type": "stream",
     "text": [
      "GLCM is symmetrical, therefore Sum Average = 2 * Joint Average, only 1 needs to be calculated\n"
     ]
    },
    {
     "name": "stdout",
     "output_type": "stream",
     "text": [
      "\n"
     ]
    },
    {
     "name": "stderr",
     "output_type": "stream",
     "text": [
      "GLCM is symmetrical, therefore Sum Average = 2 * Joint Average, only 1 needs to be calculated\n"
     ]
    },
    {
     "name": "stdout",
     "output_type": "stream",
     "text": [
      "\n"
     ]
    },
    {
     "name": "stderr",
     "output_type": "stream",
     "text": [
      "GLCM is symmetrical, therefore Sum Average = 2 * Joint Average, only 1 needs to be calculated\n"
     ]
    },
    {
     "name": "stdout",
     "output_type": "stream",
     "text": [
      "\n"
     ]
    },
    {
     "name": "stderr",
     "output_type": "stream",
     "text": [
      "GLCM is symmetrical, therefore Sum Average = 2 * Joint Average, only 1 needs to be calculated\n"
     ]
    },
    {
     "name": "stdout",
     "output_type": "stream",
     "text": [
      "\n"
     ]
    },
    {
     "name": "stderr",
     "output_type": "stream",
     "text": [
      "GLCM is symmetrical, therefore Sum Average = 2 * Joint Average, only 1 needs to be calculated\n"
     ]
    },
    {
     "name": "stdout",
     "output_type": "stream",
     "text": [
      "\n"
     ]
    },
    {
     "name": "stderr",
     "output_type": "stream",
     "text": [
      "GLCM is symmetrical, therefore Sum Average = 2 * Joint Average, only 1 needs to be calculated\n"
     ]
    },
    {
     "name": "stdout",
     "output_type": "stream",
     "text": [
      "\n"
     ]
    },
    {
     "name": "stderr",
     "output_type": "stream",
     "text": [
      "GLCM is symmetrical, therefore Sum Average = 2 * Joint Average, only 1 needs to be calculated\n"
     ]
    },
    {
     "name": "stdout",
     "output_type": "stream",
     "text": [
      "\n"
     ]
    },
    {
     "name": "stderr",
     "output_type": "stream",
     "text": [
      "GLCM is symmetrical, therefore Sum Average = 2 * Joint Average, only 1 needs to be calculated\n"
     ]
    },
    {
     "name": "stdout",
     "output_type": "stream",
     "text": [
      "\n"
     ]
    },
    {
     "name": "stderr",
     "output_type": "stream",
     "text": [
      "GLCM is symmetrical, therefore Sum Average = 2 * Joint Average, only 1 needs to be calculated\n"
     ]
    },
    {
     "name": "stdout",
     "output_type": "stream",
     "text": [
      "\n"
     ]
    },
    {
     "name": "stderr",
     "output_type": "stream",
     "text": [
      "GLCM is symmetrical, therefore Sum Average = 2 * Joint Average, only 1 needs to be calculated\n"
     ]
    },
    {
     "name": "stdout",
     "output_type": "stream",
     "text": [
      "\n"
     ]
    },
    {
     "name": "stderr",
     "output_type": "stream",
     "text": [
      "GLCM is symmetrical, therefore Sum Average = 2 * Joint Average, only 1 needs to be calculated\n"
     ]
    },
    {
     "name": "stdout",
     "output_type": "stream",
     "text": [
      "\n"
     ]
    },
    {
     "name": "stderr",
     "output_type": "stream",
     "text": [
      "GLCM is symmetrical, therefore Sum Average = 2 * Joint Average, only 1 needs to be calculated\n"
     ]
    },
    {
     "name": "stdout",
     "output_type": "stream",
     "text": [
      "\n"
     ]
    },
    {
     "name": "stderr",
     "output_type": "stream",
     "text": [
      "GLCM is symmetrical, therefore Sum Average = 2 * Joint Average, only 1 needs to be calculated\n"
     ]
    },
    {
     "name": "stdout",
     "output_type": "stream",
     "text": [
      "\n"
     ]
    },
    {
     "name": "stderr",
     "output_type": "stream",
     "text": [
      "GLCM is symmetrical, therefore Sum Average = 2 * Joint Average, only 1 needs to be calculated\n"
     ]
    },
    {
     "name": "stdout",
     "output_type": "stream",
     "text": [
      "\n"
     ]
    },
    {
     "name": "stderr",
     "output_type": "stream",
     "text": [
      "GLCM is symmetrical, therefore Sum Average = 2 * Joint Average, only 1 needs to be calculated\n"
     ]
    },
    {
     "name": "stdout",
     "output_type": "stream",
     "text": [
      "\n"
     ]
    },
    {
     "name": "stderr",
     "output_type": "stream",
     "text": [
      "GLCM is symmetrical, therefore Sum Average = 2 * Joint Average, only 1 needs to be calculated\n"
     ]
    },
    {
     "name": "stdout",
     "output_type": "stream",
     "text": [
      "\n"
     ]
    },
    {
     "name": "stderr",
     "output_type": "stream",
     "text": [
      "GLCM is symmetrical, therefore Sum Average = 2 * Joint Average, only 1 needs to be calculated\n"
     ]
    },
    {
     "name": "stdout",
     "output_type": "stream",
     "text": [
      "\n"
     ]
    },
    {
     "name": "stderr",
     "output_type": "stream",
     "text": [
      "GLCM is symmetrical, therefore Sum Average = 2 * Joint Average, only 1 needs to be calculated\n"
     ]
    },
    {
     "name": "stdout",
     "output_type": "stream",
     "text": [
      "\n"
     ]
    },
    {
     "name": "stderr",
     "output_type": "stream",
     "text": [
      "GLCM is symmetrical, therefore Sum Average = 2 * Joint Average, only 1 needs to be calculated\n"
     ]
    },
    {
     "name": "stdout",
     "output_type": "stream",
     "text": [
      "\n"
     ]
    },
    {
     "name": "stderr",
     "output_type": "stream",
     "text": [
      "GLCM is symmetrical, therefore Sum Average = 2 * Joint Average, only 1 needs to be calculated\n"
     ]
    },
    {
     "name": "stdout",
     "output_type": "stream",
     "text": [
      "\n"
     ]
    },
    {
     "name": "stderr",
     "output_type": "stream",
     "text": [
      "GLCM is symmetrical, therefore Sum Average = 2 * Joint Average, only 1 needs to be calculated\n"
     ]
    },
    {
     "name": "stdout",
     "output_type": "stream",
     "text": [
      "\n"
     ]
    },
    {
     "name": "stderr",
     "output_type": "stream",
     "text": [
      "GLCM is symmetrical, therefore Sum Average = 2 * Joint Average, only 1 needs to be calculated\n"
     ]
    },
    {
     "name": "stdout",
     "output_type": "stream",
     "text": [
      "\n"
     ]
    },
    {
     "name": "stderr",
     "output_type": "stream",
     "text": [
      "GLCM is symmetrical, therefore Sum Average = 2 * Joint Average, only 1 needs to be calculated\n"
     ]
    },
    {
     "name": "stdout",
     "output_type": "stream",
     "text": [
      "\n"
     ]
    },
    {
     "name": "stderr",
     "output_type": "stream",
     "text": [
      "GLCM is symmetrical, therefore Sum Average = 2 * Joint Average, only 1 needs to be calculated\n"
     ]
    },
    {
     "name": "stdout",
     "output_type": "stream",
     "text": [
      "\n"
     ]
    },
    {
     "name": "stderr",
     "output_type": "stream",
     "text": [
      "GLCM is symmetrical, therefore Sum Average = 2 * Joint Average, only 1 needs to be calculated\n"
     ]
    },
    {
     "name": "stdout",
     "output_type": "stream",
     "text": [
      "\n"
     ]
    },
    {
     "name": "stderr",
     "output_type": "stream",
     "text": [
      "GLCM is symmetrical, therefore Sum Average = 2 * Joint Average, only 1 needs to be calculated\n"
     ]
    },
    {
     "name": "stdout",
     "output_type": "stream",
     "text": [
      "\n"
     ]
    },
    {
     "name": "stderr",
     "output_type": "stream",
     "text": [
      "GLCM is symmetrical, therefore Sum Average = 2 * Joint Average, only 1 needs to be calculated\n"
     ]
    },
    {
     "name": "stdout",
     "output_type": "stream",
     "text": [
      "\n"
     ]
    },
    {
     "name": "stderr",
     "output_type": "stream",
     "text": [
      "GLCM is symmetrical, therefore Sum Average = 2 * Joint Average, only 1 needs to be calculated\n"
     ]
    },
    {
     "name": "stdout",
     "output_type": "stream",
     "text": [
      "\n"
     ]
    },
    {
     "name": "stderr",
     "output_type": "stream",
     "text": [
      "GLCM is symmetrical, therefore Sum Average = 2 * Joint Average, only 1 needs to be calculated\n"
     ]
    },
    {
     "name": "stdout",
     "output_type": "stream",
     "text": [
      "\n"
     ]
    },
    {
     "name": "stderr",
     "output_type": "stream",
     "text": [
      "GLCM is symmetrical, therefore Sum Average = 2 * Joint Average, only 1 needs to be calculated\n"
     ]
    },
    {
     "name": "stdout",
     "output_type": "stream",
     "text": [
      "\n"
     ]
    },
    {
     "name": "stderr",
     "output_type": "stream",
     "text": [
      "GLCM is symmetrical, therefore Sum Average = 2 * Joint Average, only 1 needs to be calculated\n"
     ]
    },
    {
     "name": "stdout",
     "output_type": "stream",
     "text": [
      "\n"
     ]
    },
    {
     "name": "stderr",
     "output_type": "stream",
     "text": [
      "GLCM is symmetrical, therefore Sum Average = 2 * Joint Average, only 1 needs to be calculated\n"
     ]
    },
    {
     "name": "stdout",
     "output_type": "stream",
     "text": [
      "\n"
     ]
    },
    {
     "name": "stderr",
     "output_type": "stream",
     "text": [
      "GLCM is symmetrical, therefore Sum Average = 2 * Joint Average, only 1 needs to be calculated\n"
     ]
    },
    {
     "name": "stdout",
     "output_type": "stream",
     "text": [
      "\n"
     ]
    },
    {
     "name": "stderr",
     "output_type": "stream",
     "text": [
      "GLCM is symmetrical, therefore Sum Average = 2 * Joint Average, only 1 needs to be calculated\n"
     ]
    },
    {
     "name": "stdout",
     "output_type": "stream",
     "text": [
      "\n"
     ]
    },
    {
     "name": "stderr",
     "output_type": "stream",
     "text": [
      "GLCM is symmetrical, therefore Sum Average = 2 * Joint Average, only 1 needs to be calculated\n"
     ]
    },
    {
     "name": "stdout",
     "output_type": "stream",
     "text": [
      "\n"
     ]
    },
    {
     "name": "stderr",
     "output_type": "stream",
     "text": [
      "GLCM is symmetrical, therefore Sum Average = 2 * Joint Average, only 1 needs to be calculated\n"
     ]
    },
    {
     "name": "stdout",
     "output_type": "stream",
     "text": [
      "\n"
     ]
    },
    {
     "name": "stderr",
     "output_type": "stream",
     "text": [
      "GLCM is symmetrical, therefore Sum Average = 2 * Joint Average, only 1 needs to be calculated\n"
     ]
    },
    {
     "name": "stdout",
     "output_type": "stream",
     "text": [
      "\n"
     ]
    },
    {
     "name": "stderr",
     "output_type": "stream",
     "text": [
      "GLCM is symmetrical, therefore Sum Average = 2 * Joint Average, only 1 needs to be calculated\n"
     ]
    },
    {
     "name": "stdout",
     "output_type": "stream",
     "text": [
      "\n"
     ]
    },
    {
     "name": "stderr",
     "output_type": "stream",
     "text": [
      "GLCM is symmetrical, therefore Sum Average = 2 * Joint Average, only 1 needs to be calculated\n"
     ]
    },
    {
     "name": "stdout",
     "output_type": "stream",
     "text": [
      "\n"
     ]
    },
    {
     "name": "stderr",
     "output_type": "stream",
     "text": [
      "GLCM is symmetrical, therefore Sum Average = 2 * Joint Average, only 1 needs to be calculated\n"
     ]
    },
    {
     "name": "stdout",
     "output_type": "stream",
     "text": [
      "\n"
     ]
    },
    {
     "name": "stderr",
     "output_type": "stream",
     "text": [
      "GLCM is symmetrical, therefore Sum Average = 2 * Joint Average, only 1 needs to be calculated\n"
     ]
    },
    {
     "name": "stdout",
     "output_type": "stream",
     "text": [
      "\n"
     ]
    },
    {
     "name": "stderr",
     "output_type": "stream",
     "text": [
      "GLCM is symmetrical, therefore Sum Average = 2 * Joint Average, only 1 needs to be calculated\n"
     ]
    },
    {
     "name": "stdout",
     "output_type": "stream",
     "text": [
      "\n"
     ]
    },
    {
     "name": "stderr",
     "output_type": "stream",
     "text": [
      "GLCM is symmetrical, therefore Sum Average = 2 * Joint Average, only 1 needs to be calculated\n"
     ]
    },
    {
     "name": "stdout",
     "output_type": "stream",
     "text": [
      "\n",
      "Extraction complete!\n"
     ]
    }
   ],
   "source": [
    "feature_space = {}\n",
    "firstIteration = True\n",
    "for img in liver_images:\n",
    "    \n",
    "    # specify image path\n",
    "    if '40dose' in img:\n",
    "        imagePath = path + '/Images/Liver/Liver_40dose/' + img\n",
    "    elif '60dose' in img:\n",
    "        imagePath = path + '/Images/Liver/Liver_60dose/' + img\n",
    "    else:\n",
    "        imagePath = path + '/Images/Liver/Liver_100dose/' + img\n",
    "\n",
    "    # specify mask path\n",
    "    msk = ''\n",
    "    if 'FBP' in img:\n",
    "        if '0-6mm' in img:\n",
    "            msk = 'Liver313-13_FBP_0-6mm.nii'\n",
    "        elif '1-5mm' in img:\n",
    "            msk = 'Liver313-13_FBP_1-5mm.nii'\n",
    "        else:\n",
    "            msk = 'Liver313-13_FBP_3mm.nii'\n",
    "    else:\n",
    "        if '0-6mm' in img:\n",
    "            msk = 'Liver313-13_Safire_0-6mm.nii'\n",
    "        elif '1-5mm' in img:\n",
    "            msk = 'Liver313-13_Safire_1-5mm.nii'\n",
    "        else:\n",
    "            msk = 'Liver313-13_Safire_3mm.nii'\n",
    "    maskPath = maskPath_primer + '/Liver313-13/' + msk\n",
    "            \n",
    "\n",
    "    # status\n",
    "    #print('Processing...\\timg\\t\\t\\t\\t\\tmsk')\n",
    "    #print(imagePath + '\\n' + maskPath)\n",
    "    #print('\\t\\t' + img + '\\t' + msk)\n",
    "    print()\n",
    "\n",
    "    # feature extraction\n",
    "    result = extractor.execute(imagePath, maskPath)\n",
    "\n",
    "    if firstIteration:\n",
    "        features = list(result.keys())[22:] # '0:21' diagnostic features, '22:' radiomic features\n",
    "        firstIteration = False\n",
    "\n",
    "    feature_space_element = {}\n",
    "    for key, value in six.iteritems(result):\n",
    "        if key in features:\n",
    "            feature_space_element[key] = value\n",
    "    feature_space[img[:-4]] = feature_space_element # 'img[:-4]' removes '.nii'\n",
    "\n",
    "    # break # comment for 1 iteration (debugging)\n",
    "\n",
    "print('\\nExtraction complete!')"
   ]
  },
  {
   "cell_type": "code",
   "execution_count": 19,
   "id": "56091ca5-9ec1-40e4-b6e4-2f355bf3d36f",
   "metadata": {},
   "outputs": [
    {
     "data": {
      "text/html": [
       "<div>\n",
       "<style scoped>\n",
       "    .dataframe tbody tr th:only-of-type {\n",
       "        vertical-align: middle;\n",
       "    }\n",
       "\n",
       "    .dataframe tbody tr th {\n",
       "        vertical-align: top;\n",
       "    }\n",
       "\n",
       "    .dataframe thead th {\n",
       "        text-align: right;\n",
       "    }\n",
       "</style>\n",
       "<table border=\"1\" class=\"dataframe\">\n",
       "  <thead>\n",
       "    <tr style=\"text-align: right;\">\n",
       "      <th></th>\n",
       "      <th>original_shape_Elongation</th>\n",
       "      <th>original_shape_Flatness</th>\n",
       "      <th>original_shape_LeastAxisLength</th>\n",
       "      <th>original_shape_MajorAxisLength</th>\n",
       "      <th>original_shape_Maximum2DDiameterColumn</th>\n",
       "      <th>original_shape_Maximum2DDiameterRow</th>\n",
       "      <th>original_shape_Maximum2DDiameterSlice</th>\n",
       "      <th>original_shape_Maximum3DDiameter</th>\n",
       "      <th>original_shape_MeshVolume</th>\n",
       "      <th>original_shape_MinorAxisLength</th>\n",
       "      <th>...</th>\n",
       "      <th>original_glszm_SmallAreaHighGrayLevelEmphasis</th>\n",
       "      <th>original_glszm_SmallAreaLowGrayLevelEmphasis</th>\n",
       "      <th>original_glszm_ZoneEntropy</th>\n",
       "      <th>original_glszm_ZonePercentage</th>\n",
       "      <th>original_glszm_ZoneVariance</th>\n",
       "      <th>original_ngtdm_Busyness</th>\n",
       "      <th>original_ngtdm_Coarseness</th>\n",
       "      <th>original_ngtdm_Complexity</th>\n",
       "      <th>original_ngtdm_Contrast</th>\n",
       "      <th>original_ngtdm_Strength</th>\n",
       "    </tr>\n",
       "  </thead>\n",
       "  <tbody>\n",
       "    <tr>\n",
       "      <th>Liver_40dose_100kVp_1FBP_0-6mm</th>\n",
       "      <td>0.592752</td>\n",
       "      <td>0.570636</td>\n",
       "      <td>11.281685</td>\n",
       "      <td>19.770359</td>\n",
       "      <td>19.80573721376032</td>\n",
       "      <td>21.144728633080724</td>\n",
       "      <td>15.799908717410858</td>\n",
       "      <td>21.991328191844815</td>\n",
       "      <td>786.0923806191422</td>\n",
       "      <td>11.718924</td>\n",
       "      <td>...</td>\n",
       "      <td>44.07842457789563</td>\n",
       "      <td>0.016333236530957095</td>\n",
       "      <td>5.486584363299595</td>\n",
       "      <td>0.3195503813729426</td>\n",
       "      <td>103.94431169667433</td>\n",
       "      <td>2.4545110376242163</td>\n",
       "      <td>0.0029471421494278458</td>\n",
       "      <td>124.49780153510189</td>\n",
       "      <td>0.06051804765783879</td>\n",
       "      <td>0.20892781435037192</td>\n",
       "    </tr>\n",
       "    <tr>\n",
       "      <th>Liver_40dose_100kVp_1FBP_3mm</th>\n",
       "      <td>0.561618</td>\n",
       "      <td>0.538224</td>\n",
       "      <td>9.853682</td>\n",
       "      <td>18.307759</td>\n",
       "      <td>19.747206478291787</td>\n",
       "      <td>19.747206478291787</td>\n",
       "      <td>12.108712809515316</td>\n",
       "      <td>20.331987346854618</td>\n",
       "      <td>960.7349796295166</td>\n",
       "      <td>10.281969</td>\n",
       "      <td>...</td>\n",
       "      <td>10.671665489210193</td>\n",
       "      <td>0.07742883856020177</td>\n",
       "      <td>4.347481408894585</td>\n",
       "      <td>0.09375</td>\n",
       "      <td>1387.3099415204679</td>\n",
       "      <td>1.7355463369810014</td>\n",
       "      <td>0.01300764752719616</td>\n",
       "      <td>15.365006779362638</td>\n",
       "      <td>0.02170042506096061</td>\n",
       "      <td>0.28621372222570385</td>\n",
       "    </tr>\n",
       "    <tr>\n",
       "      <th>Liver_40dose_120kVp_2FBP_0-6mm</th>\n",
       "      <td>0.592752</td>\n",
       "      <td>0.570636</td>\n",
       "      <td>11.281685</td>\n",
       "      <td>19.770359</td>\n",
       "      <td>19.80573721376032</td>\n",
       "      <td>21.144728633080724</td>\n",
       "      <td>15.799908717410858</td>\n",
       "      <td>21.991328191844815</td>\n",
       "      <td>786.0923806191422</td>\n",
       "      <td>11.718924</td>\n",
       "      <td>...</td>\n",
       "      <td>37.70611118587126</td>\n",
       "      <td>0.02320778387006198</td>\n",
       "      <td>5.37318055354771</td>\n",
       "      <td>0.28823765556001607</td>\n",
       "      <td>168.33262660904245</td>\n",
       "      <td>2.576429448383166</td>\n",
       "      <td>0.002923445579609412</td>\n",
       "      <td>116.05383942154533</td>\n",
       "      <td>0.04834620206188198</td>\n",
       "      <td>0.22391944256664612</td>\n",
       "    </tr>\n",
       "    <tr>\n",
       "      <th>Liver_40dose_100kVp_1Safire_0-6mm</th>\n",
       "      <td>0.513163</td>\n",
       "      <td>0.480022</td>\n",
       "      <td>9.740741</td>\n",
       "      <td>20.292269</td>\n",
       "      <td>20.570693241801628</td>\n",
       "      <td>21.943762252990123</td>\n",
       "      <td>13.73282507786146</td>\n",
       "      <td>22.76066054600698</td>\n",
       "      <td>761.3055611706222</td>\n",
       "      <td>10.413243</td>\n",
       "      <td>...</td>\n",
       "      <td>24.26498797343565</td>\n",
       "      <td>0.028319043003511055</td>\n",
       "      <td>5.390439397614858</td>\n",
       "      <td>0.19884249689954528</td>\n",
       "      <td>656.3983212382382</td>\n",
       "      <td>3.899513449594636</td>\n",
       "      <td>0.0031137503560768444</td>\n",
       "      <td>44.38582604619546</td>\n",
       "      <td>0.037208573533832105</td>\n",
       "      <td>0.12891369741136655</td>\n",
       "    </tr>\n",
       "    <tr>\n",
       "      <th>Liver_40dose_120kVp_1Safire_0-6mm</th>\n",
       "      <td>0.513163</td>\n",
       "      <td>0.480022</td>\n",
       "      <td>9.740741</td>\n",
       "      <td>20.292269</td>\n",
       "      <td>20.570693241801628</td>\n",
       "      <td>21.943762252990123</td>\n",
       "      <td>13.73282507786146</td>\n",
       "      <td>22.76066054600698</td>\n",
       "      <td>761.3055611706222</td>\n",
       "      <td>10.413243</td>\n",
       "      <td>...</td>\n",
       "      <td>20.469744512058348</td>\n",
       "      <td>0.03237350547616874</td>\n",
       "      <td>5.191518566056391</td>\n",
       "      <td>0.15998346424142207</td>\n",
       "      <td>1233.3712851124064</td>\n",
       "      <td>4.863846876248818</td>\n",
       "      <td>0.0030946994518156</td>\n",
       "      <td>32.390472219905384</td>\n",
       "      <td>0.02994364922995385</td>\n",
       "      <td>0.10748283193587213</td>\n",
       "    </tr>\n",
       "    <tr>\n",
       "      <th>...</th>\n",
       "      <td>...</td>\n",
       "      <td>...</td>\n",
       "      <td>...</td>\n",
       "      <td>...</td>\n",
       "      <td>...</td>\n",
       "      <td>...</td>\n",
       "      <td>...</td>\n",
       "      <td>...</td>\n",
       "      <td>...</td>\n",
       "      <td>...</td>\n",
       "      <td>...</td>\n",
       "      <td>...</td>\n",
       "      <td>...</td>\n",
       "      <td>...</td>\n",
       "      <td>...</td>\n",
       "      <td>...</td>\n",
       "      <td>...</td>\n",
       "      <td>...</td>\n",
       "      <td>...</td>\n",
       "      <td>...</td>\n",
       "      <td>...</td>\n",
       "    </tr>\n",
       "    <tr>\n",
       "      <th>Liver_100dose_100kVp_1Safire_0-6mm</th>\n",
       "      <td>0.513163</td>\n",
       "      <td>0.480022</td>\n",
       "      <td>9.740741</td>\n",
       "      <td>20.292269</td>\n",
       "      <td>20.570693241801628</td>\n",
       "      <td>21.943762252990123</td>\n",
       "      <td>13.73282507786146</td>\n",
       "      <td>22.76066054600698</td>\n",
       "      <td>761.3055611706222</td>\n",
       "      <td>10.413243</td>\n",
       "      <td>...</td>\n",
       "      <td>14.357442911586082</td>\n",
       "      <td>0.029640013351475036</td>\n",
       "      <td>5.111736836656517</td>\n",
       "      <td>0.11368334022323275</td>\n",
       "      <td>2561.0639867768596</td>\n",
       "      <td>5.3494930247026575</td>\n",
       "      <td>0.003057171718632337</td>\n",
       "      <td>22.0751891900915</td>\n",
       "      <td>0.020372127011935165</td>\n",
       "      <td>0.09551148086375538</td>\n",
       "    </tr>\n",
       "    <tr>\n",
       "      <th>Liver_100dose_100kVp_2FBP_3mm</th>\n",
       "      <td>0.561618</td>\n",
       "      <td>0.538224</td>\n",
       "      <td>9.853682</td>\n",
       "      <td>18.307759</td>\n",
       "      <td>19.747206478291787</td>\n",
       "      <td>19.747206478291787</td>\n",
       "      <td>12.108712809515316</td>\n",
       "      <td>20.331987346854618</td>\n",
       "      <td>960.7349796295166</td>\n",
       "      <td>10.281969</td>\n",
       "      <td>...</td>\n",
       "      <td>3.9988689781465325</td>\n",
       "      <td>0.11139547751818366</td>\n",
       "      <td>4.263933429485627</td>\n",
       "      <td>0.05592105263157895</td>\n",
       "      <td>2861.2802768166093</td>\n",
       "      <td>4.90240348813674</td>\n",
       "      <td>0.012206771602919154</td>\n",
       "      <td>4.592366945720278</td>\n",
       "      <td>0.03232270935173651</td>\n",
       "      <td>0.09900428276713702</td>\n",
       "    </tr>\n",
       "    <tr>\n",
       "      <th>Liver_100dose_120kVp_2FBP_0-6mm</th>\n",
       "      <td>0.592752</td>\n",
       "      <td>0.570636</td>\n",
       "      <td>11.281685</td>\n",
       "      <td>19.770359</td>\n",
       "      <td>19.80573721376032</td>\n",
       "      <td>21.144728633080724</td>\n",
       "      <td>15.799908717410858</td>\n",
       "      <td>21.991328191844815</td>\n",
       "      <td>786.0923806191422</td>\n",
       "      <td>11.718924</td>\n",
       "      <td>...</td>\n",
       "      <td>26.60555674740076</td>\n",
       "      <td>0.02223838801016271</td>\n",
       "      <td>5.362547662680108</td>\n",
       "      <td>0.19148936170212766</td>\n",
       "      <td>462.85208478919174</td>\n",
       "      <td>3.456131261781995</td>\n",
       "      <td>0.0030195484107072533</td>\n",
       "      <td>54.65355879363758</td>\n",
       "      <td>0.03174341791528457</td>\n",
       "      <td>0.15536642955220073</td>\n",
       "    </tr>\n",
       "    <tr>\n",
       "      <th>Liver_100dose_120kVp_1Safire_0-6mm</th>\n",
       "      <td>0.513163</td>\n",
       "      <td>0.480022</td>\n",
       "      <td>9.740741</td>\n",
       "      <td>20.292269</td>\n",
       "      <td>20.570693241801628</td>\n",
       "      <td>21.943762252990123</td>\n",
       "      <td>13.73282507786146</td>\n",
       "      <td>22.76066054600698</td>\n",
       "      <td>761.3055611706222</td>\n",
       "      <td>10.413243</td>\n",
       "      <td>...</td>\n",
       "      <td>11.63248831105846</td>\n",
       "      <td>0.04388370730374051</td>\n",
       "      <td>5.063255962806261</td>\n",
       "      <td>0.10376188507647788</td>\n",
       "      <td>3277.705211028397</td>\n",
       "      <td>7.353653161796233</td>\n",
       "      <td>0.0031555373593436784</td>\n",
       "      <td>16.223209873280407</td>\n",
       "      <td>0.024250546610167116</td>\n",
       "      <td>0.07091008729499676</td>\n",
       "    </tr>\n",
       "    <tr>\n",
       "      <th>Liver_100dose_100kVp_1FBP_0-6mm</th>\n",
       "      <td>0.592752</td>\n",
       "      <td>0.570636</td>\n",
       "      <td>11.281685</td>\n",
       "      <td>19.770359</td>\n",
       "      <td>19.80573721376032</td>\n",
       "      <td>21.144728633080724</td>\n",
       "      <td>15.799908717410858</td>\n",
       "      <td>21.991328191844815</td>\n",
       "      <td>786.0923806191422</td>\n",
       "      <td>11.718924</td>\n",
       "      <td>...</td>\n",
       "      <td>23.15452641983257</td>\n",
       "      <td>0.026488435005369567</td>\n",
       "      <td>5.325862995477062</td>\n",
       "      <td>0.20032115616218385</td>\n",
       "      <td>501.7714788294022</td>\n",
       "      <td>4.357812597083331</td>\n",
       "      <td>0.0028839252417391776</td>\n",
       "      <td>46.71689349932078</td>\n",
       "      <td>0.03831293375980407</td>\n",
       "      <td>0.11809417485910909</td>\n",
       "    </tr>\n",
       "  </tbody>\n",
       "</table>\n",
       "<p>72 rows × 107 columns</p>\n",
       "</div>"
      ],
      "text/plain": [
       "                                   original_shape_Elongation  \\\n",
       "Liver_40dose_100kVp_1FBP_0-6mm                      0.592752   \n",
       "Liver_40dose_100kVp_1FBP_3mm                        0.561618   \n",
       "Liver_40dose_120kVp_2FBP_0-6mm                      0.592752   \n",
       "Liver_40dose_100kVp_1Safire_0-6mm                   0.513163   \n",
       "Liver_40dose_120kVp_1Safire_0-6mm                   0.513163   \n",
       "...                                                      ...   \n",
       "Liver_100dose_100kVp_1Safire_0-6mm                  0.513163   \n",
       "Liver_100dose_100kVp_2FBP_3mm                       0.561618   \n",
       "Liver_100dose_120kVp_2FBP_0-6mm                     0.592752   \n",
       "Liver_100dose_120kVp_1Safire_0-6mm                  0.513163   \n",
       "Liver_100dose_100kVp_1FBP_0-6mm                     0.592752   \n",
       "\n",
       "                                   original_shape_Flatness  \\\n",
       "Liver_40dose_100kVp_1FBP_0-6mm                    0.570636   \n",
       "Liver_40dose_100kVp_1FBP_3mm                      0.538224   \n",
       "Liver_40dose_120kVp_2FBP_0-6mm                    0.570636   \n",
       "Liver_40dose_100kVp_1Safire_0-6mm                 0.480022   \n",
       "Liver_40dose_120kVp_1Safire_0-6mm                 0.480022   \n",
       "...                                                    ...   \n",
       "Liver_100dose_100kVp_1Safire_0-6mm                0.480022   \n",
       "Liver_100dose_100kVp_2FBP_3mm                     0.538224   \n",
       "Liver_100dose_120kVp_2FBP_0-6mm                   0.570636   \n",
       "Liver_100dose_120kVp_1Safire_0-6mm                0.480022   \n",
       "Liver_100dose_100kVp_1FBP_0-6mm                   0.570636   \n",
       "\n",
       "                                   original_shape_LeastAxisLength  \\\n",
       "Liver_40dose_100kVp_1FBP_0-6mm                          11.281685   \n",
       "Liver_40dose_100kVp_1FBP_3mm                             9.853682   \n",
       "Liver_40dose_120kVp_2FBP_0-6mm                          11.281685   \n",
       "Liver_40dose_100kVp_1Safire_0-6mm                        9.740741   \n",
       "Liver_40dose_120kVp_1Safire_0-6mm                        9.740741   \n",
       "...                                                           ...   \n",
       "Liver_100dose_100kVp_1Safire_0-6mm                       9.740741   \n",
       "Liver_100dose_100kVp_2FBP_3mm                            9.853682   \n",
       "Liver_100dose_120kVp_2FBP_0-6mm                         11.281685   \n",
       "Liver_100dose_120kVp_1Safire_0-6mm                       9.740741   \n",
       "Liver_100dose_100kVp_1FBP_0-6mm                         11.281685   \n",
       "\n",
       "                                   original_shape_MajorAxisLength  \\\n",
       "Liver_40dose_100kVp_1FBP_0-6mm                          19.770359   \n",
       "Liver_40dose_100kVp_1FBP_3mm                            18.307759   \n",
       "Liver_40dose_120kVp_2FBP_0-6mm                          19.770359   \n",
       "Liver_40dose_100kVp_1Safire_0-6mm                       20.292269   \n",
       "Liver_40dose_120kVp_1Safire_0-6mm                       20.292269   \n",
       "...                                                           ...   \n",
       "Liver_100dose_100kVp_1Safire_0-6mm                      20.292269   \n",
       "Liver_100dose_100kVp_2FBP_3mm                           18.307759   \n",
       "Liver_100dose_120kVp_2FBP_0-6mm                         19.770359   \n",
       "Liver_100dose_120kVp_1Safire_0-6mm                      20.292269   \n",
       "Liver_100dose_100kVp_1FBP_0-6mm                         19.770359   \n",
       "\n",
       "                                   original_shape_Maximum2DDiameterColumn  \\\n",
       "Liver_40dose_100kVp_1FBP_0-6mm                          19.80573721376032   \n",
       "Liver_40dose_100kVp_1FBP_3mm                           19.747206478291787   \n",
       "Liver_40dose_120kVp_2FBP_0-6mm                          19.80573721376032   \n",
       "Liver_40dose_100kVp_1Safire_0-6mm                      20.570693241801628   \n",
       "Liver_40dose_120kVp_1Safire_0-6mm                      20.570693241801628   \n",
       "...                                                                   ...   \n",
       "Liver_100dose_100kVp_1Safire_0-6mm                     20.570693241801628   \n",
       "Liver_100dose_100kVp_2FBP_3mm                          19.747206478291787   \n",
       "Liver_100dose_120kVp_2FBP_0-6mm                         19.80573721376032   \n",
       "Liver_100dose_120kVp_1Safire_0-6mm                     20.570693241801628   \n",
       "Liver_100dose_100kVp_1FBP_0-6mm                         19.80573721376032   \n",
       "\n",
       "                                   original_shape_Maximum2DDiameterRow  \\\n",
       "Liver_40dose_100kVp_1FBP_0-6mm                      21.144728633080724   \n",
       "Liver_40dose_100kVp_1FBP_3mm                        19.747206478291787   \n",
       "Liver_40dose_120kVp_2FBP_0-6mm                      21.144728633080724   \n",
       "Liver_40dose_100kVp_1Safire_0-6mm                   21.943762252990123   \n",
       "Liver_40dose_120kVp_1Safire_0-6mm                   21.943762252990123   \n",
       "...                                                                ...   \n",
       "Liver_100dose_100kVp_1Safire_0-6mm                  21.943762252990123   \n",
       "Liver_100dose_100kVp_2FBP_3mm                       19.747206478291787   \n",
       "Liver_100dose_120kVp_2FBP_0-6mm                     21.144728633080724   \n",
       "Liver_100dose_120kVp_1Safire_0-6mm                  21.943762252990123   \n",
       "Liver_100dose_100kVp_1FBP_0-6mm                     21.144728633080724   \n",
       "\n",
       "                                   original_shape_Maximum2DDiameterSlice  \\\n",
       "Liver_40dose_100kVp_1FBP_0-6mm                        15.799908717410858   \n",
       "Liver_40dose_100kVp_1FBP_3mm                          12.108712809515316   \n",
       "Liver_40dose_120kVp_2FBP_0-6mm                        15.799908717410858   \n",
       "Liver_40dose_100kVp_1Safire_0-6mm                      13.73282507786146   \n",
       "Liver_40dose_120kVp_1Safire_0-6mm                      13.73282507786146   \n",
       "...                                                                  ...   \n",
       "Liver_100dose_100kVp_1Safire_0-6mm                     13.73282507786146   \n",
       "Liver_100dose_100kVp_2FBP_3mm                         12.108712809515316   \n",
       "Liver_100dose_120kVp_2FBP_0-6mm                       15.799908717410858   \n",
       "Liver_100dose_120kVp_1Safire_0-6mm                     13.73282507786146   \n",
       "Liver_100dose_100kVp_1FBP_0-6mm                       15.799908717410858   \n",
       "\n",
       "                                   original_shape_Maximum3DDiameter  \\\n",
       "Liver_40dose_100kVp_1FBP_0-6mm                   21.991328191844815   \n",
       "Liver_40dose_100kVp_1FBP_3mm                     20.331987346854618   \n",
       "Liver_40dose_120kVp_2FBP_0-6mm                   21.991328191844815   \n",
       "Liver_40dose_100kVp_1Safire_0-6mm                 22.76066054600698   \n",
       "Liver_40dose_120kVp_1Safire_0-6mm                 22.76066054600698   \n",
       "...                                                             ...   \n",
       "Liver_100dose_100kVp_1Safire_0-6mm                22.76066054600698   \n",
       "Liver_100dose_100kVp_2FBP_3mm                    20.331987346854618   \n",
       "Liver_100dose_120kVp_2FBP_0-6mm                  21.991328191844815   \n",
       "Liver_100dose_120kVp_1Safire_0-6mm                22.76066054600698   \n",
       "Liver_100dose_100kVp_1FBP_0-6mm                  21.991328191844815   \n",
       "\n",
       "                                   original_shape_MeshVolume  \\\n",
       "Liver_40dose_100kVp_1FBP_0-6mm             786.0923806191422   \n",
       "Liver_40dose_100kVp_1FBP_3mm               960.7349796295166   \n",
       "Liver_40dose_120kVp_2FBP_0-6mm             786.0923806191422   \n",
       "Liver_40dose_100kVp_1Safire_0-6mm          761.3055611706222   \n",
       "Liver_40dose_120kVp_1Safire_0-6mm          761.3055611706222   \n",
       "...                                                      ...   \n",
       "Liver_100dose_100kVp_1Safire_0-6mm         761.3055611706222   \n",
       "Liver_100dose_100kVp_2FBP_3mm              960.7349796295166   \n",
       "Liver_100dose_120kVp_2FBP_0-6mm            786.0923806191422   \n",
       "Liver_100dose_120kVp_1Safire_0-6mm         761.3055611706222   \n",
       "Liver_100dose_100kVp_1FBP_0-6mm            786.0923806191422   \n",
       "\n",
       "                                   original_shape_MinorAxisLength  ...  \\\n",
       "Liver_40dose_100kVp_1FBP_0-6mm                          11.718924  ...   \n",
       "Liver_40dose_100kVp_1FBP_3mm                            10.281969  ...   \n",
       "Liver_40dose_120kVp_2FBP_0-6mm                          11.718924  ...   \n",
       "Liver_40dose_100kVp_1Safire_0-6mm                       10.413243  ...   \n",
       "Liver_40dose_120kVp_1Safire_0-6mm                       10.413243  ...   \n",
       "...                                                           ...  ...   \n",
       "Liver_100dose_100kVp_1Safire_0-6mm                      10.413243  ...   \n",
       "Liver_100dose_100kVp_2FBP_3mm                           10.281969  ...   \n",
       "Liver_100dose_120kVp_2FBP_0-6mm                         11.718924  ...   \n",
       "Liver_100dose_120kVp_1Safire_0-6mm                      10.413243  ...   \n",
       "Liver_100dose_100kVp_1FBP_0-6mm                         11.718924  ...   \n",
       "\n",
       "                                   original_glszm_SmallAreaHighGrayLevelEmphasis  \\\n",
       "Liver_40dose_100kVp_1FBP_0-6mm                                 44.07842457789563   \n",
       "Liver_40dose_100kVp_1FBP_3mm                                  10.671665489210193   \n",
       "Liver_40dose_120kVp_2FBP_0-6mm                                 37.70611118587126   \n",
       "Liver_40dose_100kVp_1Safire_0-6mm                              24.26498797343565   \n",
       "Liver_40dose_120kVp_1Safire_0-6mm                             20.469744512058348   \n",
       "...                                                                          ...   \n",
       "Liver_100dose_100kVp_1Safire_0-6mm                            14.357442911586082   \n",
       "Liver_100dose_100kVp_2FBP_3mm                                 3.9988689781465325   \n",
       "Liver_100dose_120kVp_2FBP_0-6mm                                26.60555674740076   \n",
       "Liver_100dose_120kVp_1Safire_0-6mm                             11.63248831105846   \n",
       "Liver_100dose_100kVp_1FBP_0-6mm                                23.15452641983257   \n",
       "\n",
       "                                   original_glszm_SmallAreaLowGrayLevelEmphasis  \\\n",
       "Liver_40dose_100kVp_1FBP_0-6mm                             0.016333236530957095   \n",
       "Liver_40dose_100kVp_1FBP_3mm                                0.07742883856020177   \n",
       "Liver_40dose_120kVp_2FBP_0-6mm                              0.02320778387006198   \n",
       "Liver_40dose_100kVp_1Safire_0-6mm                          0.028319043003511055   \n",
       "Liver_40dose_120kVp_1Safire_0-6mm                           0.03237350547616874   \n",
       "...                                                                         ...   \n",
       "Liver_100dose_100kVp_1Safire_0-6mm                         0.029640013351475036   \n",
       "Liver_100dose_100kVp_2FBP_3mm                               0.11139547751818366   \n",
       "Liver_100dose_120kVp_2FBP_0-6mm                             0.02223838801016271   \n",
       "Liver_100dose_120kVp_1Safire_0-6mm                          0.04388370730374051   \n",
       "Liver_100dose_100kVp_1FBP_0-6mm                            0.026488435005369567   \n",
       "\n",
       "                                   original_glszm_ZoneEntropy  \\\n",
       "Liver_40dose_100kVp_1FBP_0-6mm              5.486584363299595   \n",
       "Liver_40dose_100kVp_1FBP_3mm                4.347481408894585   \n",
       "Liver_40dose_120kVp_2FBP_0-6mm               5.37318055354771   \n",
       "Liver_40dose_100kVp_1Safire_0-6mm           5.390439397614858   \n",
       "Liver_40dose_120kVp_1Safire_0-6mm           5.191518566056391   \n",
       "...                                                       ...   \n",
       "Liver_100dose_100kVp_1Safire_0-6mm          5.111736836656517   \n",
       "Liver_100dose_100kVp_2FBP_3mm               4.263933429485627   \n",
       "Liver_100dose_120kVp_2FBP_0-6mm             5.362547662680108   \n",
       "Liver_100dose_120kVp_1Safire_0-6mm          5.063255962806261   \n",
       "Liver_100dose_100kVp_1FBP_0-6mm             5.325862995477062   \n",
       "\n",
       "                                   original_glszm_ZonePercentage  \\\n",
       "Liver_40dose_100kVp_1FBP_0-6mm                0.3195503813729426   \n",
       "Liver_40dose_100kVp_1FBP_3mm                             0.09375   \n",
       "Liver_40dose_120kVp_2FBP_0-6mm               0.28823765556001607   \n",
       "Liver_40dose_100kVp_1Safire_0-6mm            0.19884249689954528   \n",
       "Liver_40dose_120kVp_1Safire_0-6mm            0.15998346424142207   \n",
       "...                                                          ...   \n",
       "Liver_100dose_100kVp_1Safire_0-6mm           0.11368334022323275   \n",
       "Liver_100dose_100kVp_2FBP_3mm                0.05592105263157895   \n",
       "Liver_100dose_120kVp_2FBP_0-6mm              0.19148936170212766   \n",
       "Liver_100dose_120kVp_1Safire_0-6mm           0.10376188507647788   \n",
       "Liver_100dose_100kVp_1FBP_0-6mm              0.20032115616218385   \n",
       "\n",
       "                                   original_glszm_ZoneVariance  \\\n",
       "Liver_40dose_100kVp_1FBP_0-6mm              103.94431169667433   \n",
       "Liver_40dose_100kVp_1FBP_3mm                1387.3099415204679   \n",
       "Liver_40dose_120kVp_2FBP_0-6mm              168.33262660904245   \n",
       "Liver_40dose_100kVp_1Safire_0-6mm            656.3983212382382   \n",
       "Liver_40dose_120kVp_1Safire_0-6mm           1233.3712851124064   \n",
       "...                                                        ...   \n",
       "Liver_100dose_100kVp_1Safire_0-6mm          2561.0639867768596   \n",
       "Liver_100dose_100kVp_2FBP_3mm               2861.2802768166093   \n",
       "Liver_100dose_120kVp_2FBP_0-6mm             462.85208478919174   \n",
       "Liver_100dose_120kVp_1Safire_0-6mm           3277.705211028397   \n",
       "Liver_100dose_100kVp_1FBP_0-6mm              501.7714788294022   \n",
       "\n",
       "                                   original_ngtdm_Busyness  \\\n",
       "Liver_40dose_100kVp_1FBP_0-6mm          2.4545110376242163   \n",
       "Liver_40dose_100kVp_1FBP_3mm            1.7355463369810014   \n",
       "Liver_40dose_120kVp_2FBP_0-6mm           2.576429448383166   \n",
       "Liver_40dose_100kVp_1Safire_0-6mm        3.899513449594636   \n",
       "Liver_40dose_120kVp_1Safire_0-6mm        4.863846876248818   \n",
       "...                                                    ...   \n",
       "Liver_100dose_100kVp_1Safire_0-6mm      5.3494930247026575   \n",
       "Liver_100dose_100kVp_2FBP_3mm             4.90240348813674   \n",
       "Liver_100dose_120kVp_2FBP_0-6mm          3.456131261781995   \n",
       "Liver_100dose_120kVp_1Safire_0-6mm       7.353653161796233   \n",
       "Liver_100dose_100kVp_1FBP_0-6mm          4.357812597083331   \n",
       "\n",
       "                                   original_ngtdm_Coarseness  \\\n",
       "Liver_40dose_100kVp_1FBP_0-6mm         0.0029471421494278458   \n",
       "Liver_40dose_100kVp_1FBP_3mm             0.01300764752719616   \n",
       "Liver_40dose_120kVp_2FBP_0-6mm          0.002923445579609412   \n",
       "Liver_40dose_100kVp_1Safire_0-6mm      0.0031137503560768444   \n",
       "Liver_40dose_120kVp_1Safire_0-6mm         0.0030946994518156   \n",
       "...                                                      ...   \n",
       "Liver_100dose_100kVp_1Safire_0-6mm      0.003057171718632337   \n",
       "Liver_100dose_100kVp_2FBP_3mm           0.012206771602919154   \n",
       "Liver_100dose_120kVp_2FBP_0-6mm        0.0030195484107072533   \n",
       "Liver_100dose_120kVp_1Safire_0-6mm     0.0031555373593436784   \n",
       "Liver_100dose_100kVp_1FBP_0-6mm        0.0028839252417391776   \n",
       "\n",
       "                                   original_ngtdm_Complexity  \\\n",
       "Liver_40dose_100kVp_1FBP_0-6mm            124.49780153510189   \n",
       "Liver_40dose_100kVp_1FBP_3mm              15.365006779362638   \n",
       "Liver_40dose_120kVp_2FBP_0-6mm            116.05383942154533   \n",
       "Liver_40dose_100kVp_1Safire_0-6mm          44.38582604619546   \n",
       "Liver_40dose_120kVp_1Safire_0-6mm         32.390472219905384   \n",
       "...                                                      ...   \n",
       "Liver_100dose_100kVp_1Safire_0-6mm          22.0751891900915   \n",
       "Liver_100dose_100kVp_2FBP_3mm              4.592366945720278   \n",
       "Liver_100dose_120kVp_2FBP_0-6mm            54.65355879363758   \n",
       "Liver_100dose_120kVp_1Safire_0-6mm        16.223209873280407   \n",
       "Liver_100dose_100kVp_1FBP_0-6mm            46.71689349932078   \n",
       "\n",
       "                                   original_ngtdm_Contrast  \\\n",
       "Liver_40dose_100kVp_1FBP_0-6mm         0.06051804765783879   \n",
       "Liver_40dose_100kVp_1FBP_3mm           0.02170042506096061   \n",
       "Liver_40dose_120kVp_2FBP_0-6mm         0.04834620206188198   \n",
       "Liver_40dose_100kVp_1Safire_0-6mm     0.037208573533832105   \n",
       "Liver_40dose_120kVp_1Safire_0-6mm      0.02994364922995385   \n",
       "...                                                    ...   \n",
       "Liver_100dose_100kVp_1Safire_0-6mm    0.020372127011935165   \n",
       "Liver_100dose_100kVp_2FBP_3mm          0.03232270935173651   \n",
       "Liver_100dose_120kVp_2FBP_0-6mm        0.03174341791528457   \n",
       "Liver_100dose_120kVp_1Safire_0-6mm    0.024250546610167116   \n",
       "Liver_100dose_100kVp_1FBP_0-6mm        0.03831293375980407   \n",
       "\n",
       "                                   original_ngtdm_Strength  \n",
       "Liver_40dose_100kVp_1FBP_0-6mm         0.20892781435037192  \n",
       "Liver_40dose_100kVp_1FBP_3mm           0.28621372222570385  \n",
       "Liver_40dose_120kVp_2FBP_0-6mm         0.22391944256664612  \n",
       "Liver_40dose_100kVp_1Safire_0-6mm      0.12891369741136655  \n",
       "Liver_40dose_120kVp_1Safire_0-6mm      0.10748283193587213  \n",
       "...                                                    ...  \n",
       "Liver_100dose_100kVp_1Safire_0-6mm     0.09551148086375538  \n",
       "Liver_100dose_100kVp_2FBP_3mm          0.09900428276713702  \n",
       "Liver_100dose_120kVp_2FBP_0-6mm        0.15536642955220073  \n",
       "Liver_100dose_120kVp_1Safire_0-6mm     0.07091008729499676  \n",
       "Liver_100dose_100kVp_1FBP_0-6mm        0.11809417485910909  \n",
       "\n",
       "[72 rows x 107 columns]"
      ]
     },
     "execution_count": 19,
     "metadata": {},
     "output_type": "execute_result"
    }
   ],
   "source": [
    "df313_13 = pd.DataFrame.from_dict(feature_space).transpose()\n",
    "df313_13"
   ]
  },
  {
   "cell_type": "code",
   "execution_count": 20,
   "id": "951faa16-3064-4a1a-b7f0-dec22bf47473",
   "metadata": {},
   "outputs": [],
   "source": [
    "df313_13.to_csv('Liver313-13.csv')"
   ]
  }
 ],
 "metadata": {
  "kernelspec": {
   "display_name": "Python 3 (ipykernel)",
   "language": "python",
   "name": "python3"
  },
  "language_info": {
   "codemirror_mode": {
    "name": "ipython",
    "version": 3
   },
   "file_extension": ".py",
   "mimetype": "text/x-python",
   "name": "python",
   "nbconvert_exporter": "python",
   "pygments_lexer": "ipython3",
   "version": "3.11.4"
  }
 },
 "nbformat": 4,
 "nbformat_minor": 5
}
