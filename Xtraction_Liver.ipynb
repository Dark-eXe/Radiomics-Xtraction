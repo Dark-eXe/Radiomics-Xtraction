{
 "cells": [
  {
   "cell_type": "markdown",
   "id": "9ebe6b96-5685-4843-bdb6-0483321437cf",
   "metadata": {},
   "source": [
    "# Radiomics Feature Extraction - Liver Phantoms\n",
    "### This notebook performs radiomic feature extraction on liver phantoms.\n",
    "\n",
    "Input: image and mask file paths (ALL .nii files)<br>\n",
    "Output: Liver.csv"
   ]
  },
  {
   "cell_type": "code",
   "execution_count": 1,
   "id": "d352193e-3226-4711-b678-b01a2d5d3d5e",
   "metadata": {},
   "outputs": [],
   "source": [
    "import os\n",
    "import six\n",
    "import pandas as pd\n",
    "import radiomics\n",
    "from radiomics import featureextractor"
   ]
  },
  {
   "cell_type": "code",
   "execution_count": 2,
   "id": "80f8b0d3-9bd7-4842-b299-bfeea4ccfbd0",
   "metadata": {},
   "outputs": [
    {
     "data": {
      "text/plain": [
       "'/Users/andrewturangan/Local/BME 528/Radiomics-Xtraction'"
      ]
     },
     "execution_count": 2,
     "metadata": {},
     "output_type": "execute_result"
    }
   ],
   "source": [
    "path = os.getcwd()\n",
    "path"
   ]
  },
  {
   "cell_type": "markdown",
   "id": "631880cd-ac02-4ded-9c8a-e81cfb10e64d",
   "metadata": {},
   "source": [
    "## Instantiate extractor"
   ]
  },
  {
   "cell_type": "code",
   "execution_count": 3,
   "id": "25b00689-ae2d-4f75-bb50-e9a6569b5553",
   "metadata": {},
   "outputs": [],
   "source": [
    "extractor = featureextractor.RadiomicsFeatureExtractor()\n",
    "\n",
    "#print('Extraction parameters:\\n\\t', extractor.settings)\n",
    "#print('Enabled filters:\\n\\t', extractor.enabledImagetypes)\n",
    "#print('Enabled features:\\n\\t', extractor.enabledFeatures)"
   ]
  },
  {
   "cell_type": "markdown",
   "id": "a791a31d-e66f-4384-b18e-7bddcaa8fe2e",
   "metadata": {},
   "source": [
    "## Variables setup"
   ]
  },
  {
   "cell_type": "code",
   "execution_count": 4,
   "id": "a5923a07-fc94-4eaa-9c88-890a353cf955",
   "metadata": {},
   "outputs": [],
   "source": [
    "imagePath, maskPath = '', ''\n",
    "features, feature_space_element, feature_space = [], {}, {}"
   ]
  },
  {
   "cell_type": "code",
   "execution_count": 6,
   "id": "1625156a-4112-4926-be0a-e560603f54a6",
   "metadata": {},
   "outputs": [],
   "source": [
    "masks = os.listdir(path + '/Liver_masks/')\n",
    "\n",
    "# remove .DS_Store\n",
    "masks.remove('.DS_Store')\n",
    "\n",
    "# masks"
   ]
  },
  {
   "cell_type": "markdown",
   "id": "7592a668-bf37-4344-97c7-619caa248755",
   "metadata": {},
   "source": [
    "## Feature Extraction (by dose)"
   ]
  },
  {
   "cell_type": "markdown",
   "id": "a25961d8-3acb-47ab-9891-cd4b7bd81cad",
   "metadata": {},
   "source": [
    "## 40% dose"
   ]
  },
  {
   "cell_type": "code",
   "execution_count": 42,
   "id": "1b67699d-2350-403c-a503-08d3ae6ee37e",
   "metadata": {},
   "outputs": [],
   "source": [
    "liver_images = os.listdir(path + '/Images/Liver/Liver_40dose/')\n",
    "\n",
    "# remove .DS_Store\n",
    "liver_images.remove('.DS_Store')\n",
    "\n",
    "# liver_images"
   ]
  },
  {
   "cell_type": "code",
   "execution_count": 38,
   "id": "f2d371e0-36a4-4200-8a0a-e33ab731b49a",
   "metadata": {},
   "outputs": [
    {
     "name": "stdout",
     "output_type": "stream",
     "text": [
      "Processing...\timg\t\t\t\t\tmsk\n",
      "\t\tLiver_40dose_100kVp_1FBP_0-6mm.nii\tLiver_100kVp_1FBP_0-6mm.nii\n",
      "\n"
     ]
    },
    {
     "name": "stderr",
     "output_type": "stream",
     "text": [
      "GLCM is symmetrical, therefore Sum Average = 2 * Joint Average, only 1 needs to be calculated\n"
     ]
    },
    {
     "name": "stdout",
     "output_type": "stream",
     "text": [
      "Processing...\timg\t\t\t\t\tmsk\n",
      "\t\tLiver_40dose_100kVp_1FBP_3mm.nii\tLiver_100kVp_1FBP_3mm.nii\n",
      "\n"
     ]
    },
    {
     "name": "stderr",
     "output_type": "stream",
     "text": [
      "GLCM is symmetrical, therefore Sum Average = 2 * Joint Average, only 1 needs to be calculated\n"
     ]
    },
    {
     "name": "stdout",
     "output_type": "stream",
     "text": [
      "Processing...\timg\t\t\t\t\tmsk\n",
      "\t\tLiver_40dose_120kVp_2FBP_0-6mm.nii\tLiver_120kVp_2FBP_0-6mm.nii\n",
      "\n"
     ]
    },
    {
     "name": "stderr",
     "output_type": "stream",
     "text": [
      "GLCM is symmetrical, therefore Sum Average = 2 * Joint Average, only 1 needs to be calculated\n"
     ]
    },
    {
     "name": "stdout",
     "output_type": "stream",
     "text": [
      "Processing...\timg\t\t\t\t\tmsk\n",
      "\t\tLiver_40dose_100kVp_1Safire_0-6mm.nii\tLiver_100kVp_1Safire_0-6mm.nii\n",
      "\n"
     ]
    },
    {
     "name": "stderr",
     "output_type": "stream",
     "text": [
      "GLCM is symmetrical, therefore Sum Average = 2 * Joint Average, only 1 needs to be calculated\n"
     ]
    },
    {
     "name": "stdout",
     "output_type": "stream",
     "text": [
      "Processing...\timg\t\t\t\t\tmsk\n",
      "\t\tLiver_40dose_120kVp_1Safire_0-6mm.nii\tLiver_120kVp_1Safire_0-6mm.nii\n",
      "\n"
     ]
    },
    {
     "name": "stderr",
     "output_type": "stream",
     "text": [
      "GLCM is symmetrical, therefore Sum Average = 2 * Joint Average, only 1 needs to be calculated\n"
     ]
    },
    {
     "name": "stdout",
     "output_type": "stream",
     "text": [
      "Processing...\timg\t\t\t\t\tmsk\n",
      "\t\tLiver_40dose_120kVp_1Safire_1-5mm.nii\tLiver_120kVp_1Safire_1-5mm.nii\n",
      "\n"
     ]
    },
    {
     "name": "stderr",
     "output_type": "stream",
     "text": [
      "GLCM is symmetrical, therefore Sum Average = 2 * Joint Average, only 1 needs to be calculated\n"
     ]
    },
    {
     "name": "stdout",
     "output_type": "stream",
     "text": [
      "Processing...\timg\t\t\t\t\tmsk\n",
      "\t\tLiver_40dose_120kVp_2FBP_3mm.nii\tLiver_120kVp_2FBP_3mm.nii\n",
      "\n"
     ]
    },
    {
     "name": "stderr",
     "output_type": "stream",
     "text": [
      "GLCM is symmetrical, therefore Sum Average = 2 * Joint Average, only 1 needs to be calculated\n"
     ]
    },
    {
     "name": "stdout",
     "output_type": "stream",
     "text": [
      "Processing...\timg\t\t\t\t\tmsk\n",
      "\t\tLiver_40dose_100kVp_1Safire_1-5mm.nii\tLiver_100kVp_1Safire_1-5mm.nii\n",
      "\n"
     ]
    },
    {
     "name": "stderr",
     "output_type": "stream",
     "text": [
      "GLCM is symmetrical, therefore Sum Average = 2 * Joint Average, only 1 needs to be calculated\n"
     ]
    },
    {
     "name": "stdout",
     "output_type": "stream",
     "text": [
      "Processing...\timg\t\t\t\t\tmsk\n",
      "\t\tLiver_40dose_120kVp_2FBP_1-5mm.nii\tLiver_120kVp_2FBP_1-5mm.nii\n",
      "\n"
     ]
    },
    {
     "name": "stderr",
     "output_type": "stream",
     "text": [
      "GLCM is symmetrical, therefore Sum Average = 2 * Joint Average, only 1 needs to be calculated\n"
     ]
    },
    {
     "name": "stdout",
     "output_type": "stream",
     "text": [
      "Processing...\timg\t\t\t\t\tmsk\n",
      "\t\tLiver_40dose_100kVp_1FBP_1-5mm.nii\tLiver_100kVp_1FBP_1-5mm.nii\n",
      "\n"
     ]
    },
    {
     "name": "stderr",
     "output_type": "stream",
     "text": [
      "GLCM is symmetrical, therefore Sum Average = 2 * Joint Average, only 1 needs to be calculated\n"
     ]
    },
    {
     "name": "stdout",
     "output_type": "stream",
     "text": [
      "Processing...\timg\t\t\t\t\tmsk\n",
      "\t\tLiver_40dose_120kVp_1FBP_3mm.nii\tLiver_120kVp_1FBP_3mm.nii\n",
      "\n"
     ]
    },
    {
     "name": "stderr",
     "output_type": "stream",
     "text": [
      "GLCM is symmetrical, therefore Sum Average = 2 * Joint Average, only 1 needs to be calculated\n"
     ]
    },
    {
     "name": "stdout",
     "output_type": "stream",
     "text": [
      "Processing...\timg\t\t\t\t\tmsk\n",
      "\t\tLiver_40dose_120kVp_2Safire_0-6mm.nii\tLiver_120kVp_2Safire_0-6mm.nii\n",
      "\n"
     ]
    },
    {
     "name": "stderr",
     "output_type": "stream",
     "text": [
      "GLCM is symmetrical, therefore Sum Average = 2 * Joint Average, only 1 needs to be calculated\n"
     ]
    },
    {
     "name": "stdout",
     "output_type": "stream",
     "text": [
      "Processing...\timg\t\t\t\t\tmsk\n",
      "\t\tLiver_40dose_120kVp_1FBP_1-5mm.nii\tLiver_120kVp_1FBP_1-5mm.nii\n",
      "\n"
     ]
    },
    {
     "name": "stderr",
     "output_type": "stream",
     "text": [
      "GLCM is symmetrical, therefore Sum Average = 2 * Joint Average, only 1 needs to be calculated\n"
     ]
    },
    {
     "name": "stdout",
     "output_type": "stream",
     "text": [
      "Processing...\timg\t\t\t\t\tmsk\n",
      "\t\tLiver_40dose_100kVp_2Safire_0-6mm.nii\tLiver_100kVp_2Safire_0-6mm.nii\n",
      "\n"
     ]
    },
    {
     "name": "stderr",
     "output_type": "stream",
     "text": [
      "GLCM is symmetrical, therefore Sum Average = 2 * Joint Average, only 1 needs to be calculated\n"
     ]
    },
    {
     "name": "stdout",
     "output_type": "stream",
     "text": [
      "Processing...\timg\t\t\t\t\tmsk\n",
      "\t\tLiver_40dose_100kVp_2FBP_1-5mm.nii\tLiver_100kVp_2FBP_1-5mm.nii\n",
      "\n"
     ]
    },
    {
     "name": "stderr",
     "output_type": "stream",
     "text": [
      "GLCM is symmetrical, therefore Sum Average = 2 * Joint Average, only 1 needs to be calculated\n"
     ]
    },
    {
     "name": "stdout",
     "output_type": "stream",
     "text": [
      "Processing...\timg\t\t\t\t\tmsk\n",
      "\t\tLiver_40dose_100kVp_2Safire_3mm.nii\tLiver_100kVp_2Safire_3mm.nii\n",
      "\n"
     ]
    },
    {
     "name": "stderr",
     "output_type": "stream",
     "text": [
      "GLCM is symmetrical, therefore Sum Average = 2 * Joint Average, only 1 needs to be calculated\n"
     ]
    },
    {
     "name": "stdout",
     "output_type": "stream",
     "text": [
      "Processing...\timg\t\t\t\t\tmsk\n",
      "\t\tLiver_40dose_100kVp_2FBP_0-6mm.nii\tLiver_100kVp_2FBP_0-6mm.nii\n",
      "\n"
     ]
    },
    {
     "name": "stderr",
     "output_type": "stream",
     "text": [
      "GLCM is symmetrical, therefore Sum Average = 2 * Joint Average, only 1 needs to be calculated\n"
     ]
    },
    {
     "name": "stdout",
     "output_type": "stream",
     "text": [
      "Processing...\timg\t\t\t\t\tmsk\n",
      "\t\tLiver_40dose_100kVp_2Safire_1-5mm.nii\tLiver_100kVp_2Safire_1-5mm.nii\n",
      "\n"
     ]
    },
    {
     "name": "stderr",
     "output_type": "stream",
     "text": [
      "GLCM is symmetrical, therefore Sum Average = 2 * Joint Average, only 1 needs to be calculated\n"
     ]
    },
    {
     "name": "stdout",
     "output_type": "stream",
     "text": [
      "Processing...\timg\t\t\t\t\tmsk\n",
      "\t\tLiver_40dose_120kVp_2Safire_3mm.nii\tLiver_120kVp_2Safire_3mm.nii\n",
      "\n"
     ]
    },
    {
     "name": "stderr",
     "output_type": "stream",
     "text": [
      "GLCM is symmetrical, therefore Sum Average = 2 * Joint Average, only 1 needs to be calculated\n"
     ]
    },
    {
     "name": "stdout",
     "output_type": "stream",
     "text": [
      "Processing...\timg\t\t\t\t\tmsk\n",
      "\t\tLiver_40dose_120kVp_1FBP_0-6mm.nii\tLiver_120kVp_1FBP_0-6mm.nii\n",
      "\n"
     ]
    },
    {
     "name": "stderr",
     "output_type": "stream",
     "text": [
      "GLCM is symmetrical, therefore Sum Average = 2 * Joint Average, only 1 needs to be calculated\n"
     ]
    },
    {
     "name": "stdout",
     "output_type": "stream",
     "text": [
      "Processing...\timg\t\t\t\t\tmsk\n",
      "\t\tLiver_40dose_120kVp_2Safire_1-5mm.nii\tLiver_120kVp_2Safire_1-5mm.nii\n",
      "\n"
     ]
    },
    {
     "name": "stderr",
     "output_type": "stream",
     "text": [
      "GLCM is symmetrical, therefore Sum Average = 2 * Joint Average, only 1 needs to be calculated\n"
     ]
    },
    {
     "name": "stdout",
     "output_type": "stream",
     "text": [
      "Processing...\timg\t\t\t\t\tmsk\n",
      "\t\tLiver_40dose_120kVp_1Safire_3mm.nii\tLiver_120kVp_1Safire_3mm.nii\n",
      "\n"
     ]
    },
    {
     "name": "stderr",
     "output_type": "stream",
     "text": [
      "GLCM is symmetrical, therefore Sum Average = 2 * Joint Average, only 1 needs to be calculated\n"
     ]
    },
    {
     "name": "stdout",
     "output_type": "stream",
     "text": [
      "Processing...\timg\t\t\t\t\tmsk\n",
      "\t\tLiver_40dose_100kVp_1Safire_3mm.nii\tLiver_100kVp_1Safire_3mm.nii\n",
      "\n"
     ]
    },
    {
     "name": "stderr",
     "output_type": "stream",
     "text": [
      "GLCM is symmetrical, therefore Sum Average = 2 * Joint Average, only 1 needs to be calculated\n"
     ]
    },
    {
     "name": "stdout",
     "output_type": "stream",
     "text": [
      "Processing...\timg\t\t\t\t\tmsk\n",
      "\t\tLiver_40dose_100kVp_2FBP_3mm.nii\tLiver_100kVp_2FBP_3mm.nii\n",
      "\n"
     ]
    },
    {
     "name": "stderr",
     "output_type": "stream",
     "text": [
      "GLCM is symmetrical, therefore Sum Average = 2 * Joint Average, only 1 needs to be calculated\n"
     ]
    },
    {
     "name": "stdout",
     "output_type": "stream",
     "text": [
      "\n",
      "Extraction complete!\n"
     ]
    }
   ],
   "source": [
    "firstIteration = True\n",
    "for img in liver_images:\n",
    "    \n",
    "    # specify image path\n",
    "    imagePath = path + '/Images/Liver/Liver_40dose/' + img\n",
    "\n",
    "    # specify mask path\n",
    "    msk = img[0:6] + img[13:] # removes '40dose_'\n",
    "    maskPath = path + '/Liver_masks/' + msk\n",
    "\n",
    "    # status\n",
    "    print('Processing...\\timg\\t\\t\\t\\t\\tmsk')\n",
    "    print('\\t\\t' + img + '\\t' + msk)\n",
    "    print()\n",
    "\n",
    "    # feature extraction\n",
    "    result = extractor.execute(imagePath, maskPath)\n",
    "\n",
    "    if firstIteration:\n",
    "        features = list(result.keys())[22:] # '0:21' diagnostic features, '22:' radiomic features\n",
    "        firstIteration = False\n",
    "\n",
    "    feature_space_element = {}\n",
    "    for key, value in six.iteritems(result):\n",
    "        if key in features:\n",
    "            feature_space_element[key] = value\n",
    "    feature_space[img[:-4]] = feature_space_element # 'img[:-4]' removes '.nii'\n",
    "\n",
    "    # break # comment for 1 iteration (debugging)\n",
    "\n",
    "print('\\nExtraction complete!')"
   ]
  },
  {
   "cell_type": "code",
   "execution_count": 40,
   "id": "0dadce5b-b017-4a30-83a1-553ef7b0e5ed",
   "metadata": {},
   "outputs": [
    {
     "data": {
      "text/html": [
       "<div>\n",
       "<style scoped>\n",
       "    .dataframe tbody tr th:only-of-type {\n",
       "        vertical-align: middle;\n",
       "    }\n",
       "\n",
       "    .dataframe tbody tr th {\n",
       "        vertical-align: top;\n",
       "    }\n",
       "\n",
       "    .dataframe thead th {\n",
       "        text-align: right;\n",
       "    }\n",
       "</style>\n",
       "<table border=\"1\" class=\"dataframe\">\n",
       "  <thead>\n",
       "    <tr style=\"text-align: right;\">\n",
       "      <th></th>\n",
       "      <th>Liver_40dose_100kVp_1FBP_0-6mm</th>\n",
       "      <th>Liver_40dose_100kVp_1FBP_3mm</th>\n",
       "      <th>Liver_40dose_120kVp_2FBP_0-6mm</th>\n",
       "      <th>Liver_40dose_100kVp_1Safire_0-6mm</th>\n",
       "      <th>Liver_40dose_120kVp_1Safire_0-6mm</th>\n",
       "      <th>Liver_40dose_120kVp_1Safire_1-5mm</th>\n",
       "      <th>Liver_40dose_120kVp_2FBP_3mm</th>\n",
       "      <th>Liver_40dose_100kVp_1Safire_1-5mm</th>\n",
       "      <th>Liver_40dose_120kVp_2FBP_1-5mm</th>\n",
       "      <th>Liver_40dose_100kVp_1FBP_1-5mm</th>\n",
       "      <th>...</th>\n",
       "      <th>Liver_40dose_100kVp_2FBP_1-5mm</th>\n",
       "      <th>Liver_40dose_100kVp_2Safire_3mm</th>\n",
       "      <th>Liver_40dose_100kVp_2FBP_0-6mm</th>\n",
       "      <th>Liver_40dose_100kVp_2Safire_1-5mm</th>\n",
       "      <th>Liver_40dose_120kVp_2Safire_3mm</th>\n",
       "      <th>Liver_40dose_120kVp_1FBP_0-6mm</th>\n",
       "      <th>Liver_40dose_120kVp_2Safire_1-5mm</th>\n",
       "      <th>Liver_40dose_120kVp_1Safire_3mm</th>\n",
       "      <th>Liver_40dose_100kVp_1Safire_3mm</th>\n",
       "      <th>Liver_40dose_100kVp_2FBP_3mm</th>\n",
       "    </tr>\n",
       "  </thead>\n",
       "  <tbody>\n",
       "    <tr>\n",
       "      <th>original_shape_Elongation</th>\n",
       "      <td>0.992364</td>\n",
       "      <td>0.989059</td>\n",
       "      <td>0.992364</td>\n",
       "      <td>0.992364</td>\n",
       "      <td>0.992947</td>\n",
       "      <td>0.997871</td>\n",
       "      <td>0.986099</td>\n",
       "      <td>0.957848</td>\n",
       "      <td>0.957848</td>\n",
       "      <td>0.957848</td>\n",
       "      <td>...</td>\n",
       "      <td>0.957848</td>\n",
       "      <td>0.993723</td>\n",
       "      <td>0.992364</td>\n",
       "      <td>0.957848</td>\n",
       "      <td>0.975773</td>\n",
       "      <td>0.992364</td>\n",
       "      <td>0.997223</td>\n",
       "      <td>0.985291</td>\n",
       "      <td>0.98506</td>\n",
       "      <td>0.979029</td>\n",
       "    </tr>\n",
       "    <tr>\n",
       "      <th>original_shape_Flatness</th>\n",
       "      <td>0.103432</td>\n",
       "      <td>0.526778</td>\n",
       "      <td>0.103432</td>\n",
       "      <td>0.103432</td>\n",
       "      <td>0.268311</td>\n",
       "      <td>0.40586</td>\n",
       "      <td>0.553315</td>\n",
       "      <td>0.348447</td>\n",
       "      <td>0.348447</td>\n",
       "      <td>0.348447</td>\n",
       "      <td>...</td>\n",
       "      <td>0.348447</td>\n",
       "      <td>0.433463</td>\n",
       "      <td>0.103432</td>\n",
       "      <td>0.348447</td>\n",
       "      <td>0.496728</td>\n",
       "      <td>0.103432</td>\n",
       "      <td>0.312764</td>\n",
       "      <td>0.507601</td>\n",
       "      <td>0.678776</td>\n",
       "      <td>0.476693</td>\n",
       "    </tr>\n",
       "    <tr>\n",
       "      <th>original_shape_LeastAxisLength</th>\n",
       "      <td>3.376769</td>\n",
       "      <td>18.8563</td>\n",
       "      <td>3.376769</td>\n",
       "      <td>3.376769</td>\n",
       "      <td>9.03265</td>\n",
       "      <td>13.696493</td>\n",
       "      <td>17.417643</td>\n",
       "      <td>11.978125</td>\n",
       "      <td>11.978125</td>\n",
       "      <td>11.978125</td>\n",
       "      <td>...</td>\n",
       "      <td>11.978125</td>\n",
       "      <td>16.653699</td>\n",
       "      <td>3.376769</td>\n",
       "      <td>11.978125</td>\n",
       "      <td>16.901249</td>\n",
       "      <td>3.376769</td>\n",
       "      <td>10.05819</td>\n",
       "      <td>16.543951</td>\n",
       "      <td>23.415201</td>\n",
       "      <td>17.159568</td>\n",
       "    </tr>\n",
       "    <tr>\n",
       "      <th>original_shape_MajorAxisLength</th>\n",
       "      <td>32.64735</td>\n",
       "      <td>35.795504</td>\n",
       "      <td>32.64735</td>\n",
       "      <td>32.64735</td>\n",
       "      <td>33.664831</td>\n",
       "      <td>33.746834</td>\n",
       "      <td>31.47872</td>\n",
       "      <td>34.3757</td>\n",
       "      <td>34.3757</td>\n",
       "      <td>34.3757</td>\n",
       "      <td>...</td>\n",
       "      <td>34.3757</td>\n",
       "      <td>38.420114</td>\n",
       "      <td>32.64735</td>\n",
       "      <td>34.3757</td>\n",
       "      <td>34.025128</td>\n",
       "      <td>32.64735</td>\n",
       "      <td>32.159067</td>\n",
       "      <td>32.592444</td>\n",
       "      <td>34.496196</td>\n",
       "      <td>35.997106</td>\n",
       "    </tr>\n",
       "    <tr>\n",
       "      <th>original_shape_Maximum2DDiameterColumn</th>\n",
       "      <td>35.48318576689957</td>\n",
       "      <td>38.856660791820815</td>\n",
       "      <td>35.48318576689957</td>\n",
       "      <td>35.48318576689957</td>\n",
       "      <td>37.30695114209472</td>\n",
       "      <td>38.856660791820815</td>\n",
       "      <td>35.7803663919282</td>\n",
       "      <td>35.941847563112276</td>\n",
       "      <td>35.941847563112276</td>\n",
       "      <td>35.941847563112276</td>\n",
       "      <td>...</td>\n",
       "      <td>35.941847563112276</td>\n",
       "      <td>45.03515625</td>\n",
       "      <td>35.48318576689957</td>\n",
       "      <td>35.941847563112276</td>\n",
       "      <td>35.7803663919282</td>\n",
       "      <td>35.48318576689957</td>\n",
       "      <td>34.731625096737865</td>\n",
       "      <td>34.62996706814237</td>\n",
       "      <td>39.51833738744792</td>\n",
       "      <td>40.927634971022805</td>\n",
       "    </tr>\n",
       "    <tr>\n",
       "      <th>...</th>\n",
       "      <td>...</td>\n",
       "      <td>...</td>\n",
       "      <td>...</td>\n",
       "      <td>...</td>\n",
       "      <td>...</td>\n",
       "      <td>...</td>\n",
       "      <td>...</td>\n",
       "      <td>...</td>\n",
       "      <td>...</td>\n",
       "      <td>...</td>\n",
       "      <td>...</td>\n",
       "      <td>...</td>\n",
       "      <td>...</td>\n",
       "      <td>...</td>\n",
       "      <td>...</td>\n",
       "      <td>...</td>\n",
       "      <td>...</td>\n",
       "      <td>...</td>\n",
       "      <td>...</td>\n",
       "      <td>...</td>\n",
       "      <td>...</td>\n",
       "    </tr>\n",
       "    <tr>\n",
       "      <th>original_ngtdm_Busyness</th>\n",
       "      <td>0.10002160642542453</td>\n",
       "      <td>43.31034026378361</td>\n",
       "      <td>0.11841483652612766</td>\n",
       "      <td>0.1152784217673348</td>\n",
       "      <td>0.3901329997650102</td>\n",
       "      <td>0.3293833876466353</td>\n",
       "      <td>0.21375866192629558</td>\n",
       "      <td>0.22708810632151052</td>\n",
       "      <td>0.2114663685109725</td>\n",
       "      <td>0.19461410741119373</td>\n",
       "      <td>...</td>\n",
       "      <td>0.19702603089259277</td>\n",
       "      <td>57.17679962281475</td>\n",
       "      <td>0.10731644260959729</td>\n",
       "      <td>0.22831196545489457</td>\n",
       "      <td>0.25393917742093725</td>\n",
       "      <td>0.12081547976602752</td>\n",
       "      <td>0.23869611642395056</td>\n",
       "      <td>0.2704593046333933</td>\n",
       "      <td>91.4512190999021</td>\n",
       "      <td>14.95490139849681</td>\n",
       "    </tr>\n",
       "    <tr>\n",
       "      <th>original_ngtdm_Coarseness</th>\n",
       "      <td>0.001529730895701836</td>\n",
       "      <td>0.0006492127821046063</td>\n",
       "      <td>0.0014798184571915025</td>\n",
       "      <td>0.0013522880111441287</td>\n",
       "      <td>0.00044522492924212853</td>\n",
       "      <td>0.0005895859686368829</td>\n",
       "      <td>0.001174712772929213</td>\n",
       "      <td>0.0007780529870953998</td>\n",
       "      <td>0.0009268668874168594</td>\n",
       "      <td>0.0009368506384519659</td>\n",
       "      <td>...</td>\n",
       "      <td>0.0009221714119392569</td>\n",
       "      <td>0.0006816080077367024</td>\n",
       "      <td>0.0014970110075695558</td>\n",
       "      <td>0.000759921740828669</td>\n",
       "      <td>0.0008697600785082604</td>\n",
       "      <td>0.0014490097157002315</td>\n",
       "      <td>0.0008443724705013086</td>\n",
       "      <td>0.000830451621389035</td>\n",
       "      <td>0.0005704118377221745</td>\n",
       "      <td>0.0007677730376116317</td>\n",
       "    </tr>\n",
       "    <tr>\n",
       "      <th>original_ngtdm_Complexity</th>\n",
       "      <td>7520.846025250988</td>\n",
       "      <td>12.52610304084668</td>\n",
       "      <td>5811.064192338842</td>\n",
       "      <td>6193.257938539838</td>\n",
       "      <td>4782.25162003001</td>\n",
       "      <td>4111.398152419705</td>\n",
       "      <td>3438.104201219915</td>\n",
       "      <td>5119.071732894791</td>\n",
       "      <td>4075.964077462402</td>\n",
       "      <td>5120.763566473419</td>\n",
       "      <td>...</td>\n",
       "      <td>5077.53746072159</td>\n",
       "      <td>6.7431605964354535</td>\n",
       "      <td>6995.974189928824</td>\n",
       "      <td>5222.191494368234</td>\n",
       "      <td>4121.836473069792</td>\n",
       "      <td>5916.384305277225</td>\n",
       "      <td>3877.6415820565185</td>\n",
       "      <td>3978.830331902757</td>\n",
       "      <td>4.625144881494525</td>\n",
       "      <td>57.18540857432825</td>\n",
       "    </tr>\n",
       "    <tr>\n",
       "      <th>original_ngtdm_Contrast</th>\n",
       "      <td>0.15629138217676705</td>\n",
       "      <td>0.021430535914433887</td>\n",
       "      <td>0.15169370365748336</td>\n",
       "      <td>0.16197584789885372</td>\n",
       "      <td>0.1398977961302228</td>\n",
       "      <td>0.16225469710401955</td>\n",
       "      <td>0.2287819380853673</td>\n",
       "      <td>0.21196085791070676</td>\n",
       "      <td>0.1722738549146445</td>\n",
       "      <td>0.20006666323751957</td>\n",
       "      <td>...</td>\n",
       "      <td>0.2009506984848119</td>\n",
       "      <td>0.010448742105344608</td>\n",
       "      <td>0.1685653105652311</td>\n",
       "      <td>0.20730936220502238</td>\n",
       "      <td>0.24718844912834279</td>\n",
       "      <td>0.15117831739079593</td>\n",
       "      <td>0.16845033003495868</td>\n",
       "      <td>0.218667372167981</td>\n",
       "      <td>0.01570787810995849</td>\n",
       "      <td>0.006079365496224331</td>\n",
       "    </tr>\n",
       "    <tr>\n",
       "      <th>original_ngtdm_Strength</th>\n",
       "      <td>12.991640092722715</td>\n",
       "      <td>0.010972629966232774</td>\n",
       "      <td>9.931203906198697</td>\n",
       "      <td>13.734390296352736</td>\n",
       "      <td>3.8230328089320085</td>\n",
       "      <td>4.841720555552543</td>\n",
       "      <td>6.383544275840062</td>\n",
       "      <td>8.011569483324488</td>\n",
       "      <td>7.1120429838871075</td>\n",
       "      <td>8.011390106392444</td>\n",
       "      <td>...</td>\n",
       "      <td>7.860571789929286</td>\n",
       "      <td>0.009942958753650213</td>\n",
       "      <td>12.488929390697614</td>\n",
       "      <td>8.010706899823026</td>\n",
       "      <td>6.169943885581254</td>\n",
       "      <td>10.119404064918676</td>\n",
       "      <td>7.078079959925038</td>\n",
       "      <td>6.4477659846862805</td>\n",
       "      <td>0.0051408504484432615</td>\n",
       "      <td>0.11656478584253192</td>\n",
       "    </tr>\n",
       "  </tbody>\n",
       "</table>\n",
       "<p>107 rows × 24 columns</p>\n",
       "</div>"
      ],
      "text/plain": [
       "                                       Liver_40dose_100kVp_1FBP_0-6mm  \\\n",
       "original_shape_Elongation                                    0.992364   \n",
       "original_shape_Flatness                                      0.103432   \n",
       "original_shape_LeastAxisLength                               3.376769   \n",
       "original_shape_MajorAxisLength                               32.64735   \n",
       "original_shape_Maximum2DDiameterColumn              35.48318576689957   \n",
       "...                                                               ...   \n",
       "original_ngtdm_Busyness                           0.10002160642542453   \n",
       "original_ngtdm_Coarseness                        0.001529730895701836   \n",
       "original_ngtdm_Complexity                           7520.846025250988   \n",
       "original_ngtdm_Contrast                           0.15629138217676705   \n",
       "original_ngtdm_Strength                            12.991640092722715   \n",
       "\n",
       "                                       Liver_40dose_100kVp_1FBP_3mm  \\\n",
       "original_shape_Elongation                                  0.989059   \n",
       "original_shape_Flatness                                    0.526778   \n",
       "original_shape_LeastAxisLength                              18.8563   \n",
       "original_shape_MajorAxisLength                            35.795504   \n",
       "original_shape_Maximum2DDiameterColumn           38.856660791820815   \n",
       "...                                                             ...   \n",
       "original_ngtdm_Busyness                           43.31034026378361   \n",
       "original_ngtdm_Coarseness                     0.0006492127821046063   \n",
       "original_ngtdm_Complexity                         12.52610304084668   \n",
       "original_ngtdm_Contrast                        0.021430535914433887   \n",
       "original_ngtdm_Strength                        0.010972629966232774   \n",
       "\n",
       "                                       Liver_40dose_120kVp_2FBP_0-6mm  \\\n",
       "original_shape_Elongation                                    0.992364   \n",
       "original_shape_Flatness                                      0.103432   \n",
       "original_shape_LeastAxisLength                               3.376769   \n",
       "original_shape_MajorAxisLength                               32.64735   \n",
       "original_shape_Maximum2DDiameterColumn              35.48318576689957   \n",
       "...                                                               ...   \n",
       "original_ngtdm_Busyness                           0.11841483652612766   \n",
       "original_ngtdm_Coarseness                       0.0014798184571915025   \n",
       "original_ngtdm_Complexity                           5811.064192338842   \n",
       "original_ngtdm_Contrast                           0.15169370365748336   \n",
       "original_ngtdm_Strength                             9.931203906198697   \n",
       "\n",
       "                                       Liver_40dose_100kVp_1Safire_0-6mm  \\\n",
       "original_shape_Elongation                                       0.992364   \n",
       "original_shape_Flatness                                         0.103432   \n",
       "original_shape_LeastAxisLength                                  3.376769   \n",
       "original_shape_MajorAxisLength                                  32.64735   \n",
       "original_shape_Maximum2DDiameterColumn                 35.48318576689957   \n",
       "...                                                                  ...   \n",
       "original_ngtdm_Busyness                               0.1152784217673348   \n",
       "original_ngtdm_Coarseness                          0.0013522880111441287   \n",
       "original_ngtdm_Complexity                              6193.257938539838   \n",
       "original_ngtdm_Contrast                              0.16197584789885372   \n",
       "original_ngtdm_Strength                               13.734390296352736   \n",
       "\n",
       "                                       Liver_40dose_120kVp_1Safire_0-6mm  \\\n",
       "original_shape_Elongation                                       0.992947   \n",
       "original_shape_Flatness                                         0.268311   \n",
       "original_shape_LeastAxisLength                                   9.03265   \n",
       "original_shape_MajorAxisLength                                 33.664831   \n",
       "original_shape_Maximum2DDiameterColumn                 37.30695114209472   \n",
       "...                                                                  ...   \n",
       "original_ngtdm_Busyness                               0.3901329997650102   \n",
       "original_ngtdm_Coarseness                         0.00044522492924212853   \n",
       "original_ngtdm_Complexity                               4782.25162003001   \n",
       "original_ngtdm_Contrast                               0.1398977961302228   \n",
       "original_ngtdm_Strength                               3.8230328089320085   \n",
       "\n",
       "                                       Liver_40dose_120kVp_1Safire_1-5mm  \\\n",
       "original_shape_Elongation                                       0.997871   \n",
       "original_shape_Flatness                                          0.40586   \n",
       "original_shape_LeastAxisLength                                 13.696493   \n",
       "original_shape_MajorAxisLength                                 33.746834   \n",
       "original_shape_Maximum2DDiameterColumn                38.856660791820815   \n",
       "...                                                                  ...   \n",
       "original_ngtdm_Busyness                               0.3293833876466353   \n",
       "original_ngtdm_Coarseness                          0.0005895859686368829   \n",
       "original_ngtdm_Complexity                              4111.398152419705   \n",
       "original_ngtdm_Contrast                              0.16225469710401955   \n",
       "original_ngtdm_Strength                                4.841720555552543   \n",
       "\n",
       "                                       Liver_40dose_120kVp_2FBP_3mm  \\\n",
       "original_shape_Elongation                                  0.986099   \n",
       "original_shape_Flatness                                    0.553315   \n",
       "original_shape_LeastAxisLength                            17.417643   \n",
       "original_shape_MajorAxisLength                             31.47872   \n",
       "original_shape_Maximum2DDiameterColumn             35.7803663919282   \n",
       "...                                                             ...   \n",
       "original_ngtdm_Busyness                         0.21375866192629558   \n",
       "original_ngtdm_Coarseness                      0.001174712772929213   \n",
       "original_ngtdm_Complexity                         3438.104201219915   \n",
       "original_ngtdm_Contrast                          0.2287819380853673   \n",
       "original_ngtdm_Strength                           6.383544275840062   \n",
       "\n",
       "                                       Liver_40dose_100kVp_1Safire_1-5mm  \\\n",
       "original_shape_Elongation                                       0.957848   \n",
       "original_shape_Flatness                                         0.348447   \n",
       "original_shape_LeastAxisLength                                 11.978125   \n",
       "original_shape_MajorAxisLength                                   34.3757   \n",
       "original_shape_Maximum2DDiameterColumn                35.941847563112276   \n",
       "...                                                                  ...   \n",
       "original_ngtdm_Busyness                              0.22708810632151052   \n",
       "original_ngtdm_Coarseness                          0.0007780529870953998   \n",
       "original_ngtdm_Complexity                              5119.071732894791   \n",
       "original_ngtdm_Contrast                              0.21196085791070676   \n",
       "original_ngtdm_Strength                                8.011569483324488   \n",
       "\n",
       "                                       Liver_40dose_120kVp_2FBP_1-5mm  \\\n",
       "original_shape_Elongation                                    0.957848   \n",
       "original_shape_Flatness                                      0.348447   \n",
       "original_shape_LeastAxisLength                              11.978125   \n",
       "original_shape_MajorAxisLength                                34.3757   \n",
       "original_shape_Maximum2DDiameterColumn             35.941847563112276   \n",
       "...                                                               ...   \n",
       "original_ngtdm_Busyness                            0.2114663685109725   \n",
       "original_ngtdm_Coarseness                       0.0009268668874168594   \n",
       "original_ngtdm_Complexity                           4075.964077462402   \n",
       "original_ngtdm_Contrast                            0.1722738549146445   \n",
       "original_ngtdm_Strength                            7.1120429838871075   \n",
       "\n",
       "                                       Liver_40dose_100kVp_1FBP_1-5mm  ...  \\\n",
       "original_shape_Elongation                                    0.957848  ...   \n",
       "original_shape_Flatness                                      0.348447  ...   \n",
       "original_shape_LeastAxisLength                              11.978125  ...   \n",
       "original_shape_MajorAxisLength                                34.3757  ...   \n",
       "original_shape_Maximum2DDiameterColumn             35.941847563112276  ...   \n",
       "...                                                               ...  ...   \n",
       "original_ngtdm_Busyness                           0.19461410741119373  ...   \n",
       "original_ngtdm_Coarseness                       0.0009368506384519659  ...   \n",
       "original_ngtdm_Complexity                           5120.763566473419  ...   \n",
       "original_ngtdm_Contrast                           0.20006666323751957  ...   \n",
       "original_ngtdm_Strength                             8.011390106392444  ...   \n",
       "\n",
       "                                       Liver_40dose_100kVp_2FBP_1-5mm  \\\n",
       "original_shape_Elongation                                    0.957848   \n",
       "original_shape_Flatness                                      0.348447   \n",
       "original_shape_LeastAxisLength                              11.978125   \n",
       "original_shape_MajorAxisLength                                34.3757   \n",
       "original_shape_Maximum2DDiameterColumn             35.941847563112276   \n",
       "...                                                               ...   \n",
       "original_ngtdm_Busyness                           0.19702603089259277   \n",
       "original_ngtdm_Coarseness                       0.0009221714119392569   \n",
       "original_ngtdm_Complexity                            5077.53746072159   \n",
       "original_ngtdm_Contrast                            0.2009506984848119   \n",
       "original_ngtdm_Strength                             7.860571789929286   \n",
       "\n",
       "                                       Liver_40dose_100kVp_2Safire_3mm  \\\n",
       "original_shape_Elongation                                     0.993723   \n",
       "original_shape_Flatness                                       0.433463   \n",
       "original_shape_LeastAxisLength                               16.653699   \n",
       "original_shape_MajorAxisLength                               38.420114   \n",
       "original_shape_Maximum2DDiameterColumn                     45.03515625   \n",
       "...                                                                ...   \n",
       "original_ngtdm_Busyness                              57.17679962281475   \n",
       "original_ngtdm_Coarseness                        0.0006816080077367024   \n",
       "original_ngtdm_Complexity                           6.7431605964354535   \n",
       "original_ngtdm_Contrast                           0.010448742105344608   \n",
       "original_ngtdm_Strength                           0.009942958753650213   \n",
       "\n",
       "                                       Liver_40dose_100kVp_2FBP_0-6mm  \\\n",
       "original_shape_Elongation                                    0.992364   \n",
       "original_shape_Flatness                                      0.103432   \n",
       "original_shape_LeastAxisLength                               3.376769   \n",
       "original_shape_MajorAxisLength                               32.64735   \n",
       "original_shape_Maximum2DDiameterColumn              35.48318576689957   \n",
       "...                                                               ...   \n",
       "original_ngtdm_Busyness                           0.10731644260959729   \n",
       "original_ngtdm_Coarseness                       0.0014970110075695558   \n",
       "original_ngtdm_Complexity                           6995.974189928824   \n",
       "original_ngtdm_Contrast                            0.1685653105652311   \n",
       "original_ngtdm_Strength                            12.488929390697614   \n",
       "\n",
       "                                       Liver_40dose_100kVp_2Safire_1-5mm  \\\n",
       "original_shape_Elongation                                       0.957848   \n",
       "original_shape_Flatness                                         0.348447   \n",
       "original_shape_LeastAxisLength                                 11.978125   \n",
       "original_shape_MajorAxisLength                                   34.3757   \n",
       "original_shape_Maximum2DDiameterColumn                35.941847563112276   \n",
       "...                                                                  ...   \n",
       "original_ngtdm_Busyness                              0.22831196545489457   \n",
       "original_ngtdm_Coarseness                           0.000759921740828669   \n",
       "original_ngtdm_Complexity                              5222.191494368234   \n",
       "original_ngtdm_Contrast                              0.20730936220502238   \n",
       "original_ngtdm_Strength                                8.010706899823026   \n",
       "\n",
       "                                       Liver_40dose_120kVp_2Safire_3mm  \\\n",
       "original_shape_Elongation                                     0.975773   \n",
       "original_shape_Flatness                                       0.496728   \n",
       "original_shape_LeastAxisLength                               16.901249   \n",
       "original_shape_MajorAxisLength                               34.025128   \n",
       "original_shape_Maximum2DDiameterColumn                35.7803663919282   \n",
       "...                                                                ...   \n",
       "original_ngtdm_Busyness                            0.25393917742093725   \n",
       "original_ngtdm_Coarseness                        0.0008697600785082604   \n",
       "original_ngtdm_Complexity                            4121.836473069792   \n",
       "original_ngtdm_Contrast                            0.24718844912834279   \n",
       "original_ngtdm_Strength                              6.169943885581254   \n",
       "\n",
       "                                       Liver_40dose_120kVp_1FBP_0-6mm  \\\n",
       "original_shape_Elongation                                    0.992364   \n",
       "original_shape_Flatness                                      0.103432   \n",
       "original_shape_LeastAxisLength                               3.376769   \n",
       "original_shape_MajorAxisLength                               32.64735   \n",
       "original_shape_Maximum2DDiameterColumn              35.48318576689957   \n",
       "...                                                               ...   \n",
       "original_ngtdm_Busyness                           0.12081547976602752   \n",
       "original_ngtdm_Coarseness                       0.0014490097157002315   \n",
       "original_ngtdm_Complexity                           5916.384305277225   \n",
       "original_ngtdm_Contrast                           0.15117831739079593   \n",
       "original_ngtdm_Strength                            10.119404064918676   \n",
       "\n",
       "                                       Liver_40dose_120kVp_2Safire_1-5mm  \\\n",
       "original_shape_Elongation                                       0.997223   \n",
       "original_shape_Flatness                                         0.312764   \n",
       "original_shape_LeastAxisLength                                  10.05819   \n",
       "original_shape_MajorAxisLength                                 32.159067   \n",
       "original_shape_Maximum2DDiameterColumn                34.731625096737865   \n",
       "...                                                                  ...   \n",
       "original_ngtdm_Busyness                              0.23869611642395056   \n",
       "original_ngtdm_Coarseness                          0.0008443724705013086   \n",
       "original_ngtdm_Complexity                             3877.6415820565185   \n",
       "original_ngtdm_Contrast                              0.16845033003495868   \n",
       "original_ngtdm_Strength                                7.078079959925038   \n",
       "\n",
       "                                       Liver_40dose_120kVp_1Safire_3mm  \\\n",
       "original_shape_Elongation                                     0.985291   \n",
       "original_shape_Flatness                                       0.507601   \n",
       "original_shape_LeastAxisLength                               16.543951   \n",
       "original_shape_MajorAxisLength                               32.592444   \n",
       "original_shape_Maximum2DDiameterColumn               34.62996706814237   \n",
       "...                                                                ...   \n",
       "original_ngtdm_Busyness                             0.2704593046333933   \n",
       "original_ngtdm_Coarseness                         0.000830451621389035   \n",
       "original_ngtdm_Complexity                            3978.830331902757   \n",
       "original_ngtdm_Contrast                              0.218667372167981   \n",
       "original_ngtdm_Strength                             6.4477659846862805   \n",
       "\n",
       "                                       Liver_40dose_100kVp_1Safire_3mm  \\\n",
       "original_shape_Elongation                                      0.98506   \n",
       "original_shape_Flatness                                       0.678776   \n",
       "original_shape_LeastAxisLength                               23.415201   \n",
       "original_shape_MajorAxisLength                               34.496196   \n",
       "original_shape_Maximum2DDiameterColumn               39.51833738744792   \n",
       "...                                                                ...   \n",
       "original_ngtdm_Busyness                               91.4512190999021   \n",
       "original_ngtdm_Coarseness                        0.0005704118377221745   \n",
       "original_ngtdm_Complexity                            4.625144881494525   \n",
       "original_ngtdm_Contrast                            0.01570787810995849   \n",
       "original_ngtdm_Strength                          0.0051408504484432615   \n",
       "\n",
       "                                       Liver_40dose_100kVp_2FBP_3mm  \n",
       "original_shape_Elongation                                  0.979029  \n",
       "original_shape_Flatness                                    0.476693  \n",
       "original_shape_LeastAxisLength                            17.159568  \n",
       "original_shape_MajorAxisLength                            35.997106  \n",
       "original_shape_Maximum2DDiameterColumn           40.927634971022805  \n",
       "...                                                             ...  \n",
       "original_ngtdm_Busyness                           14.95490139849681  \n",
       "original_ngtdm_Coarseness                     0.0007677730376116317  \n",
       "original_ngtdm_Complexity                         57.18540857432825  \n",
       "original_ngtdm_Contrast                        0.006079365496224331  \n",
       "original_ngtdm_Strength                         0.11656478584253192  \n",
       "\n",
       "[107 rows x 24 columns]"
      ]
     },
     "execution_count": 40,
     "metadata": {},
     "output_type": "execute_result"
    }
   ],
   "source": [
    "df_40dose = pd.DataFrame.from_dict(feature_space)\n",
    "df_40dose"
   ]
  },
  {
   "cell_type": "markdown",
   "id": "1d52f652-213f-446a-b57e-a7eaf5cfa61d",
   "metadata": {},
   "source": [
    "## 60% dose"
   ]
  },
  {
   "cell_type": "code",
   "execution_count": null,
   "id": "3643f6f3-1ced-4dba-b47f-c25ca8d586bd",
   "metadata": {},
   "outputs": [],
   "source": []
  }
 ],
 "metadata": {
  "kernelspec": {
   "display_name": "Python 3 (ipykernel)",
   "language": "python",
   "name": "python3"
  },
  "language_info": {
   "codemirror_mode": {
    "name": "ipython",
    "version": 3
   },
   "file_extension": ".py",
   "mimetype": "text/x-python",
   "name": "python",
   "nbconvert_exporter": "python",
   "pygments_lexer": "ipython3",
   "version": "3.11.4"
  }
 },
 "nbformat": 4,
 "nbformat_minor": 5
}
