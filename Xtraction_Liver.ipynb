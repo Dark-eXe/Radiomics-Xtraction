{
 "cells": [
  {
   "cell_type": "markdown",
   "id": "9ebe6b96-5685-4843-bdb6-0483321437cf",
   "metadata": {},
   "source": [
    "# Radiomics Feature Extraction - Liver Phantoms\n",
    "### This notebook performs radiomic feature extraction on liver phantoms.\n",
    "\n",
    "Input: image and mask file paths (ALL .nii files)<br>\n",
    "Output: Liver.csv"
   ]
  },
  {
   "cell_type": "code",
   "execution_count": 1,
   "id": "d352193e-3226-4711-b678-b01a2d5d3d5e",
   "metadata": {},
   "outputs": [],
   "source": [
    "import os\n",
    "import six\n",
    "import pandas as pd\n",
    "import radiomics\n",
    "from radiomics import featureextractor"
   ]
  },
  {
   "cell_type": "code",
   "execution_count": 2,
   "id": "80f8b0d3-9bd7-4842-b299-bfeea4ccfbd0",
   "metadata": {},
   "outputs": [
    {
     "data": {
      "text/plain": [
       "'/Users/andrewturangan/Local/BME 528/Radiomics-Xtraction'"
      ]
     },
     "execution_count": 2,
     "metadata": {},
     "output_type": "execute_result"
    }
   ],
   "source": [
    "path = os.getcwd()\n",
    "path"
   ]
  },
  {
   "cell_type": "markdown",
   "id": "631880cd-ac02-4ded-9c8a-e81cfb10e64d",
   "metadata": {},
   "source": [
    "## Instantiate extractor"
   ]
  },
  {
   "cell_type": "code",
   "execution_count": 5,
   "id": "25b00689-ae2d-4f75-bb50-e9a6569b5553",
   "metadata": {},
   "outputs": [],
   "source": [
    "extractor = featureextractor.RadiomicsFeatureExtractor()\n",
    "\n",
    "#print('Extraction parameters:\\n\\t', extractor.settings)\n",
    "#print('Enabled filters:\\n\\t', extractor.enabledImagetypes)\n",
    "#print('Enabled features:\\n\\t', extractor.enabledFeatures)"
   ]
  },
  {
   "cell_type": "markdown",
   "id": "a791a31d-e66f-4384-b18e-7bddcaa8fe2e",
   "metadata": {},
   "source": [
    "## Variables setup"
   ]
  },
  {
   "cell_type": "code",
   "execution_count": 6,
   "id": "a5923a07-fc94-4eaa-9c88-890a353cf955",
   "metadata": {},
   "outputs": [],
   "source": [
    "imagePath, maskPath = '', ''\n",
    "features, feature_space_element, feature_space = [], {}, {}"
   ]
  },
  {
   "cell_type": "code",
   "execution_count": 15,
   "id": "4e1354ce-b1de-43ce-94b7-a370a116fd65",
   "metadata": {},
   "outputs": [
    {
     "data": {
      "text/plain": [
       "['Liver_40dose_100kVp_1FBP_0-6mm.nii',\n",
       " 'Liver_40dose_100kVp_1FBP_3mm.nii',\n",
       " 'Liver_40dose_120kVp_2FBP_0-6mm.nii',\n",
       " 'Liver_40dose_100kVp_1Safire_0-6mm.nii',\n",
       " 'Liver_40dose_120kVp_1Safire_0-6mm.nii',\n",
       " 'Liver_40dose_120kVp_1Safire_1-5mm.nii',\n",
       " 'Liver_40dose_120kVp_2FBP_3mm.nii',\n",
       " 'Liver_40dose_100kVp_1Safire_1-5mm.nii',\n",
       " 'Liver_40dose_120kVp_2FBP_1-5mm.nii',\n",
       " 'Liver_40dose_100kVp_1FBP_1-5mm.nii',\n",
       " 'Liver_40dose_120kVp_1FBP_3mm.nii',\n",
       " 'Liver_40dose_120kVp_2Safire_0-6mm.nii',\n",
       " 'Liver_40dose_120kVp_1FBP_1-5mm.nii',\n",
       " 'Liver_40dose_100kVp_2Safire_0-6mm.nii',\n",
       " 'Liver_40dose_100kVp_2FBP_1-5mm.nii',\n",
       " 'Liver_40dose_100kVp_2Safire_3mm.nii',\n",
       " 'Liver_40dose_100kVp_2FBP_0-6mm.nii',\n",
       " 'Liver_40dose_100kVp_2Safire_1-5mm.nii',\n",
       " 'Liver_40dose_120kVp_2Safire_3mm.nii',\n",
       " 'Liver_40dose_120kVp_1FBP_0-6mm.nii',\n",
       " 'Liver_40dose_120kVp_2Safire_1-5mm.nii',\n",
       " 'Liver_40dose_120kVp_1Safire_3mm.nii',\n",
       " 'Liver_40dose_100kVp_1Safire_3mm.nii',\n",
       " 'Liver_40dose_100kVp_2FBP_3mm.nii']"
      ]
     },
     "execution_count": 15,
     "metadata": {},
     "output_type": "execute_result"
    }
   ],
   "source": [
    "liver_images = os.listdir(path + '/Images/Liver/Liver_40dose/')\n",
    "\n",
    "# remove .DS_Store\n",
    "liver_images.remove('.DS_Store')\n",
    "\n",
    "liver_images"
   ]
  },
  {
   "cell_type": "code",
   "execution_count": 16,
   "id": "1625156a-4112-4926-be0a-e560603f54a6",
   "metadata": {},
   "outputs": [
    {
     "data": {
      "text/plain": [
       "['Liver_100kVp_2Safire_1-5mm.nii',\n",
       " 'Liver_100kVp_2FBP_3mm.nii',\n",
       " 'Liver_100kVp_1FBP_1-5mm.nii',\n",
       " 'Liver_120kVp_2Safire_1-5mm.nii',\n",
       " 'Liver_120kVp_2FBP_1-5mm.nii',\n",
       " 'Liver_120kVp_2FBP_0-6mm.nii',\n",
       " 'Liver_120kVp_2Safire_0-6mm.nii',\n",
       " 'Liver_100kVp_1FBP_0-6mm.nii',\n",
       " 'Liver_120kVp_1FBP_3mm.nii',\n",
       " 'Liver_100kVp_2Safire_0-6mm.nii',\n",
       " 'Liver_120kVp_1Safire_1-5mm.nii',\n",
       " 'Liver_120kVp_1FBP_0-6mm.nii',\n",
       " 'Liver_100kVp_2FBP_0-6mm.nii',\n",
       " 'Liver_120kVp_2FBP_3mm.nii',\n",
       " 'Liver_100kVp_1Safire_1-5mm.nii',\n",
       " 'Liver_120kVp_2Safire_3mm.nii',\n",
       " 'Liver_100kVp_1Safire_0-6mm.nii',\n",
       " 'Liver_100kVp_2Safire_3mm.nii',\n",
       " 'Liver_100kVp_1Safire_3mm.nii',\n",
       " 'Liver_100kVp_1FBP_3mm.nii',\n",
       " 'Liver_100kVp_2FBP_1-5mm.nii',\n",
       " 'Liver_120kVp_1FBP_1-5mm.nii',\n",
       " 'Liver_120kVp_1Safire_3mm.nii',\n",
       " 'Liver_120kVp_1Safire_0-6mm.nii']"
      ]
     },
     "execution_count": 16,
     "metadata": {},
     "output_type": "execute_result"
    }
   ],
   "source": [
    "masks = os.listdir(path + '/Liver_masks/')\n",
    "\n",
    "# remove .DS_Store\n",
    "masks.remove('.DS_Store')\n",
    "\n",
    "masks"
   ]
  }
 ],
 "metadata": {
  "kernelspec": {
   "display_name": "Python 3 (ipykernel)",
   "language": "python",
   "name": "python3"
  },
  "language_info": {
   "codemirror_mode": {
    "name": "ipython",
    "version": 3
   },
   "file_extension": ".py",
   "mimetype": "text/x-python",
   "name": "python",
   "nbconvert_exporter": "python",
   "pygments_lexer": "ipython3",
   "version": "3.11.4"
  }
 },
 "nbformat": 4,
 "nbformat_minor": 5
}
