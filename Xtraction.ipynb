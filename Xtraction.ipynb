{
 "cells": [
  {
   "cell_type": "code",
   "execution_count": 1,
   "id": "a3370056-d901-4119-9137-eb03c3fdc305",
   "metadata": {},
   "outputs": [],
   "source": [
    "import os\n",
    "import six\n",
    "import pandas as pd\n",
    "import radiomics\n",
    "from radiomics import featureextractor"
   ]
  },
  {
   "cell_type": "code",
   "execution_count": 2,
   "id": "798840f0-bc37-421f-b5a0-b4864875478e",
   "metadata": {},
   "outputs": [],
   "source": [
    "path = os.getcwd()"
   ]
  },
  {
   "cell_type": "code",
   "execution_count": 3,
   "id": "2920e8a1-3217-480f-820c-e6ab754d095f",
   "metadata": {},
   "outputs": [
    {
     "data": {
      "text/plain": [
       "'/Users/andrewturangan/Local/BME 528/Feature Extraction'"
      ]
     },
     "execution_count": 3,
     "metadata": {},
     "output_type": "execute_result"
    }
   ],
   "source": [
    "path"
   ]
  },
  {
   "cell_type": "code",
   "execution_count": 4,
   "id": "0eed8a31-2075-4bbc-aaaf-078c90944572",
   "metadata": {},
   "outputs": [
    {
     "name": "stdout",
     "output_type": "stream",
     "text": [
      "Extraction parameters:\n",
      "\t {'minimumROIDimensions': 2, 'minimumROISize': None, 'normalize': False, 'normalizeScale': 1, 'removeOutliers': None, 'resampledPixelSpacing': None, 'interpolator': 'sitkBSpline', 'preCrop': False, 'padDistance': 5, 'distances': [1], 'force2D': False, 'force2Ddimension': 0, 'resegmentRange': None, 'label': 1, 'additionalInfo': True}\n",
      "Enabled filters:\n",
      "\t {'Original': {}}\n",
      "Enabled features:\n",
      "\t {'firstorder': [], 'glcm': [], 'gldm': [], 'glrlm': [], 'glszm': [], 'ngtdm': [], 'shape': []}\n"
     ]
    }
   ],
   "source": [
    "# Instantiate the extractor\n",
    "extractor = featureextractor.RadiomicsFeatureExtractor()\n",
    "\n",
    "print('Extraction parameters:\\n\\t', extractor.settings)\n",
    "print('Enabled filters:\\n\\t', extractor.enabledImagetypes)\n",
    "print('Enabled features:\\n\\t', extractor.enabledFeatures)"
   ]
  },
  {
   "cell_type": "markdown",
   "id": "9f6e12df-09c9-47b9-a315-65c62f91ac78",
   "metadata": {},
   "source": [
    "## Water"
   ]
  },
  {
   "cell_type": "code",
   "execution_count": 5,
   "id": "25c92535-8c02-4bad-a18d-e05446d706f4",
   "metadata": {},
   "outputs": [],
   "source": [
    "imagePath, maskPath = '', ''\n",
    "features, feature_space_element, feature_space = [], {}, {}"
   ]
  },
  {
   "cell_type": "code",
   "execution_count": 6,
   "id": "4b95db6a-fb48-4e64-92f9-25e10732f3d4",
   "metadata": {},
   "outputs": [],
   "source": [
    "water_images = os.listdir(path + '/Images/Water/Water_40dose/')"
   ]
  },
  {
   "cell_type": "code",
   "execution_count": null,
   "id": "d4897413-9169-44e4-9e27-e8e4c9302334",
   "metadata": {},
   "outputs": [
    {
     "name": "stdout",
     "output_type": "stream",
     "text": [
      "Water_100kVp_1FBP_3mm.nii \t Mask_Water_3mm.nii\n"
     ]
    },
    {
     "name": "stderr",
     "output_type": "stream",
     "text": [
      "GLCM is symmetrical, therefore Sum Average = 2 * Joint Average, only 1 needs to be calculated\n"
     ]
    },
    {
     "name": "stdout",
     "output_type": "stream",
     "text": [
      "Water_120kVp_2Safire_3mm.nii \t Mask_Water_3mm.nii\n"
     ]
    },
    {
     "name": "stderr",
     "output_type": "stream",
     "text": [
      "GLCM is symmetrical, therefore Sum Average = 2 * Joint Average, only 1 needs to be calculated\n"
     ]
    },
    {
     "name": "stdout",
     "output_type": "stream",
     "text": [
      "Water_100kVp_2Safire_3mm.nii \t Mask_Water_3mm.nii\n"
     ]
    },
    {
     "name": "stderr",
     "output_type": "stream",
     "text": [
      "GLCM is symmetrical, therefore Sum Average = 2 * Joint Average, only 1 needs to be calculated\n"
     ]
    },
    {
     "name": "stdout",
     "output_type": "stream",
     "text": [
      "Water_100kVp_1Safire_0-6mm.nii \t Mask_Water_0-6mm.nii\n"
     ]
    },
    {
     "name": "stderr",
     "output_type": "stream",
     "text": [
      "GLCM is symmetrical, therefore Sum Average = 2 * Joint Average, only 1 needs to be calculated\n"
     ]
    },
    {
     "name": "stdout",
     "output_type": "stream",
     "text": [
      "Water_100kVp_1Safire_3mm.nii \t Mask_Water_3mm.nii\n"
     ]
    },
    {
     "name": "stderr",
     "output_type": "stream",
     "text": [
      "GLCM is symmetrical, therefore Sum Average = 2 * Joint Average, only 1 needs to be calculated\n"
     ]
    },
    {
     "name": "stdout",
     "output_type": "stream",
     "text": [
      "Water_100kVp_2FBP_1-5mm.nii \t Mask_Water_1-5mm.nii\n"
     ]
    },
    {
     "name": "stderr",
     "output_type": "stream",
     "text": [
      "GLCM is symmetrical, therefore Sum Average = 2 * Joint Average, only 1 needs to be calculated\n"
     ]
    },
    {
     "name": "stdout",
     "output_type": "stream",
     "text": [
      "Water_120kVp_1Safire_3mm.nii \t Mask_Water_3mm.nii\n"
     ]
    },
    {
     "name": "stderr",
     "output_type": "stream",
     "text": [
      "GLCM is symmetrical, therefore Sum Average = 2 * Joint Average, only 1 needs to be calculated\n"
     ]
    },
    {
     "name": "stdout",
     "output_type": "stream",
     "text": [
      "Water_120kVp_1FBP_1-5mm.nii \t Mask_Water_1-5mm.nii\n"
     ]
    },
    {
     "name": "stderr",
     "output_type": "stream",
     "text": [
      "GLCM is symmetrical, therefore Sum Average = 2 * Joint Average, only 1 needs to be calculated\n"
     ]
    },
    {
     "name": "stdout",
     "output_type": "stream",
     "text": [
      "Water_120kVp_1Safire_0-6mm.nii \t Mask_Water_0-6mm.nii\n"
     ]
    },
    {
     "name": "stderr",
     "output_type": "stream",
     "text": [
      "GLCM is symmetrical, therefore Sum Average = 2 * Joint Average, only 1 needs to be calculated\n"
     ]
    },
    {
     "name": "stdout",
     "output_type": "stream",
     "text": [
      "Water_120kVp_1FBP_0-6mm.nii \t Mask_Water_0-6mm.nii\n"
     ]
    },
    {
     "name": "stderr",
     "output_type": "stream",
     "text": [
      "GLCM is symmetrical, therefore Sum Average = 2 * Joint Average, only 1 needs to be calculated\n"
     ]
    },
    {
     "name": "stdout",
     "output_type": "stream",
     "text": [
      "Water_120kVp_1Safire_1-5mm.nii \t Mask_Water_1-5mm.nii\n"
     ]
    },
    {
     "name": "stderr",
     "output_type": "stream",
     "text": [
      "GLCM is symmetrical, therefore Sum Average = 2 * Joint Average, only 1 needs to be calculated\n"
     ]
    },
    {
     "name": "stdout",
     "output_type": "stream",
     "text": [
      "Water_100kVp_2FBP_0-6mm.nii \t Mask_Water_0-6mm.nii\n"
     ]
    },
    {
     "name": "stderr",
     "output_type": "stream",
     "text": [
      "GLCM is symmetrical, therefore Sum Average = 2 * Joint Average, only 1 needs to be calculated\n"
     ]
    },
    {
     "name": "stdout",
     "output_type": "stream",
     "text": [
      "Water_100kVp_1Safire_1-5mm.nii \t Mask_Water_1-5mm.nii\n"
     ]
    },
    {
     "name": "stderr",
     "output_type": "stream",
     "text": [
      "GLCM is symmetrical, therefore Sum Average = 2 * Joint Average, only 1 needs to be calculated\n"
     ]
    },
    {
     "name": "stdout",
     "output_type": "stream",
     "text": [
      "Water_120kVp_2FBP_3mm.nii \t Mask_Water_3mm.nii\n"
     ]
    },
    {
     "name": "stderr",
     "output_type": "stream",
     "text": [
      "GLCM is symmetrical, therefore Sum Average = 2 * Joint Average, only 1 needs to be calculated\n"
     ]
    },
    {
     "name": "stdout",
     "output_type": "stream",
     "text": [
      "Water_120kVp_2FBP_0-6mm.nii \t Mask_special.nii\n"
     ]
    },
    {
     "name": "stderr",
     "output_type": "stream",
     "text": [
      "GLCM is symmetrical, therefore Sum Average = 2 * Joint Average, only 1 needs to be calculated\n"
     ]
    },
    {
     "name": "stdout",
     "output_type": "stream",
     "text": [
      "Water_100kVp_1FBP_0-6mm.nii \t Mask_Water_0-6mm.nii\n"
     ]
    }
   ],
   "source": [
    "first = True\n",
    "for img in water_images:\n",
    "    if img.startswith('Water_'):\n",
    "        imagePath = img\n",
    "        if '0-6mm' in img:\n",
    "            maskPath = 'Mask_Water_0-6mm.nii'\n",
    "        elif '1-5mm' in img:\n",
    "            maskPath = 'Mask_Water_1-5mm.nii'\n",
    "        else:\n",
    "            maskPath = 'Mask_Water_3mm.nii'\n",
    "        if img == 'Water_120kVp_2FBP_0-6mm.nii': # 40dose only\n",
    "            maskPath = 'Mask_special.nii'\n",
    "        print(imagePath, '\\t', maskPath)\n",
    "        result = extractor.execute(path + '/Images/Water/Water_40dose/' + imagePath, maskPath)\n",
    "        if first:\n",
    "            features = list(result.keys())[22:]\n",
    "            first = False\n",
    "        feature_space_element = {}\n",
    "        for key, value in six.iteritems(result):\n",
    "            if key in features:\n",
    "                feature_space_element[key] = value\n",
    "        feature_space[img[:-4]] = feature_space_element"
   ]
  },
  {
   "cell_type": "code",
   "execution_count": null,
   "id": "39eb171c-14bc-433b-acd9-cf88d80ea663",
   "metadata": {},
   "outputs": [],
   "source": [
    "feature_space"
   ]
  },
  {
   "cell_type": "code",
   "execution_count": null,
   "id": "c47792f5-4ab6-4061-aef3-141c89cca17f",
   "metadata": {},
   "outputs": [],
   "source": [
    "df = pd.DataFrame.from_dict(feature_space)"
   ]
  },
  {
   "cell_type": "code",
   "execution_count": null,
   "id": "4dd1568f-6bb9-4fb7-90ef-658334a81fe3",
   "metadata": {},
   "outputs": [],
   "source": [
    "df.to_csv('Water_40dose.csv')"
   ]
  },
  {
   "cell_type": "code",
   "execution_count": null,
   "id": "e147f3d1-9c69-4e33-8a6b-623bc47dbf95",
   "metadata": {},
   "outputs": [],
   "source": []
  },
  {
   "cell_type": "code",
   "execution_count": null,
   "id": "5d380215-3670-4032-8bee-fe1529bfae8d",
   "metadata": {},
   "outputs": [],
   "source": []
  }
 ],
 "metadata": {
  "kernelspec": {
   "display_name": "Python 3 (ipykernel)",
   "language": "python",
   "name": "python3"
  },
  "language_info": {
   "codemirror_mode": {
    "name": "ipython",
    "version": 3
   },
   "file_extension": ".py",
   "mimetype": "text/x-python",
   "name": "python",
   "nbconvert_exporter": "python",
   "pygments_lexer": "ipython3",
   "version": "3.11.4"
  }
 },
 "nbformat": 4,
 "nbformat_minor": 5
}
